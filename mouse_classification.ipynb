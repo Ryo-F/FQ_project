{
 "cells": [
  {
   "cell_type": "markdown",
   "metadata": {
    "toc": "true"
   },
   "source": [
    " # Table of Contents\n",
    "<div class=\"toc\" style=\"margin-top: 1em;\"><ul class=\"toc-item\"><li><span><a href=\"#Import-modules-classes\" data-toc-modified-id=\"Import-modules-classes-1\"><span class=\"toc-item-num\">1&nbsp;&nbsp;</span>Import modules classes</a></span></li><li><span><a href=\"#create-database\" data-toc-modified-id=\"create-database-2\"><span class=\"toc-item-num\">2&nbsp;&nbsp;</span>create database</a></span></li><li><span><a href=\"#Valuation\" data-toc-modified-id=\"Valuation-3\"><span class=\"toc-item-num\">3&nbsp;&nbsp;</span>Valuation</a></span></li><li><span><a href=\"#可視化\" data-toc-modified-id=\"可視化-4\"><span class=\"toc-item-num\">4&nbsp;&nbsp;</span>可視化</a></span></li></ul></div>"
   ]
  },
  {
   "cell_type": "code",
   "execution_count": null,
   "metadata": {
    "collapsed": true
   },
   "outputs": [],
   "source": [
    "BASEFILE = 'Movie2/'"
   ]
  },
  {
   "cell_type": "markdown",
   "metadata": {
    "heading_collapsed": true
   },
   "source": [
    "### Import modules classes"
   ]
  },
  {
   "cell_type": "code",
   "execution_count": 2,
   "metadata": {
    "ExecuteTime": {
     "end_time": "2019-01-31T05:13:09.368759Z",
     "start_time": "2019-01-31T05:13:07.542588Z"
    },
    "hidden": true
   },
   "outputs": [
    {
     "name": "stdout",
     "output_type": "stream",
     "text": [
      "frame: 65401.0\n",
      "fps: 15.019976568836553\n",
      "4354.267778\n"
     ]
    }
   ],
   "source": [
    "import pandas as pd\n",
    "import datetime\n",
    "import cv2\n",
    "import pickle\n",
    "import numpy as np\n",
    "import time\n",
    "from tqdm import tqdm\n",
    "from sklearn.ensemble import RandomForestRegressor\n",
    "from sklearn.ensemble import AdaBoostClassifier\n",
    "from matplotlib import pyplot as plt\n",
    "from sklearn.model_selection import cross_val_score\n",
    "from sklearn.preprocessing import StandardScaler\n",
    "\n",
    "from scipy import stats\n",
    "from collections import Counter\n",
    "\n",
    "%matplotlib inline\n",
    "\n",
    "# ビデオの読み込み(VideoCapture()に動画ファイルを指定したパターン)\n",
    "video = cv2.VideoCapture(\"mouse.avi\")\n",
    "cap = cv2.VideoCapture(\"mouse.avi\")            # 動画を読み込む\n",
    "video_frame = cap.get(cv2.CAP_PROP_FRAME_COUNT) # フレーム数を取得する\n",
    "print('frame:', video_frame)\n",
    "video_fps = cap.get(cv2.CAP_PROP_FPS)           # FPS を取得する\n",
    "print('fps:', video_fps)\n",
    "video_len_sec = video_frame / video_fps         # 長さ（秒）を計算する\n",
    "print(video_len_sec)                            # 長さ（秒）を出力する\n"
   ]
  },
  {
   "cell_type": "markdown",
   "metadata": {
    "heading_collapsed": true
   },
   "source": [
    "### create database"
   ]
  },
  {
   "cell_type": "code",
   "execution_count": 18,
   "metadata": {
    "ExecuteTime": {
     "end_time": "2019-01-31T08:48:11.170249Z",
     "start_time": "2019-01-31T08:48:11.106044Z"
    },
    "collapsed": true,
    "hidden": true
   },
   "outputs": [],
   "source": [
    "def create_df_from_pickle(pickle_file, flag_df):\n",
    "    with open(BASEFILE + pickle_file, 'rb') as f:\n",
    "        results_ = pickle.load(f)\n",
    "    if len(results_[0]) == 6:\n",
    "        results = pd.DataFrame(columns=['movie', 'count', 'th30','th50','th100', 'th150'], data=results_)\n",
    "    else:\n",
    "        results = pd.DataFrame(columns=['movie', 'count', 'th50', 'th100'], data=results_)\n",
    "    start_time = datetime.datetime.strptime(pickle_file , 'video_Record-%Y-%m-%d_%H-%M-%S.avi.pickle')\n",
    "    time_per_frame =  datetime.timedelta(seconds= 1/ video_fps)\n",
    "    results['datetime'] = [start_time + time_per_frame * (i+1)  for i in results.index]\n",
    "    frame_flag_dates = []\n",
    "    flags = []\n",
    "    for frame_date in tqdm(results['datetime'].values):\n",
    "        frame_flag_date = pd.to_datetime(frame_date) - (pd.to_datetime(frame_date)  - datetime.datetime(2018, 2,15, 8) ) % datetime.timedelta(seconds=8)\n",
    "        flag = flag_df[flag_df['datetime'].isin([frame_flag_date])]['flag'].values\n",
    "        if list(flag) == []:\n",
    "            flags.append(None)\n",
    "        else:\n",
    "            flags.append(flag[0])\n",
    "        frame_flag_dates.append(frame_flag_date)\n",
    "    results['flag_datetime'] = frame_flag_dates\n",
    "    results['flag'] = flags\n",
    "    return results"
   ]
  },
  {
   "cell_type": "code",
   "execution_count": 19,
   "metadata": {
    "ExecuteTime": {
     "end_time": "2019-01-31T08:48:11.673291Z",
     "start_time": "2019-01-31T08:48:11.663247Z"
    },
    "hidden": true
   },
   "outputs": [
    {
     "data": {
      "text/plain": [
       "['Record-2018-02-24_08-13-38.avi',\n",
       " 'Record-2018-02-24_09-25-42.avi',\n",
       " 'Record-2018-02-24_10-36-58.avi',\n",
       " 'Record-2018-02-24_11-47-09.avi',\n",
       " 'Record-2018-02-24_12-57-43.avi']"
      ]
     },
     "execution_count": 19,
     "metadata": {},
     "output_type": "execute_result"
    }
   ],
   "source": [
    "movies"
   ]
  },
  {
   "cell_type": "code",
   "execution_count": 27,
   "metadata": {
    "ExecuteTime": {
     "end_time": "2019-01-31T08:48:41.241190Z",
     "start_time": "2019-01-31T08:48:41.087786Z"
    },
    "collapsed": true,
    "hidden": true
   },
   "outputs": [],
   "source": [
    "BASEFILE = 'Movie5/'\n",
    "movies = !ls $BASEFILE | grep .avi | grep -v pickle\n",
    "pickles =  !ls $BASEFILE | grep .avi | grep  pickle\n",
    "csv_file = !ls $BASEFILE | grep csv\n",
    "_df = pd.read_csv(BASEFILE + csv_file[0], header=6)\n",
    "_df['time'] = ['{}:{}:{}'.format(i*8//3600, ( i * 8 //60) % 60, i * 8 %60) for i in _df.index]\n",
    "_df['flag'] = [0 if flag == 'Wake' else (1 if flag =='REM' else 2) for flag in _df[_df.columns[0]]]\n",
    "_df['datetime'] = [datetime.datetime(2018, 2, 15, 8) +  datetime.timedelta(seconds=i * 8) for i in _df.index]"
   ]
  },
  {
   "cell_type": "code",
   "execution_count": 15,
   "metadata": {
    "ExecuteTime": {
     "end_time": "2019-01-31T06:15:31.154456Z",
     "start_time": "2019-01-31T06:15:31.151747Z"
    },
    "collapsed": true,
    "hidden": true
   },
   "outputs": [],
   "source": [
    "# _df"
   ]
  },
  {
   "cell_type": "code",
   "execution_count": 28,
   "metadata": {
    "ExecuteTime": {
     "end_time": "2019-01-31T08:57:56.728899Z",
     "start_time": "2019-01-31T08:48:42.997782Z"
    },
    "hidden": true
   },
   "outputs": [
    {
     "name": "stderr",
     "output_type": "stream",
     "text": [
      "100%|██████████| 64923/64923 [01:32<00:00, 699.08it/s]\n",
      "100%|██████████| 64180/64180 [01:29<00:00, 717.90it/s]\n",
      "100%|██████████| 63676/63676 [01:33<00:00, 681.08it/s]\n",
      "100%|██████████| 63602/63602 [01:32<00:00, 689.59it/s]\n",
      "100%|██████████| 64541/64541 [01:44<00:00, 615.87it/s]\n",
      "100%|██████████| 63547/63547 [01:18<00:00, 808.06it/s]\n"
     ]
    }
   ],
   "source": [
    "dfs = [create_df_from_pickle(pickle_file, _df) for pickle_file in pickles]"
   ]
  },
  {
   "cell_type": "code",
   "execution_count": 29,
   "metadata": {
    "ExecuteTime": {
     "end_time": "2019-01-31T08:57:57.024086Z",
     "start_time": "2019-01-31T08:57:56.730349Z"
    },
    "collapsed": true,
    "hidden": true
   },
   "outputs": [],
   "source": [
    "df_merged = pd.concat(dfs)\n",
    "df_merged = df_merged.dropna()\n",
    "df_merged = df_merged[df_merged['th100'] < 10000]\n",
    "df_merged = df_merged[df_merged['th50'] < 40000]\n",
    "with open('video_result_mouse5.pickle', 'wb') as f:\n",
    "    pickle.dump(df_merged, f)\n"
   ]
  },
  {
   "cell_type": "markdown",
   "metadata": {},
   "source": [
    "### Valuation"
   ]
  },
  {
   "cell_type": "code",
   "execution_count": 21,
   "metadata": {
    "ExecuteTime": {
     "end_time": "2019-01-31T08:48:20.324988Z",
     "start_time": "2019-01-31T08:48:20.297922Z"
    }
   },
   "outputs": [
    {
     "data": {
      "text/plain": [
       "['video_result_mouse.pickle',\n",
       " 'video_result_mouse2.pickle',\n",
       " 'video_result_mouse3.pickle',\n",
       " 'video_result_mouse4.pickle',\n",
       " 'video_result_mouse5.pickle']"
      ]
     },
     "execution_count": 21,
     "metadata": {},
     "output_type": "execute_result"
    }
   ],
   "source": [
    "result_list = !ls | grep mouse | grep .pickle\n",
    "result_list"
   ]
  },
  {
   "cell_type": "code",
   "execution_count": 25,
   "metadata": {
    "ExecuteTime": {
     "end_time": "2019-01-31T08:48:27.168678Z",
     "start_time": "2019-01-31T08:48:27.160027Z"
    }
   },
   "outputs": [
    {
     "data": {
      "text/html": [
       "<div>\n",
       "<style scoped>\n",
       "    .dataframe tbody tr th:only-of-type {\n",
       "        vertical-align: middle;\n",
       "    }\n",
       "\n",
       "    .dataframe tbody tr th {\n",
       "        vertical-align: top;\n",
       "    }\n",
       "\n",
       "    .dataframe thead th {\n",
       "        text-align: right;\n",
       "    }\n",
       "</style>\n",
       "<table border=\"1\" class=\"dataframe\">\n",
       "  <thead>\n",
       "    <tr style=\"text-align: right;\">\n",
       "      <th></th>\n",
       "      <th>movie</th>\n",
       "      <th>count</th>\n",
       "      <th>th30</th>\n",
       "      <th>th50</th>\n",
       "      <th>th100</th>\n",
       "      <th>th150</th>\n",
       "      <th>datetime</th>\n",
       "      <th>flag_datetime</th>\n",
       "      <th>flag</th>\n",
       "    </tr>\n",
       "  </thead>\n",
       "  <tbody>\n",
       "  </tbody>\n",
       "</table>\n",
       "</div>"
      ],
      "text/plain": [
       "Empty DataFrame\n",
       "Columns: [movie, count, th30, th50, th100, th150, datetime, flag_datetime, flag]\n",
       "Index: []"
      ]
     },
     "execution_count": 25,
     "metadata": {},
     "output_type": "execute_result"
    }
   ],
   "source": [
    "with open(result_list[4], 'rb') as f:\n",
    "    result = pickle.load(f)\n",
    "result"
   ]
  },
  {
   "cell_type": "code",
   "execution_count": 216,
   "metadata": {
    "ExecuteTime": {
     "end_time": "2019-01-30T02:29:53.650305Z",
     "start_time": "2019-01-30T02:29:48.653280Z"
    },
    "scrolled": true
   },
   "outputs": [
    {
     "name": "stderr",
     "output_type": "stream",
     "text": [
      "/Users/ryof-mbp/.pyenv/versions/anaconda3-4.4.0/lib/python3.6/site-packages/matplotlib/font_manager.py:1297: UserWarning: findfont: Font family ['IPAexGothic'] not found. Falling back to DejaVu Sans\n",
      "  (prop.get_family(), self.defaultFamily[fontext]))\n"
     ]
    },
    {
     "data": {
      "image/png": "[encoded data removed]",
      "text/plain": [
       "<matplotlib.figure.Figure at 0x129cf1f60>"
      ]
     },
     "metadata": {},
     "output_type": "display_data"
    },
    {
     "data": {
      "image/png": "[encoded data removed]",
      "text/plain": [
       "<matplotlib.figure.Figure at 0x12a148470>"
      ]
     },
     "metadata": {},
     "output_type": "display_data"
    },
    {
     "data": {
      "image/png": "[encoded data removed]",
      "text/plain": [
       "<matplotlib.figure.Figure at 0x133ba4fd0>"
      ]
     },
     "metadata": {},
     "output_type": "display_data"
    },
    {
     "data": {
      "image/png": "[encoded data removed]",
      "text/plain": [
       "<matplotlib.figure.Figure at 0x12a141160>"
      ]
     },
     "metadata": {},
     "output_type": "display_data"
    }
   ],
   "source": [
    "result_df_list = []\n",
    "grouped_table_list = []\n",
    "for result in result_list:\n",
    "    with open(result, 'rb') as f:\n",
    "        result = pickle.load(f)\n",
    "    result = result.dropna()\n",
    "    result = result[result['th100'] < 10000]\n",
    "    result = result[result['th50'] < 40000]\n",
    "    result_df_list.append(result)\n",
    "    grouped_table = pd.DataFrame(result.groupby(['flag_datetime'])['th100', 'th50', 'flag'].mean())\n",
    "    grouped_table.plot(y = ['th100', 'th50', 'flag'], subplots=True, figsize=(20,9))\n",
    "    grouped_table_list.append(grouped_table)"
   ]
  },
  {
   "cell_type": "code",
   "execution_count": 218,
   "metadata": {
    "ExecuteTime": {
     "end_time": "2019-01-30T02:36:42.767461Z",
     "start_time": "2019-01-30T02:36:42.322785Z"
    }
   },
   "outputs": [
    {
     "name": "stdout",
     "output_type": "stream",
     "text": [
      "Counter({0.0: 716722, 2.0: 533200, 1.0: 74254})\n",
      "Counter({2.0: 284484, 0.0: 72807, 1.0: 1201})\n",
      "Counter({2: 153496, 0: 36467, 1: 480})\n",
      "Counter({2: 91804, 0: 90081, 1: 8413})\n"
     ]
    }
   ],
   "source": [
    "for result in  result_df_list:\n",
    "    print(Counter(result['flag'].values))"
   ]
  },
  {
   "cell_type": "code",
   "execution_count": 280,
   "metadata": {
    "ExecuteTime": {
     "end_time": "2019-01-30T06:34:21.820194Z",
     "start_time": "2019-01-30T06:34:21.764153Z"
    },
    "collapsed": true
   },
   "outputs": [],
   "source": [
    "def create_classifier_from_xy(x,y, label):\n",
    "    X = scipy.stats.zscore(x)\n",
    "    data_x = pd.DataFrame(X)\n",
    "    clf = AdaBoostClassifier()\n",
    "    clf.fit(data_x, data_y)\n",
    "    scores = cross_val_score(clf, data_x, data_y,cv=5)\n",
    "    print(\"{}::Cross validation scores:{}\".format(label, scores))\n",
    "    print(\"{}::Cross validation scores:{}\".format(label, scores.mean()))\n",
    "    return clf, scores.mean()\n",
    "\n",
    "def create_classifiers(result_dfs):\n",
    "    classifier_dict = {}\n",
    "    classifier_array = []\n",
    "    patterns =  [list(i) for i in combinations(cols, 2)]\n",
    "    for i, result_table in enumerate(result_dfs):\n",
    "        # 8秒毎のグルーピング\n",
    "        grouped_table_median = pd.DataFrame(data=result_table.groupby(['flag_datetime'])['flag', 'th100', 'th50'].median().values, columns=['flag', 'th100_median', 'th50_median', ])\n",
    "        grouped_table_sum = pd.DataFrame(result_table.groupby(['flag_datetime'])['th100', 'th50', ].sum().values, columns=['th100_sum', 'th50_sum'])\n",
    "        grouped_table_min = pd.DataFrame(result_table.groupby(['flag_datetime'])['th100', 'th50', ].min().values, columns=['th100_min', 'th50_min'])\n",
    "        grouped_table_max = pd.DataFrame(result_table.groupby(['flag_datetime'])['th100', 'th50', ].max().values, columns=['th100_max', 'th50_max'])\n",
    "        grouped_table_mean= pd.DataFrame(result_table.groupby(['flag_datetime'])['th100', 'th50', ].mean().values, columns=['th100_mean', 'th50_mean'])\n",
    "        table_merged = pd.concat([grouped_table_median, grouped_table_max, grouped_table_mean, grouped_table_min, grouped_table_sum], axis=1)    \n",
    "        for pattern in tqdm(patterns):\n",
    "            x = table_merged[pattern].values\n",
    "            data_x = pd.DataFrame(x).values\n",
    "            y = table_merged['flag'].values\n",
    "            data_y = pd.DataFrame(y, columns=['target']).values.ravel()\n",
    "            data_y = [1 if i > 0 else 0 for i in data_y]\n",
    "            clf = AdaBoostClassifier()\n",
    "            clf.fit(data_x, data_y)\n",
    "            scores = cross_val_score(clf, data_x, data_y, cv=5)\n",
    "            print(\"{}::Cross validation scores:{}\".format(str(pattern), scores))\n",
    "            print(\"{}::Cross validation scores:{}\".format(str(pattern), scores.mean()))\n",
    "            classifier_dict.update({str(i) + str(pattern) : clf})\n",
    "            classifier_array.append([str(i), str(pattern), clf, data_x, data_y])\n",
    "    classifier_df = pd.DataFrame(data=classifier_array, columns=['source', 'pattern', 'clf', 'x', 'y'])\n",
    "    # classifierの性能診断\n",
    "    results_all = []\n",
    "    for pattern in patterns:\n",
    "        use_rows = classifier_df[[str(pattern) == k  for k in classifier_df['pattern'].values]].values\n",
    "        clf_results = []\n",
    "        for row in use_rows:\n",
    "            clf = row[2]\n",
    "            clf_results.append([clf.score(row[3], row[4]) for row in use_rows])\n",
    "#         classifier_keys = [k for k, v in classifier_dict.items() if pattern in k ]\n",
    "        results_all.append([pattern, clf_results])\n",
    "    return results_all, classifier_df"
   ]
  },
  {
   "cell_type": "code",
   "execution_count": 283,
   "metadata": {
    "ExecuteTime": {
     "end_time": "2019-01-30T06:37:22.597775Z",
     "start_time": "2019-01-30T06:35:15.367756Z"
    }
   },
   "outputs": [
    {
     "name": "stderr",
     "output_type": "stream",
     "text": [
      "  0%|          | 0/45 [00:00<?, ?it/s]/Users/ryof-mbp/.pyenv/versions/anaconda3-4.4.0/lib/python3.6/site-packages/ipykernel_launcher.py:25: FutureWarning: Method .as_matrix will be removed in a future version. Use .values instead.\n",
      "/Users/ryof-mbp/.pyenv/versions/anaconda3-4.4.0/lib/python3.6/site-packages/ipykernel_launcher.py:27: FutureWarning: Method .as_matrix will be removed in a future version. Use .values instead.\n",
      "  2%|▏         | 1/45 [00:01<00:49,  1.12s/it]"
     ]
    },
    {
     "name": "stdout",
     "output_type": "stream",
     "text": [
      "['th100_median', 'th50_median']::Cross validation scores:[0.92972247 0.95120859 0.97268249 0.95656068 0.95118674]\n",
      "['th100_median', 'th50_median']::Cross validation scores:0.9522721960532599\n"
     ]
    },
    {
     "name": "stderr",
     "output_type": "stream",
     "text": [
      "/Users/ryof-mbp/.pyenv/versions/anaconda3-4.4.0/lib/python3.6/site-packages/ipykernel_launcher.py:25: FutureWarning: Method .as_matrix will be removed in a future version. Use .values instead.\n",
      "/Users/ryof-mbp/.pyenv/versions/anaconda3-4.4.0/lib/python3.6/site-packages/ipykernel_launcher.py:27: FutureWarning: Method .as_matrix will be removed in a future version. Use .values instead.\n",
      "  4%|▍         | 2/45 [00:02<00:46,  1.09s/it]"
     ]
    },
    {
     "name": "stdout",
     "output_type": "stream",
     "text": [
      "['th100_median', 'th100_max']::Cross validation scores:[0.91316025 0.9301701  0.97402597 0.9632781  0.96462159]\n",
      "['th100_median', 'th100_max']::Cross validation scores:0.9490512019391716\n"
     ]
    },
    {
     "name": "stderr",
     "output_type": "stream",
     "text": [
      "/Users/ryof-mbp/.pyenv/versions/anaconda3-4.4.0/lib/python3.6/site-packages/ipykernel_launcher.py:25: FutureWarning: Method .as_matrix will be removed in a future version. Use .values instead.\n",
      "/Users/ryof-mbp/.pyenv/versions/anaconda3-4.4.0/lib/python3.6/site-packages/ipykernel_launcher.py:27: FutureWarning: Method .as_matrix will be removed in a future version. Use .values instead.\n",
      "  7%|▋         | 3/45 [00:03<00:45,  1.09s/it]"
     ]
    },
    {
     "name": "stdout",
     "output_type": "stream",
     "text": [
      "['th100_median', 'th50_max']::Cross validation scores:[0.91181737 0.92972247 0.97357815 0.96059113 0.96372593]\n",
      "['th100_median', 'th50_max']::Cross validation scores:0.9478870094188219\n"
     ]
    },
    {
     "name": "stderr",
     "output_type": "stream",
     "text": [
      "/Users/ryof-mbp/.pyenv/versions/anaconda3-4.4.0/lib/python3.6/site-packages/ipykernel_launcher.py:25: FutureWarning: Method .as_matrix will be removed in a future version. Use .values instead.\n",
      "/Users/ryof-mbp/.pyenv/versions/anaconda3-4.4.0/lib/python3.6/site-packages/ipykernel_launcher.py:27: FutureWarning: Method .as_matrix will be removed in a future version. Use .values instead.\n",
      "  9%|▉         | 4/45 [00:04<00:44,  1.09s/it]"
     ]
    },
    {
     "name": "stdout",
     "output_type": "stream",
     "text": [
      "['th100_median', 'th100_mean']::Cross validation scores:[0.91316025 0.9301701  0.97357815 0.9632781  0.96417376]\n",
      "['th100_median', 'th100_mean']::Cross validation scores:0.9488720707255576\n"
     ]
    },
    {
     "name": "stderr",
     "output_type": "stream",
     "text": [
      "/Users/ryof-mbp/.pyenv/versions/anaconda3-4.4.0/lib/python3.6/site-packages/ipykernel_launcher.py:25: FutureWarning: Method .as_matrix will be removed in a future version. Use .values instead.\n",
      "/Users/ryof-mbp/.pyenv/versions/anaconda3-4.4.0/lib/python3.6/site-packages/ipykernel_launcher.py:27: FutureWarning: Method .as_matrix will be removed in a future version. Use .values instead.\n",
      " 11%|█         | 5/45 [00:05<00:44,  1.10s/it]"
     ]
    },
    {
     "name": "stdout",
     "output_type": "stream",
     "text": [
      "['th100_median', 'th50_mean']::Cross validation scores:[0.91316025 0.9301701  0.97492163 0.96238245 0.96417376]\n",
      "['th100_median', 'th50_mean']::Cross validation scores:0.9489616363323645\n"
     ]
    },
    {
     "name": "stderr",
     "output_type": "stream",
     "text": [
      "/Users/ryof-mbp/.pyenv/versions/anaconda3-4.4.0/lib/python3.6/site-packages/ipykernel_launcher.py:25: FutureWarning: Method .as_matrix will be removed in a future version. Use .values instead.\n",
      "/Users/ryof-mbp/.pyenv/versions/anaconda3-4.4.0/lib/python3.6/site-packages/ipykernel_launcher.py:27: FutureWarning: Method .as_matrix will be removed in a future version. Use .values instead.\n",
      " 13%|█▎        | 6/45 [00:06<00:41,  1.08s/it]"
     ]
    },
    {
     "name": "stdout",
     "output_type": "stream",
     "text": [
      "['th100_median', 'th100_min']::Cross validation scores:[0.91316025 0.9301701  0.97357815 0.9632781  0.96417376]\n",
      "['th100_median', 'th100_min']::Cross validation scores:0.9488720707255576\n"
     ]
    },
    {
     "name": "stderr",
     "output_type": "stream",
     "text": [
      "/Users/ryof-mbp/.pyenv/versions/anaconda3-4.4.0/lib/python3.6/site-packages/ipykernel_launcher.py:25: FutureWarning: Method .as_matrix will be removed in a future version. Use .values instead.\n",
      "/Users/ryof-mbp/.pyenv/versions/anaconda3-4.4.0/lib/python3.6/site-packages/ipykernel_launcher.py:27: FutureWarning: Method .as_matrix will be removed in a future version. Use .values instead.\n",
      " 16%|█▌        | 7/45 [00:07<00:40,  1.07s/it]"
     ]
    },
    {
     "name": "stdout",
     "output_type": "stream",
     "text": [
      "['th100_median', 'th50_min']::Cross validation scores:[0.93285586 0.95389436 0.98343036 0.97044335 0.97357815]\n",
      "['th100_median', 'th50_min']::Cross validation scores:0.9628404164600257\n"
     ]
    },
    {
     "name": "stderr",
     "output_type": "stream",
     "text": [
      "/Users/ryof-mbp/.pyenv/versions/anaconda3-4.4.0/lib/python3.6/site-packages/ipykernel_launcher.py:25: FutureWarning: Method .as_matrix will be removed in a future version. Use .values instead.\n",
      "/Users/ryof-mbp/.pyenv/versions/anaconda3-4.4.0/lib/python3.6/site-packages/ipykernel_launcher.py:27: FutureWarning: Method .as_matrix will be removed in a future version. Use .values instead.\n",
      " 18%|█▊        | 8/45 [00:08<00:39,  1.07s/it]"
     ]
    },
    {
     "name": "stdout",
     "output_type": "stream",
     "text": [
      "['th100_median', 'th100_sum']::Cross validation scores:[0.91316025 0.9301701  0.9744738  0.9632781  0.96417376]\n",
      "['th100_median', 'th100_sum']::Cross validation scores:0.9490512019391716\n"
     ]
    },
    {
     "name": "stderr",
     "output_type": "stream",
     "text": [
      "/Users/ryof-mbp/.pyenv/versions/anaconda3-4.4.0/lib/python3.6/site-packages/ipykernel_launcher.py:25: FutureWarning: Method .as_matrix will be removed in a future version. Use .values instead.\n",
      "/Users/ryof-mbp/.pyenv/versions/anaconda3-4.4.0/lib/python3.6/site-packages/ipykernel_launcher.py:27: FutureWarning: Method .as_matrix will be removed in a future version. Use .values instead.\n",
      " 20%|██        | 9/45 [00:09<00:38,  1.07s/it]"
     ]
    },
    {
     "name": "stdout",
     "output_type": "stream",
     "text": [
      "['th100_median', 'th50_sum']::Cross validation scores:[0.91316025 0.9301701  0.9744738  0.96238245 0.96417376]\n",
      "['th100_median', 'th50_sum']::Cross validation scores:0.9488720707255578\n"
     ]
    },
    {
     "name": "stderr",
     "output_type": "stream",
     "text": [
      "/Users/ryof-mbp/.pyenv/versions/anaconda3-4.4.0/lib/python3.6/site-packages/ipykernel_launcher.py:25: FutureWarning: Method .as_matrix will be removed in a future version. Use .values instead.\n",
      "/Users/ryof-mbp/.pyenv/versions/anaconda3-4.4.0/lib/python3.6/site-packages/ipykernel_launcher.py:27: FutureWarning: Method .as_matrix will be removed in a future version. Use .values instead.\n",
      " 22%|██▏       | 10/45 [00:10<00:37,  1.08s/it]"
     ]
    },
    {
     "name": "stdout",
     "output_type": "stream",
     "text": [
      "['th50_median', 'th100_max']::Cross validation scores:[0.92882722 0.95120859 0.97357815 0.9601433  0.95611285]\n",
      "['th50_median', 'th100_max']::Cross validation scores:0.9539740227666631\n"
     ]
    },
    {
     "name": "stderr",
     "output_type": "stream",
     "text": [
      "/Users/ryof-mbp/.pyenv/versions/anaconda3-4.4.0/lib/python3.6/site-packages/ipykernel_launcher.py:25: FutureWarning: Method .as_matrix will be removed in a future version. Use .values instead.\n",
      "/Users/ryof-mbp/.pyenv/versions/anaconda3-4.4.0/lib/python3.6/site-packages/ipykernel_launcher.py:27: FutureWarning: Method .as_matrix will be removed in a future version. Use .values instead.\n",
      " 24%|██▍       | 11/45 [00:11<00:36,  1.09s/it]"
     ]
    },
    {
     "name": "stdout",
     "output_type": "stream",
     "text": [
      "['th50_median', 'th50_max']::Cross validation scores:[0.92972247 0.9529991  0.97268249 0.9601433  0.95790416]\n",
      "['th50_median', 'th50_max']::Cross validation scores:0.9546903070689075\n"
     ]
    },
    {
     "name": "stderr",
     "output_type": "stream",
     "text": [
      "/Users/ryof-mbp/.pyenv/versions/anaconda3-4.4.0/lib/python3.6/site-packages/ipykernel_launcher.py:25: FutureWarning: Method .as_matrix will be removed in a future version. Use .values instead.\n",
      "/Users/ryof-mbp/.pyenv/versions/anaconda3-4.4.0/lib/python3.6/site-packages/ipykernel_launcher.py:27: FutureWarning: Method .as_matrix will be removed in a future version. Use .values instead.\n",
      " 27%|██▋       | 12/45 [00:13<00:36,  1.09s/it]"
     ]
    },
    {
     "name": "stdout",
     "output_type": "stream",
     "text": [
      "['th50_median', 'th100_mean']::Cross validation scores:[0.92972247 0.95120859 0.97268249 0.95566502 0.95118674]\n",
      "['th50_median', 'th100_mean']::Cross validation scores:0.9520930648396458\n"
     ]
    },
    {
     "name": "stderr",
     "output_type": "stream",
     "text": [
      "/Users/ryof-mbp/.pyenv/versions/anaconda3-4.4.0/lib/python3.6/site-packages/ipykernel_launcher.py:25: FutureWarning: Method .as_matrix will be removed in a future version. Use .values instead.\n",
      "/Users/ryof-mbp/.pyenv/versions/anaconda3-4.4.0/lib/python3.6/site-packages/ipykernel_launcher.py:27: FutureWarning: Method .as_matrix will be removed in a future version. Use .values instead.\n",
      " 29%|██▉       | 13/45 [00:14<00:35,  1.10s/it]"
     ]
    },
    {
     "name": "stdout",
     "output_type": "stream",
     "text": [
      "['th50_median', 'th50_mean']::Cross validation scores:[0.93688451 0.95120859 0.97268249 0.95611285 0.95118674]\n",
      "['th50_median', 'th50_mean']::Cross validation scores:0.9536150386828002\n"
     ]
    },
    {
     "name": "stderr",
     "output_type": "stream",
     "text": [
      "/Users/ryof-mbp/.pyenv/versions/anaconda3-4.4.0/lib/python3.6/site-packages/ipykernel_launcher.py:25: FutureWarning: Method .as_matrix will be removed in a future version. Use .values instead.\n",
      "/Users/ryof-mbp/.pyenv/versions/anaconda3-4.4.0/lib/python3.6/site-packages/ipykernel_launcher.py:27: FutureWarning: Method .as_matrix will be removed in a future version. Use .values instead.\n",
      " 31%|███       | 14/45 [00:15<00:33,  1.09s/it]"
     ]
    },
    {
     "name": "stdout",
     "output_type": "stream",
     "text": [
      "['th50_median', 'th100_min']::Cross validation scores:[0.92972247 0.95120859 0.97268249 0.95566502 0.95118674]\n",
      "['th50_median', 'th100_min']::Cross validation scores:0.9520930648396458\n"
     ]
    },
    {
     "name": "stderr",
     "output_type": "stream",
     "text": [
      "/Users/ryof-mbp/.pyenv/versions/anaconda3-4.4.0/lib/python3.6/site-packages/ipykernel_launcher.py:25: FutureWarning: Method .as_matrix will be removed in a future version. Use .values instead.\n",
      "/Users/ryof-mbp/.pyenv/versions/anaconda3-4.4.0/lib/python3.6/site-packages/ipykernel_launcher.py:27: FutureWarning: Method .as_matrix will be removed in a future version. Use .values instead.\n",
      " 33%|███▎      | 15/45 [00:16<00:32,  1.09s/it]"
     ]
    },
    {
     "name": "stdout",
     "output_type": "stream",
     "text": [
      "['th50_median', 'th50_min']::Cross validation scores:[0.93375112 0.95434199 0.98298253 0.97268249 0.97402597]\n",
      "['th50_median', 'th50_min']::Cross validation scores:0.9635568210383758\n"
     ]
    },
    {
     "name": "stderr",
     "output_type": "stream",
     "text": [
      "/Users/ryof-mbp/.pyenv/versions/anaconda3-4.4.0/lib/python3.6/site-packages/ipykernel_launcher.py:25: FutureWarning: Method .as_matrix will be removed in a future version. Use .values instead.\n",
      "/Users/ryof-mbp/.pyenv/versions/anaconda3-4.4.0/lib/python3.6/site-packages/ipykernel_launcher.py:27: FutureWarning: Method .as_matrix will be removed in a future version. Use .values instead.\n",
      " 36%|███▌      | 16/45 [00:17<00:31,  1.09s/it]"
     ]
    },
    {
     "name": "stdout",
     "output_type": "stream",
     "text": [
      "['th50_median', 'th100_sum']::Cross validation scores:[0.92927484 0.95120859 0.97223466 0.95656068 0.95073892]\n",
      "['th50_median', 'th100_sum']::Cross validation scores:0.9520035393248742\n"
     ]
    },
    {
     "name": "stderr",
     "output_type": "stream",
     "text": [
      "/Users/ryof-mbp/.pyenv/versions/anaconda3-4.4.0/lib/python3.6/site-packages/ipykernel_launcher.py:25: FutureWarning: Method .as_matrix will be removed in a future version. Use .values instead.\n",
      "/Users/ryof-mbp/.pyenv/versions/anaconda3-4.4.0/lib/python3.6/site-packages/ipykernel_launcher.py:27: FutureWarning: Method .as_matrix will be removed in a future version. Use .values instead.\n",
      " 38%|███▊      | 17/45 [00:18<00:30,  1.10s/it]"
     ]
    },
    {
     "name": "stdout",
     "output_type": "stream",
     "text": [
      "['th50_median', 'th50_sum']::Cross validation scores:[0.92972247 0.95120859 0.97223466 0.95790416 0.95118674]\n",
      "['th50_median', 'th50_sum']::Cross validation scores:0.9524513272668738\n"
     ]
    },
    {
     "name": "stderr",
     "output_type": "stream",
     "text": [
      "/Users/ryof-mbp/.pyenv/versions/anaconda3-4.4.0/lib/python3.6/site-packages/ipykernel_launcher.py:25: FutureWarning: Method .as_matrix will be removed in a future version. Use .values instead.\n",
      "/Users/ryof-mbp/.pyenv/versions/anaconda3-4.4.0/lib/python3.6/site-packages/ipykernel_launcher.py:27: FutureWarning: Method .as_matrix will be removed in a future version. Use .values instead.\n",
      " 40%|████      | 18/45 [00:19<00:29,  1.10s/it]"
     ]
    },
    {
     "name": "stdout",
     "output_type": "stream",
     "text": [
      "['th100_max', 'th50_max']::Cross validation scores:[0.8652641  0.88809311 0.93551276 0.9072996  0.90192566]\n",
      "['th100_max', 'th50_max']::Cross validation scores:0.8996190454808056\n"
     ]
    },
    {
     "name": "stderr",
     "output_type": "stream",
     "text": [
      "/Users/ryof-mbp/.pyenv/versions/anaconda3-4.4.0/lib/python3.6/site-packages/ipykernel_launcher.py:25: FutureWarning: Method .as_matrix will be removed in a future version. Use .values instead.\n",
      "/Users/ryof-mbp/.pyenv/versions/anaconda3-4.4.0/lib/python3.6/site-packages/ipykernel_launcher.py:27: FutureWarning: Method .as_matrix will be removed in a future version. Use .values instead.\n",
      " 42%|████▏     | 19/45 [00:21<00:28,  1.11s/it]"
     ]
    },
    {
     "name": "stdout",
     "output_type": "stream",
     "text": [
      "['th100_max', 'th100_mean']::Cross validation scores:[0.88227395 0.89749329 0.95700851 0.93327362 0.92745186]\n",
      "['th100_max', 'th100_mean']::Cross validation scores:0.9195002447618753\n"
     ]
    },
    {
     "name": "stderr",
     "output_type": "stream",
     "text": [
      "/Users/ryof-mbp/.pyenv/versions/anaconda3-4.4.0/lib/python3.6/site-packages/ipykernel_launcher.py:25: FutureWarning: Method .as_matrix will be removed in a future version. Use .values instead.\n",
      "/Users/ryof-mbp/.pyenv/versions/anaconda3-4.4.0/lib/python3.6/site-packages/ipykernel_launcher.py:27: FutureWarning: Method .as_matrix will be removed in a future version. Use .values instead.\n",
      " 44%|████▍     | 20/45 [00:22<00:27,  1.11s/it]"
     ]
    },
    {
     "name": "stdout",
     "output_type": "stream",
     "text": [
      "['th100_max', 'th50_mean']::Cross validation scores:[0.89346464 0.93375112 0.96148679 0.94626064 0.93864756]\n",
      "['th100_max', 'th50_mean']::Cross validation scores:0.9347221481633238\n"
     ]
    },
    {
     "name": "stderr",
     "output_type": "stream",
     "text": [
      "/Users/ryof-mbp/.pyenv/versions/anaconda3-4.4.0/lib/python3.6/site-packages/ipykernel_launcher.py:25: FutureWarning: Method .as_matrix will be removed in a future version. Use .values instead.\n",
      "/Users/ryof-mbp/.pyenv/versions/anaconda3-4.4.0/lib/python3.6/site-packages/ipykernel_launcher.py:27: FutureWarning: Method .as_matrix will be removed in a future version. Use .values instead.\n",
      " 47%|████▋     | 21/45 [00:23<00:26,  1.10s/it]"
     ]
    },
    {
     "name": "stdout",
     "output_type": "stream",
     "text": [
      "['th100_max', 'th100_min']::Cross validation scores:[0.86123545 0.87197851 0.90326914 0.89834304 0.87550381]\n",
      "['th100_max', 'th100_min']::Cross validation scores:0.882065990688224\n"
     ]
    },
    {
     "name": "stderr",
     "output_type": "stream",
     "text": [
      "/Users/ryof-mbp/.pyenv/versions/anaconda3-4.4.0/lib/python3.6/site-packages/ipykernel_launcher.py:25: FutureWarning: Method .as_matrix will be removed in a future version. Use .values instead.\n",
      "/Users/ryof-mbp/.pyenv/versions/anaconda3-4.4.0/lib/python3.6/site-packages/ipykernel_launcher.py:27: FutureWarning: Method .as_matrix will be removed in a future version. Use .values instead.\n",
      " 49%|████▉     | 22/45 [00:24<00:25,  1.10s/it]"
     ]
    },
    {
     "name": "stdout",
     "output_type": "stream",
     "text": [
      "['th100_max', 'th50_min']::Cross validation scores:[0.93240824 0.95434199 0.98432602 0.96999552 0.96954769]\n",
      "['th100_max', 'th50_min']::Cross validation scores:0.9621238916055697\n"
     ]
    },
    {
     "name": "stderr",
     "output_type": "stream",
     "text": [
      "/Users/ryof-mbp/.pyenv/versions/anaconda3-4.4.0/lib/python3.6/site-packages/ipykernel_launcher.py:25: FutureWarning: Method .as_matrix will be removed in a future version. Use .values instead.\n",
      "/Users/ryof-mbp/.pyenv/versions/anaconda3-4.4.0/lib/python3.6/site-packages/ipykernel_launcher.py:27: FutureWarning: Method .as_matrix will be removed in a future version. Use .values instead.\n",
      " 51%|█████     | 23/45 [00:25<00:24,  1.10s/it]"
     ]
    },
    {
     "name": "stdout",
     "output_type": "stream",
     "text": [
      "['th100_max', 'th100_sum']::Cross validation scores:[0.89301701 0.89838854 0.95566502 0.93282579 0.93237797]\n",
      "['th100_max', 'th100_sum']::Cross validation scores:0.9224548673935887\n"
     ]
    },
    {
     "name": "stderr",
     "output_type": "stream",
     "text": [
      "/Users/ryof-mbp/.pyenv/versions/anaconda3-4.4.0/lib/python3.6/site-packages/ipykernel_launcher.py:25: FutureWarning: Method .as_matrix will be removed in a future version. Use .values instead.\n",
      "/Users/ryof-mbp/.pyenv/versions/anaconda3-4.4.0/lib/python3.6/site-packages/ipykernel_launcher.py:27: FutureWarning: Method .as_matrix will be removed in a future version. Use .values instead.\n",
      " 53%|█████▎    | 24/45 [00:26<00:23,  1.11s/it]"
     ]
    },
    {
     "name": "stdout",
     "output_type": "stream",
     "text": [
      "['th100_max', 'th50_sum']::Cross validation scores:[0.89346464 0.93240824 0.9601433  0.94267801 0.94581281]\n",
      "['th100_max', 'th50_sum']::Cross validation scores:0.9349013996530434\n"
     ]
    },
    {
     "name": "stderr",
     "output_type": "stream",
     "text": [
      "/Users/ryof-mbp/.pyenv/versions/anaconda3-4.4.0/lib/python3.6/site-packages/ipykernel_launcher.py:25: FutureWarning: Method .as_matrix will be removed in a future version. Use .values instead.\n",
      "/Users/ryof-mbp/.pyenv/versions/anaconda3-4.4.0/lib/python3.6/site-packages/ipykernel_launcher.py:27: FutureWarning: Method .as_matrix will be removed in a future version. Use .values instead.\n",
      " 56%|█████▌    | 25/45 [00:27<00:22,  1.11s/it]"
     ]
    },
    {
     "name": "stdout",
     "output_type": "stream",
     "text": [
      "['th50_max', 'th100_mean']::Cross validation scores:[0.87958818 0.88495971 0.94715629 0.92252575 0.91715181]\n",
      "['th50_max', 'th100_mean']::Cross validation scores:0.9102763503899552\n"
     ]
    },
    {
     "name": "stderr",
     "output_type": "stream",
     "text": [
      "/Users/ryof-mbp/.pyenv/versions/anaconda3-4.4.0/lib/python3.6/site-packages/ipykernel_launcher.py:25: FutureWarning: Method .as_matrix will be removed in a future version. Use .values instead.\n",
      "/Users/ryof-mbp/.pyenv/versions/anaconda3-4.4.0/lib/python3.6/site-packages/ipykernel_launcher.py:27: FutureWarning: Method .as_matrix will be removed in a future version. Use .values instead.\n",
      " 58%|█████▊    | 26/45 [00:28<00:21,  1.11s/it]"
     ]
    },
    {
     "name": "stdout",
     "output_type": "stream",
     "text": [
      "['th50_max', 'th50_mean']::Cross validation scores:[0.91316025 0.93643688 0.96193462 0.9377519  0.9408867 ]\n",
      "['th50_max', 'th50_mean']::Cross validation scores:0.9380340710134183\n"
     ]
    },
    {
     "name": "stderr",
     "output_type": "stream",
     "text": [
      "/Users/ryof-mbp/.pyenv/versions/anaconda3-4.4.0/lib/python3.6/site-packages/ipykernel_launcher.py:25: FutureWarning: Method .as_matrix will be removed in a future version. Use .values instead.\n",
      "/Users/ryof-mbp/.pyenv/versions/anaconda3-4.4.0/lib/python3.6/site-packages/ipykernel_launcher.py:27: FutureWarning: Method .as_matrix will be removed in a future version. Use .values instead.\n",
      " 60%|██████    | 27/45 [00:29<00:19,  1.11s/it]"
     ]
    },
    {
     "name": "stdout",
     "output_type": "stream",
     "text": [
      "['th50_max', 'th100_min']::Cross validation scores:[0.86705461 0.88854073 0.94536498 0.91491267 0.90371697]\n",
      "['th50_max', 'th100_min']::Cross validation scores:0.9039179941473646\n"
     ]
    },
    {
     "name": "stderr",
     "output_type": "stream",
     "text": [
      "/Users/ryof-mbp/.pyenv/versions/anaconda3-4.4.0/lib/python3.6/site-packages/ipykernel_launcher.py:25: FutureWarning: Method .as_matrix will be removed in a future version. Use .values instead.\n",
      "/Users/ryof-mbp/.pyenv/versions/anaconda3-4.4.0/lib/python3.6/site-packages/ipykernel_launcher.py:27: FutureWarning: Method .as_matrix will be removed in a future version. Use .values instead.\n",
      " 62%|██████▏   | 28/45 [00:31<00:18,  1.11s/it]"
     ]
    },
    {
     "name": "stdout",
     "output_type": "stream",
     "text": [
      "['th50_max', 'th50_min']::Cross validation scores:[0.93196061 0.95568487 0.98387819 0.96909987 0.97089118]\n",
      "['th50_max', 'th50_min']::Cross validation scores:0.9623029426351133\n"
     ]
    },
    {
     "name": "stderr",
     "output_type": "stream",
     "text": [
      "/Users/ryof-mbp/.pyenv/versions/anaconda3-4.4.0/lib/python3.6/site-packages/ipykernel_launcher.py:25: FutureWarning: Method .as_matrix will be removed in a future version. Use .values instead.\n",
      "/Users/ryof-mbp/.pyenv/versions/anaconda3-4.4.0/lib/python3.6/site-packages/ipykernel_launcher.py:27: FutureWarning: Method .as_matrix will be removed in a future version. Use .values instead.\n",
      " 64%|██████▍   | 29/45 [00:32<00:17,  1.11s/it]"
     ]
    },
    {
     "name": "stdout",
     "output_type": "stream",
     "text": [
      "['th50_max', 'th100_sum']::Cross validation scores:[0.88093107 0.88451209 0.95118674 0.92342141 0.92252575]\n",
      "['th50_max', 'th100_sum']::Cross validation scores:0.9125154103760593\n"
     ]
    },
    {
     "name": "stderr",
     "output_type": "stream",
     "text": [
      "/Users/ryof-mbp/.pyenv/versions/anaconda3-4.4.0/lib/python3.6/site-packages/ipykernel_launcher.py:25: FutureWarning: Method .as_matrix will be removed in a future version. Use .values instead.\n",
      "/Users/ryof-mbp/.pyenv/versions/anaconda3-4.4.0/lib/python3.6/site-packages/ipykernel_launcher.py:27: FutureWarning: Method .as_matrix will be removed in a future version. Use .values instead.\n",
      " 67%|██████▋   | 30/45 [00:33<00:16,  1.11s/it]"
     ]
    },
    {
     "name": "stdout",
     "output_type": "stream",
     "text": [
      "['th50_max', 'th50_sum']::Cross validation scores:[0.91629364 0.93554163 0.95924765 0.94043887 0.94491715]\n",
      "['th50_max', 'th50_sum']::Cross validation scores:0.9392877890485398\n"
     ]
    },
    {
     "name": "stderr",
     "output_type": "stream",
     "text": [
      "/Users/ryof-mbp/.pyenv/versions/anaconda3-4.4.0/lib/python3.6/site-packages/ipykernel_launcher.py:25: FutureWarning: Method .as_matrix will be removed in a future version. Use .values instead.\n",
      "/Users/ryof-mbp/.pyenv/versions/anaconda3-4.4.0/lib/python3.6/site-packages/ipykernel_launcher.py:27: FutureWarning: Method .as_matrix will be removed in a future version. Use .values instead.\n",
      " 69%|██████▉   | 31/45 [00:34<00:15,  1.12s/it]"
     ]
    },
    {
     "name": "stdout",
     "output_type": "stream",
     "text": [
      "['th100_mean', 'th50_mean']::Cross validation scores:[0.89525515 0.92032229 0.96551724 0.93640842 0.93640842]\n",
      "['th100_mean', 'th50_mean']::Cross validation scores:0.9307823038567336\n"
     ]
    },
    {
     "name": "stderr",
     "output_type": "stream",
     "text": [
      "/Users/ryof-mbp/.pyenv/versions/anaconda3-4.4.0/lib/python3.6/site-packages/ipykernel_launcher.py:25: FutureWarning: Method .as_matrix will be removed in a future version. Use .values instead.\n",
      "/Users/ryof-mbp/.pyenv/versions/anaconda3-4.4.0/lib/python3.6/site-packages/ipykernel_launcher.py:27: FutureWarning: Method .as_matrix will be removed in a future version. Use .values instead.\n",
      " 71%|███████   | 32/45 [00:35<00:14,  1.11s/it]"
     ]
    },
    {
     "name": "stdout",
     "output_type": "stream",
     "text": [
      "['th100_mean', 'th100_min']::Cross validation scores:[0.88137869 0.8863026  0.95700851 0.92521272 0.92297358]\n",
      "['th100_mean', 'th100_min']::Cross validation scores:0.9145752188724436\n"
     ]
    },
    {
     "name": "stderr",
     "output_type": "stream",
     "text": [
      "/Users/ryof-mbp/.pyenv/versions/anaconda3-4.4.0/lib/python3.6/site-packages/ipykernel_launcher.py:25: FutureWarning: Method .as_matrix will be removed in a future version. Use .values instead.\n",
      "/Users/ryof-mbp/.pyenv/versions/anaconda3-4.4.0/lib/python3.6/site-packages/ipykernel_launcher.py:27: FutureWarning: Method .as_matrix will be removed in a future version. Use .values instead.\n",
      " 73%|███████▎  | 33/45 [00:36<00:13,  1.11s/it]"
     ]
    },
    {
     "name": "stdout",
     "output_type": "stream",
     "text": [
      "['th100_mean', 'th50_min']::Cross validation scores:[0.93240824 0.95478962 0.98477385 0.97133901 0.97178683]\n",
      "['th100_mean', 'th50_min']::Cross validation scores:0.9630195075816044\n"
     ]
    },
    {
     "name": "stderr",
     "output_type": "stream",
     "text": [
      "/Users/ryof-mbp/.pyenv/versions/anaconda3-4.4.0/lib/python3.6/site-packages/ipykernel_launcher.py:25: FutureWarning: Method .as_matrix will be removed in a future version. Use .values instead.\n",
      "/Users/ryof-mbp/.pyenv/versions/anaconda3-4.4.0/lib/python3.6/site-packages/ipykernel_launcher.py:27: FutureWarning: Method .as_matrix will be removed in a future version. Use .values instead.\n",
      " 76%|███████▌  | 34/45 [00:37<00:12,  1.12s/it]"
     ]
    },
    {
     "name": "stdout",
     "output_type": "stream",
     "text": [
      "['th100_mean', 'th100_sum']::Cross validation scores:[0.88137869 0.8863026  0.95700851 0.92521272 0.92297358]\n",
      "['th100_mean', 'th100_sum']::Cross validation scores:0.9145752188724436\n"
     ]
    },
    {
     "name": "stderr",
     "output_type": "stream",
     "text": [
      "/Users/ryof-mbp/.pyenv/versions/anaconda3-4.4.0/lib/python3.6/site-packages/ipykernel_launcher.py:25: FutureWarning: Method .as_matrix will be removed in a future version. Use .values instead.\n",
      "/Users/ryof-mbp/.pyenv/versions/anaconda3-4.4.0/lib/python3.6/site-packages/ipykernel_launcher.py:27: FutureWarning: Method .as_matrix will be removed in a future version. Use .values instead.\n",
      " 78%|███████▊  | 35/45 [00:39<00:11,  1.12s/it]"
     ]
    },
    {
     "name": "stdout",
     "output_type": "stream",
     "text": [
      "['th100_mean', 'th50_sum']::Cross validation scores:[0.89435989 0.92032229 0.96372593 0.93685625 0.93730408]\n",
      "['th100_mean', 'th50_sum']::Cross validation scores:0.930513687220383\n"
     ]
    },
    {
     "name": "stderr",
     "output_type": "stream",
     "text": [
      "/Users/ryof-mbp/.pyenv/versions/anaconda3-4.4.0/lib/python3.6/site-packages/ipykernel_launcher.py:25: FutureWarning: Method .as_matrix will be removed in a future version. Use .values instead.\n",
      "/Users/ryof-mbp/.pyenv/versions/anaconda3-4.4.0/lib/python3.6/site-packages/ipykernel_launcher.py:27: FutureWarning: Method .as_matrix will be removed in a future version. Use .values instead.\n",
      " 80%|████████  | 36/45 [00:40<00:10,  1.12s/it]"
     ]
    },
    {
     "name": "stdout",
     "output_type": "stream",
     "text": [
      "['th50_mean', 'th100_min']::Cross validation scores:[0.89570278 0.91987466 0.96551724 0.93819973 0.93999104]\n",
      "['th50_mean', 'th100_min']::Cross validation scores:0.9318570911384174\n"
     ]
    },
    {
     "name": "stderr",
     "output_type": "stream",
     "text": [
      "/Users/ryof-mbp/.pyenv/versions/anaconda3-4.4.0/lib/python3.6/site-packages/ipykernel_launcher.py:25: FutureWarning: Method .as_matrix will be removed in a future version. Use .values instead.\n",
      "/Users/ryof-mbp/.pyenv/versions/anaconda3-4.4.0/lib/python3.6/site-packages/ipykernel_launcher.py:27: FutureWarning: Method .as_matrix will be removed in a future version. Use .values instead.\n",
      " 82%|████████▏ | 37/45 [00:41<00:08,  1.12s/it]"
     ]
    },
    {
     "name": "stdout",
     "output_type": "stream",
     "text": [
      "['th50_mean', 'th50_min']::Cross validation scores:[0.93330349 0.95478962 0.98387819 0.97044335 0.97133901]\n",
      "['th50_mean', 'th50_min']::Cross validation scores:0.9627507305771129\n"
     ]
    },
    {
     "name": "stderr",
     "output_type": "stream",
     "text": [
      "/Users/ryof-mbp/.pyenv/versions/anaconda3-4.4.0/lib/python3.6/site-packages/ipykernel_launcher.py:25: FutureWarning: Method .as_matrix will be removed in a future version. Use .values instead.\n",
      "/Users/ryof-mbp/.pyenv/versions/anaconda3-4.4.0/lib/python3.6/site-packages/ipykernel_launcher.py:27: FutureWarning: Method .as_matrix will be removed in a future version. Use .values instead.\n",
      " 84%|████████▍ | 38/45 [00:42<00:07,  1.12s/it]"
     ]
    },
    {
     "name": "stdout",
     "output_type": "stream",
     "text": [
      "['th50_mean', 'th100_sum']::Cross validation scores:[0.89570278 0.91987466 0.96551724 0.93596059 0.93596059]\n",
      "['th50_mean', 'th100_sum']::Cross validation scores:0.9306031726431195\n"
     ]
    },
    {
     "name": "stderr",
     "output_type": "stream",
     "text": [
      "/Users/ryof-mbp/.pyenv/versions/anaconda3-4.4.0/lib/python3.6/site-packages/ipykernel_launcher.py:25: FutureWarning: Method .as_matrix will be removed in a future version. Use .values instead.\n",
      "/Users/ryof-mbp/.pyenv/versions/anaconda3-4.4.0/lib/python3.6/site-packages/ipykernel_launcher.py:27: FutureWarning: Method .as_matrix will be removed in a future version. Use .values instead.\n",
      " 87%|████████▋ | 39/45 [00:43<00:06,  1.12s/it]"
     ]
    },
    {
     "name": "stdout",
     "output_type": "stream",
     "text": [
      "['th50_mean', 'th50_sum']::Cross validation scores:[0.89525515 0.91987466 0.96506941 0.93819973 0.93954322]\n",
      "['th50_mean', 'th50_sum']::Cross validation scores:0.9315884344100317\n"
     ]
    },
    {
     "name": "stderr",
     "output_type": "stream",
     "text": [
      "/Users/ryof-mbp/.pyenv/versions/anaconda3-4.4.0/lib/python3.6/site-packages/ipykernel_launcher.py:25: FutureWarning: Method .as_matrix will be removed in a future version. Use .values instead.\n",
      "/Users/ryof-mbp/.pyenv/versions/anaconda3-4.4.0/lib/python3.6/site-packages/ipykernel_launcher.py:27: FutureWarning: Method .as_matrix will be removed in a future version. Use .values instead.\n",
      " 89%|████████▉ | 40/45 [00:44<00:05,  1.12s/it]"
     ]
    },
    {
     "name": "stdout",
     "output_type": "stream",
     "text": [
      "['th100_min', 'th50_min']::Cross validation scores:[0.93240824 0.95389436 0.98343036 0.97044335 0.97402597]\n",
      "['th100_min', 'th50_min']::Cross validation scores:0.962840456552061\n"
     ]
    },
    {
     "name": "stderr",
     "output_type": "stream",
     "text": [
      "/Users/ryof-mbp/.pyenv/versions/anaconda3-4.4.0/lib/python3.6/site-packages/ipykernel_launcher.py:25: FutureWarning: Method .as_matrix will be removed in a future version. Use .values instead.\n",
      "/Users/ryof-mbp/.pyenv/versions/anaconda3-4.4.0/lib/python3.6/site-packages/ipykernel_launcher.py:27: FutureWarning: Method .as_matrix will be removed in a future version. Use .values instead.\n",
      " 91%|█████████ | 41/45 [00:45<00:04,  1.11s/it]"
     ]
    },
    {
     "name": "stdout",
     "output_type": "stream",
     "text": [
      "['th100_min', 'th100_sum']::Cross validation scores:[0.88227395 0.8863026  0.95700851 0.92431706 0.92297358]\n",
      "['th100_min', 'th100_sum']::Cross validation scores:0.9145751386883731\n"
     ]
    },
    {
     "name": "stderr",
     "output_type": "stream",
     "text": [
      "/Users/ryof-mbp/.pyenv/versions/anaconda3-4.4.0/lib/python3.6/site-packages/ipykernel_launcher.py:25: FutureWarning: Method .as_matrix will be removed in a future version. Use .values instead.\n",
      "/Users/ryof-mbp/.pyenv/versions/anaconda3-4.4.0/lib/python3.6/site-packages/ipykernel_launcher.py:27: FutureWarning: Method .as_matrix will be removed in a future version. Use .values instead.\n",
      " 93%|█████████▎| 42/45 [00:46<00:03,  1.11s/it]"
     ]
    },
    {
     "name": "stdout",
     "output_type": "stream",
     "text": [
      "['th100_min', 'th50_sum']::Cross validation scores:[0.89525515 0.91987466 0.96462159 0.93819973 0.93999104]\n",
      "['th100_min', 'th50_sum']::Cross validation scores:0.9315884344100318\n"
     ]
    },
    {
     "name": "stderr",
     "output_type": "stream",
     "text": [
      "/Users/ryof-mbp/.pyenv/versions/anaconda3-4.4.0/lib/python3.6/site-packages/ipykernel_launcher.py:25: FutureWarning: Method .as_matrix will be removed in a future version. Use .values instead.\n",
      "/Users/ryof-mbp/.pyenv/versions/anaconda3-4.4.0/lib/python3.6/site-packages/ipykernel_launcher.py:27: FutureWarning: Method .as_matrix will be removed in a future version. Use .values instead.\n",
      " 96%|█████████▌| 43/45 [00:47<00:02,  1.11s/it]"
     ]
    },
    {
     "name": "stdout",
     "output_type": "stream",
     "text": [
      "['th50_min', 'th100_sum']::Cross validation scores:[0.93240824 0.95478962 0.98477385 0.97178683 0.97178683]\n",
      "['th50_min', 'th100_sum']::Cross validation scores:0.9631090731884113\n"
     ]
    },
    {
     "name": "stderr",
     "output_type": "stream",
     "text": [
      "/Users/ryof-mbp/.pyenv/versions/anaconda3-4.4.0/lib/python3.6/site-packages/ipykernel_launcher.py:25: FutureWarning: Method .as_matrix will be removed in a future version. Use .values instead.\n",
      "/Users/ryof-mbp/.pyenv/versions/anaconda3-4.4.0/lib/python3.6/site-packages/ipykernel_launcher.py:27: FutureWarning: Method .as_matrix will be removed in a future version. Use .values instead.\n",
      " 98%|█████████▊| 44/45 [00:48<00:01,  1.11s/it]"
     ]
    },
    {
     "name": "stdout",
     "output_type": "stream",
     "text": [
      "['th50_min', 'th50_sum']::Cross validation scores:[0.93330349 0.95478962 0.98298253 0.97044335 0.97133901]\n",
      "['th50_min', 'th50_sum']::Cross validation scores:0.9625715993634989\n"
     ]
    },
    {
     "name": "stderr",
     "output_type": "stream",
     "text": [
      "/Users/ryof-mbp/.pyenv/versions/anaconda3-4.4.0/lib/python3.6/site-packages/ipykernel_launcher.py:25: FutureWarning: Method .as_matrix will be removed in a future version. Use .values instead.\n",
      "/Users/ryof-mbp/.pyenv/versions/anaconda3-4.4.0/lib/python3.6/site-packages/ipykernel_launcher.py:27: FutureWarning: Method .as_matrix will be removed in a future version. Use .values instead.\n",
      "100%|██████████| 45/45 [00:50<00:00,  1.12s/it]\n",
      "  0%|          | 0/45 [00:00<?, ?it/s]"
     ]
    },
    {
     "name": "stdout",
     "output_type": "stream",
     "text": [
      "['th100_sum', 'th50_sum']::Cross validation scores:[0.89480752 0.92032229 0.96551724 0.93506494 0.93730408]\n",
      "['th100_sum', 'th50_sum']::Cross validation scores:0.9306032127351548\n"
     ]
    },
    {
     "name": "stderr",
     "output_type": "stream",
     "text": [
      "/Users/ryof-mbp/.pyenv/versions/anaconda3-4.4.0/lib/python3.6/site-packages/ipykernel_launcher.py:25: FutureWarning: Method .as_matrix will be removed in a future version. Use .values instead.\n",
      "/Users/ryof-mbp/.pyenv/versions/anaconda3-4.4.0/lib/python3.6/site-packages/ipykernel_launcher.py:27: FutureWarning: Method .as_matrix will be removed in a future version. Use .values instead.\n",
      "  2%|▏         | 1/45 [00:00<00:22,  2.00it/s]"
     ]
    },
    {
     "name": "stdout",
     "output_type": "stream",
     "text": [
      "['th100_median', 'th50_median']::Cross validation scores:[0.95174709 0.94166667 0.93333333 0.90317195 0.93155259]\n",
      "['th100_median', 'th50_median']::Cross validation scores:0.9322943258175718\n"
     ]
    },
    {
     "name": "stderr",
     "output_type": "stream",
     "text": [
      "/Users/ryof-mbp/.pyenv/versions/anaconda3-4.4.0/lib/python3.6/site-packages/ipykernel_launcher.py:25: FutureWarning: Method .as_matrix will be removed in a future version. Use .values instead.\n",
      "/Users/ryof-mbp/.pyenv/versions/anaconda3-4.4.0/lib/python3.6/site-packages/ipykernel_launcher.py:27: FutureWarning: Method .as_matrix will be removed in a future version. Use .values instead.\n",
      "  4%|▍         | 2/45 [00:01<00:21,  1.98it/s]"
     ]
    },
    {
     "name": "stdout",
     "output_type": "stream",
     "text": [
      "['th100_median', 'th100_max']::Cross validation scores:[0.96173045 0.94       0.93       0.91819699 0.92654424]\n",
      "['th100_median', 'th100_max']::Cross validation scores:0.9352943369287138\n"
     ]
    },
    {
     "name": "stderr",
     "output_type": "stream",
     "text": [
      "/Users/ryof-mbp/.pyenv/versions/anaconda3-4.4.0/lib/python3.6/site-packages/ipykernel_launcher.py:25: FutureWarning: Method .as_matrix will be removed in a future version. Use .values instead.\n",
      "/Users/ryof-mbp/.pyenv/versions/anaconda3-4.4.0/lib/python3.6/site-packages/ipykernel_launcher.py:27: FutureWarning: Method .as_matrix will be removed in a future version. Use .values instead.\n",
      "  7%|▋         | 3/45 [00:01<00:21,  1.97it/s]"
     ]
    },
    {
     "name": "stdout",
     "output_type": "stream",
     "text": [
      "['th100_median', 'th50_max']::Cross validation scores:[0.95840266 0.94333333 0.93       0.92153589 0.93155259]\n",
      "['th100_median', 'th50_max']::Cross validation scores:0.9369648952728573\n"
     ]
    },
    {
     "name": "stderr",
     "output_type": "stream",
     "text": [
      "/Users/ryof-mbp/.pyenv/versions/anaconda3-4.4.0/lib/python3.6/site-packages/ipykernel_launcher.py:25: FutureWarning: Method .as_matrix will be removed in a future version. Use .values instead.\n",
      "/Users/ryof-mbp/.pyenv/versions/anaconda3-4.4.0/lib/python3.6/site-packages/ipykernel_launcher.py:27: FutureWarning: Method .as_matrix will be removed in a future version. Use .values instead.\n",
      "  9%|▉         | 4/45 [00:02<00:20,  1.97it/s]"
     ]
    },
    {
     "name": "stdout",
     "output_type": "stream",
     "text": [
      "['th100_median', 'th100_mean']::Cross validation scores:[0.96006656 0.94166667 0.93166667 0.92153589 0.93155259]\n",
      "['th100_median', 'th100_mean']::Cross validation scores:0.9372976739750202\n"
     ]
    },
    {
     "name": "stderr",
     "output_type": "stream",
     "text": [
      "/Users/ryof-mbp/.pyenv/versions/anaconda3-4.4.0/lib/python3.6/site-packages/ipykernel_launcher.py:25: FutureWarning: Method .as_matrix will be removed in a future version. Use .values instead.\n",
      "/Users/ryof-mbp/.pyenv/versions/anaconda3-4.4.0/lib/python3.6/site-packages/ipykernel_launcher.py:27: FutureWarning: Method .as_matrix will be removed in a future version. Use .values instead.\n",
      " 11%|█         | 5/45 [00:02<00:20,  1.97it/s]"
     ]
    },
    {
     "name": "stdout",
     "output_type": "stream",
     "text": [
      "['th100_median', 'th50_mean']::Cross validation scores:[0.96006656 0.93833333 0.93333333 0.9148581  0.92988314]\n",
      "['th100_median', 'th50_mean']::Cross validation scores:0.9352948915598841\n"
     ]
    },
    {
     "name": "stderr",
     "output_type": "stream",
     "text": [
      "/Users/ryof-mbp/.pyenv/versions/anaconda3-4.4.0/lib/python3.6/site-packages/ipykernel_launcher.py:25: FutureWarning: Method .as_matrix will be removed in a future version. Use .values instead.\n",
      "/Users/ryof-mbp/.pyenv/versions/anaconda3-4.4.0/lib/python3.6/site-packages/ipykernel_launcher.py:27: FutureWarning: Method .as_matrix will be removed in a future version. Use .values instead.\n",
      " 13%|█▎        | 6/45 [00:02<00:19,  2.01it/s]"
     ]
    },
    {
     "name": "stdout",
     "output_type": "stream",
     "text": [
      "['th100_median', 'th100_min']::Cross validation scores:[0.96173045 0.94       0.93333333 0.91986644 0.92988314]\n",
      "['th100_median', 'th100_min']::Cross validation scores:0.936962673044462\n"
     ]
    },
    {
     "name": "stderr",
     "output_type": "stream",
     "text": [
      "/Users/ryof-mbp/.pyenv/versions/anaconda3-4.4.0/lib/python3.6/site-packages/ipykernel_launcher.py:25: FutureWarning: Method .as_matrix will be removed in a future version. Use .values instead.\n",
      "/Users/ryof-mbp/.pyenv/versions/anaconda3-4.4.0/lib/python3.6/site-packages/ipykernel_launcher.py:27: FutureWarning: Method .as_matrix will be removed in a future version. Use .values instead.\n",
      " 16%|█▌        | 7/45 [00:03<00:18,  2.03it/s]"
     ]
    },
    {
     "name": "stdout",
     "output_type": "stream",
     "text": [
      "['th100_median', 'th50_min']::Cross validation scores:[0.97670549 0.94       0.93666667 0.91318865 0.95158598]\n",
      "['th100_median', 'th50_min']::Cross validation scores:0.9436293563778417\n"
     ]
    },
    {
     "name": "stderr",
     "output_type": "stream",
     "text": [
      "/Users/ryof-mbp/.pyenv/versions/anaconda3-4.4.0/lib/python3.6/site-packages/ipykernel_launcher.py:25: FutureWarning: Method .as_matrix will be removed in a future version. Use .values instead.\n",
      "/Users/ryof-mbp/.pyenv/versions/anaconda3-4.4.0/lib/python3.6/site-packages/ipykernel_launcher.py:27: FutureWarning: Method .as_matrix will be removed in a future version. Use .values instead.\n",
      " 18%|█▊        | 8/45 [00:03<00:18,  2.02it/s]"
     ]
    },
    {
     "name": "stdout",
     "output_type": "stream",
     "text": [
      "['th100_median', 'th100_sum']::Cross validation scores:[0.96173045 0.93833333 0.93166667 0.91986644 0.93155259]\n",
      "['th100_median', 'th100_sum']::Cross validation scores:0.9366298961941562\n"
     ]
    },
    {
     "name": "stderr",
     "output_type": "stream",
     "text": [
      "/Users/ryof-mbp/.pyenv/versions/anaconda3-4.4.0/lib/python3.6/site-packages/ipykernel_launcher.py:25: FutureWarning: Method .as_matrix will be removed in a future version. Use .values instead.\n",
      "/Users/ryof-mbp/.pyenv/versions/anaconda3-4.4.0/lib/python3.6/site-packages/ipykernel_launcher.py:27: FutureWarning: Method .as_matrix will be removed in a future version. Use .values instead.\n",
      " 20%|██        | 9/45 [00:04<00:17,  2.02it/s]"
     ]
    },
    {
     "name": "stdout",
     "output_type": "stream",
     "text": [
      "['th100_median', 'th50_sum']::Cross validation scores:[0.96006656 0.94333333 0.935      0.91318865 0.93322204]\n",
      "['th100_median', 'th50_sum']::Cross validation scores:0.9369621147095779\n"
     ]
    },
    {
     "name": "stderr",
     "output_type": "stream",
     "text": [
      "/Users/ryof-mbp/.pyenv/versions/anaconda3-4.4.0/lib/python3.6/site-packages/ipykernel_launcher.py:25: FutureWarning: Method .as_matrix will be removed in a future version. Use .values instead.\n",
      "/Users/ryof-mbp/.pyenv/versions/anaconda3-4.4.0/lib/python3.6/site-packages/ipykernel_launcher.py:27: FutureWarning: Method .as_matrix will be removed in a future version. Use .values instead.\n",
      " 22%|██▏       | 10/45 [00:04<00:17,  2.01it/s]"
     ]
    },
    {
     "name": "stdout",
     "output_type": "stream",
     "text": [
      "['th50_median', 'th100_max']::Cross validation scores:[0.95008319 0.94       0.91666667 0.9115192  0.94490818]\n",
      "['th50_median', 'th100_max']::Cross validation scores:0.9326354480614297\n"
     ]
    },
    {
     "name": "stderr",
     "output_type": "stream",
     "text": [
      "/Users/ryof-mbp/.pyenv/versions/anaconda3-4.4.0/lib/python3.6/site-packages/ipykernel_launcher.py:25: FutureWarning: Method .as_matrix will be removed in a future version. Use .values instead.\n",
      "/Users/ryof-mbp/.pyenv/versions/anaconda3-4.4.0/lib/python3.6/site-packages/ipykernel_launcher.py:27: FutureWarning: Method .as_matrix will be removed in a future version. Use .values instead.\n",
      " 24%|██▍       | 11/45 [00:05<00:16,  2.00it/s]"
     ]
    },
    {
     "name": "stdout",
     "output_type": "stream",
     "text": [
      "['th50_median', 'th50_max']::Cross validation scores:[0.95008319 0.93666667 0.91833333 0.89649416 0.94323873]\n",
      "['th50_median', 'th50_max']::Cross validation scores:0.9289632165644905\n"
     ]
    },
    {
     "name": "stderr",
     "output_type": "stream",
     "text": [
      "/Users/ryof-mbp/.pyenv/versions/anaconda3-4.4.0/lib/python3.6/site-packages/ipykernel_launcher.py:25: FutureWarning: Method .as_matrix will be removed in a future version. Use .values instead.\n",
      "/Users/ryof-mbp/.pyenv/versions/anaconda3-4.4.0/lib/python3.6/site-packages/ipykernel_launcher.py:27: FutureWarning: Method .as_matrix will be removed in a future version. Use .values instead.\n",
      " 27%|██▋       | 12/45 [00:06<00:16,  1.99it/s]"
     ]
    },
    {
     "name": "stdout",
     "output_type": "stream",
     "text": [
      "['th50_median', 'th100_mean']::Cross validation scores:[0.9484193  0.94333333 0.91333333 0.9048414  0.95325543]\n",
      "['th50_median', 'th100_mean']::Cross validation scores:0.9326365591756274\n"
     ]
    },
    {
     "name": "stderr",
     "output_type": "stream",
     "text": [
      "/Users/ryof-mbp/.pyenv/versions/anaconda3-4.4.0/lib/python3.6/site-packages/ipykernel_launcher.py:25: FutureWarning: Method .as_matrix will be removed in a future version. Use .values instead.\n",
      "/Users/ryof-mbp/.pyenv/versions/anaconda3-4.4.0/lib/python3.6/site-packages/ipykernel_launcher.py:27: FutureWarning: Method .as_matrix will be removed in a future version. Use .values instead.\n",
      " 29%|██▉       | 13/45 [00:06<00:16,  1.99it/s]"
     ]
    },
    {
     "name": "stdout",
     "output_type": "stream",
     "text": [
      "['th50_median', 'th50_mean']::Cross validation scores:[0.95341098 0.94166667 0.915      0.90984975 0.94824708]\n",
      "['th50_median', 'th50_mean']::Cross validation scores:0.9336348952821165\n"
     ]
    },
    {
     "name": "stderr",
     "output_type": "stream",
     "text": [
      "/Users/ryof-mbp/.pyenv/versions/anaconda3-4.4.0/lib/python3.6/site-packages/ipykernel_launcher.py:25: FutureWarning: Method .as_matrix will be removed in a future version. Use .values instead.\n",
      "/Users/ryof-mbp/.pyenv/versions/anaconda3-4.4.0/lib/python3.6/site-packages/ipykernel_launcher.py:27: FutureWarning: Method .as_matrix will be removed in a future version. Use .values instead.\n",
      " 31%|███       | 14/45 [00:07<00:15,  1.99it/s]"
     ]
    },
    {
     "name": "stdout",
     "output_type": "stream",
     "text": [
      "['th50_median', 'th100_min']::Cross validation scores:[0.95174709 0.93666667 0.92166667 0.9115192  0.94490818]\n",
      "['th50_median', 'th100_min']::Cross validation scores:0.9333015600969261\n"
     ]
    },
    {
     "name": "stderr",
     "output_type": "stream",
     "text": [
      "/Users/ryof-mbp/.pyenv/versions/anaconda3-4.4.0/lib/python3.6/site-packages/ipykernel_launcher.py:25: FutureWarning: Method .as_matrix will be removed in a future version. Use .values instead.\n",
      "/Users/ryof-mbp/.pyenv/versions/anaconda3-4.4.0/lib/python3.6/site-packages/ipykernel_launcher.py:27: FutureWarning: Method .as_matrix will be removed in a future version. Use .values instead.\n",
      " 33%|███▎      | 15/45 [00:07<00:15,  1.99it/s]"
     ]
    },
    {
     "name": "stdout",
     "output_type": "stream",
     "text": [
      "['th50_median', 'th50_min']::Cross validation scores:[0.97004992 0.94333333 0.92833333 0.91318865 0.94991653]\n",
      "['th50_median', 'th50_min']::Cross validation scores:0.940964351752829\n"
     ]
    },
    {
     "name": "stderr",
     "output_type": "stream",
     "text": [
      "/Users/ryof-mbp/.pyenv/versions/anaconda3-4.4.0/lib/python3.6/site-packages/ipykernel_launcher.py:25: FutureWarning: Method .as_matrix will be removed in a future version. Use .values instead.\n",
      "/Users/ryof-mbp/.pyenv/versions/anaconda3-4.4.0/lib/python3.6/site-packages/ipykernel_launcher.py:27: FutureWarning: Method .as_matrix will be removed in a future version. Use .values instead.\n",
      " 36%|███▌      | 16/45 [00:08<00:14,  1.99it/s]"
     ]
    },
    {
     "name": "stdout",
     "output_type": "stream",
     "text": [
      "['th50_median', 'th100_sum']::Cross validation scores:[0.9484193  0.945      0.91833333 0.90317195 0.94490818]\n",
      "['th50_median', 'th100_sum']::Cross validation scores:0.931966553610797\n"
     ]
    },
    {
     "name": "stderr",
     "output_type": "stream",
     "text": [
      "/Users/ryof-mbp/.pyenv/versions/anaconda3-4.4.0/lib/python3.6/site-packages/ipykernel_launcher.py:25: FutureWarning: Method .as_matrix will be removed in a future version. Use .values instead.\n",
      "/Users/ryof-mbp/.pyenv/versions/anaconda3-4.4.0/lib/python3.6/site-packages/ipykernel_launcher.py:27: FutureWarning: Method .as_matrix will be removed in a future version. Use .values instead.\n",
      " 38%|███▊      | 17/45 [00:08<00:14,  1.98it/s]"
     ]
    },
    {
     "name": "stdout",
     "output_type": "stream",
     "text": [
      "['th50_median', 'th50_sum']::Cross validation scores:[0.95341098 0.94333333 0.915      0.89649416 0.94156928]\n",
      "['th50_median', 'th50_sum']::Cross validation scores:0.9299615508191227\n"
     ]
    },
    {
     "name": "stderr",
     "output_type": "stream",
     "text": [
      "/Users/ryof-mbp/.pyenv/versions/anaconda3-4.4.0/lib/python3.6/site-packages/ipykernel_launcher.py:25: FutureWarning: Method .as_matrix will be removed in a future version. Use .values instead.\n",
      "/Users/ryof-mbp/.pyenv/versions/anaconda3-4.4.0/lib/python3.6/site-packages/ipykernel_launcher.py:27: FutureWarning: Method .as_matrix will be removed in a future version. Use .values instead.\n",
      " 40%|████      | 18/45 [00:09<00:13,  1.98it/s]"
     ]
    },
    {
     "name": "stdout",
     "output_type": "stream",
     "text": [
      "['th100_max', 'th50_max']::Cross validation scores:[0.9234609  0.89833333 0.90833333 0.86811352 0.92487479]\n",
      "['th100_max', 'th50_max']::Cross validation scores:0.904623175805118\n"
     ]
    },
    {
     "name": "stderr",
     "output_type": "stream",
     "text": [
      "/Users/ryof-mbp/.pyenv/versions/anaconda3-4.4.0/lib/python3.6/site-packages/ipykernel_launcher.py:25: FutureWarning: Method .as_matrix will be removed in a future version. Use .values instead.\n",
      "/Users/ryof-mbp/.pyenv/versions/anaconda3-4.4.0/lib/python3.6/site-packages/ipykernel_launcher.py:27: FutureWarning: Method .as_matrix will be removed in a future version. Use .values instead.\n",
      " 42%|████▏     | 19/45 [00:09<00:13,  1.97it/s]"
     ]
    },
    {
     "name": "stdout",
     "output_type": "stream",
     "text": [
      "['th100_max', 'th100_mean']::Cross validation scores:[0.93843594 0.925      0.915      0.89983306 0.89983306]\n",
      "['th100_max', 'th100_mean']::Cross validation scores:0.9156204100566946\n"
     ]
    },
    {
     "name": "stderr",
     "output_type": "stream",
     "text": [
      "/Users/ryof-mbp/.pyenv/versions/anaconda3-4.4.0/lib/python3.6/site-packages/ipykernel_launcher.py:25: FutureWarning: Method .as_matrix will be removed in a future version. Use .values instead.\n",
      "/Users/ryof-mbp/.pyenv/versions/anaconda3-4.4.0/lib/python3.6/site-packages/ipykernel_launcher.py:27: FutureWarning: Method .as_matrix will be removed in a future version. Use .values instead.\n",
      " 44%|████▍     | 20/45 [00:10<00:12,  1.97it/s]"
     ]
    },
    {
     "name": "stdout",
     "output_type": "stream",
     "text": [
      "['th100_max', 'th50_mean']::Cross validation scores:[0.94675541 0.93       0.91833333 0.90317195 0.94657763]\n",
      "['th100_max', 'th50_mean']::Cross validation scores:0.9289676647249946\n"
     ]
    },
    {
     "name": "stderr",
     "output_type": "stream",
     "text": [
      "/Users/ryof-mbp/.pyenv/versions/anaconda3-4.4.0/lib/python3.6/site-packages/ipykernel_launcher.py:25: FutureWarning: Method .as_matrix will be removed in a future version. Use .values instead.\n",
      "/Users/ryof-mbp/.pyenv/versions/anaconda3-4.4.0/lib/python3.6/site-packages/ipykernel_launcher.py:27: FutureWarning: Method .as_matrix will be removed in a future version. Use .values instead.\n",
      " 47%|████▋     | 21/45 [00:10<00:12,  1.98it/s]"
     ]
    },
    {
     "name": "stdout",
     "output_type": "stream",
     "text": [
      "['th100_max', 'th100_min']::Cross validation scores:[0.96339434 0.94666667 0.91166667 0.9081803  0.93823038]\n",
      "['th100_max', 'th100_min']::Cross validation scores:0.933627672113904\n"
     ]
    },
    {
     "name": "stderr",
     "output_type": "stream",
     "text": [
      "/Users/ryof-mbp/.pyenv/versions/anaconda3-4.4.0/lib/python3.6/site-packages/ipykernel_launcher.py:25: FutureWarning: Method .as_matrix will be removed in a future version. Use .values instead.\n",
      "/Users/ryof-mbp/.pyenv/versions/anaconda3-4.4.0/lib/python3.6/site-packages/ipykernel_launcher.py:27: FutureWarning: Method .as_matrix will be removed in a future version. Use .values instead.\n",
      " 49%|████▉     | 22/45 [00:11<00:11,  1.98it/s]"
     ]
    },
    {
     "name": "stdout",
     "output_type": "stream",
     "text": [
      "['th100_max', 'th50_min']::Cross validation scores:[0.9733777  0.92833333 0.93166667 0.91318865 0.94657763]\n",
      "['th100_max', 'th50_min']::Cross validation scores:0.9386287961911005\n"
     ]
    },
    {
     "name": "stderr",
     "output_type": "stream",
     "text": [
      "/Users/ryof-mbp/.pyenv/versions/anaconda3-4.4.0/lib/python3.6/site-packages/ipykernel_launcher.py:25: FutureWarning: Method .as_matrix will be removed in a future version. Use .values instead.\n",
      "/Users/ryof-mbp/.pyenv/versions/anaconda3-4.4.0/lib/python3.6/site-packages/ipykernel_launcher.py:27: FutureWarning: Method .as_matrix will be removed in a future version. Use .values instead.\n",
      " 51%|█████     | 23/45 [00:11<00:11,  1.98it/s]"
     ]
    },
    {
     "name": "stdout",
     "output_type": "stream",
     "text": [
      "['th100_max', 'th100_sum']::Cross validation scores:[0.94009983 0.91833333 0.91333333 0.89816361 0.90984975]\n",
      "['th100_max', 'th100_sum']::Cross validation scores:0.9159559711739942\n"
     ]
    },
    {
     "name": "stderr",
     "output_type": "stream",
     "text": [
      "/Users/ryof-mbp/.pyenv/versions/anaconda3-4.4.0/lib/python3.6/site-packages/ipykernel_launcher.py:25: FutureWarning: Method .as_matrix will be removed in a future version. Use .values instead.\n",
      "/Users/ryof-mbp/.pyenv/versions/anaconda3-4.4.0/lib/python3.6/site-packages/ipykernel_launcher.py:27: FutureWarning: Method .as_matrix will be removed in a future version. Use .values instead.\n",
      " 53%|█████▎    | 24/45 [00:12<00:10,  1.97it/s]"
     ]
    },
    {
     "name": "stdout",
     "output_type": "stream",
     "text": [
      "['th100_max', 'th50_sum']::Cross validation scores:[0.94675541 0.925      0.92166667 0.9015025  0.94657763]\n",
      "['th100_max', 'th50_sum']::Cross validation scores:0.9283004415753007\n"
     ]
    },
    {
     "name": "stderr",
     "output_type": "stream",
     "text": [
      "/Users/ryof-mbp/.pyenv/versions/anaconda3-4.4.0/lib/python3.6/site-packages/ipykernel_launcher.py:25: FutureWarning: Method .as_matrix will be removed in a future version. Use .values instead.\n",
      "/Users/ryof-mbp/.pyenv/versions/anaconda3-4.4.0/lib/python3.6/site-packages/ipykernel_launcher.py:27: FutureWarning: Method .as_matrix will be removed in a future version. Use .values instead.\n",
      " 56%|█████▌    | 25/45 [00:12<00:10,  1.97it/s]"
     ]
    },
    {
     "name": "stdout",
     "output_type": "stream",
     "text": [
      "['th50_max', 'th100_mean']::Cross validation scores:[0.9234609  0.89833333 0.90666667 0.88480801 0.87646077]\n",
      "['th50_max', 'th100_mean']::Cross validation scores:0.8979459359609333\n"
     ]
    },
    {
     "name": "stderr",
     "output_type": "stream",
     "text": [
      "/Users/ryof-mbp/.pyenv/versions/anaconda3-4.4.0/lib/python3.6/site-packages/ipykernel_launcher.py:25: FutureWarning: Method .as_matrix will be removed in a future version. Use .values instead.\n",
      "/Users/ryof-mbp/.pyenv/versions/anaconda3-4.4.0/lib/python3.6/site-packages/ipykernel_launcher.py:27: FutureWarning: Method .as_matrix will be removed in a future version. Use .values instead.\n",
      " 58%|█████▊    | 26/45 [00:13<00:09,  1.96it/s]"
     ]
    },
    {
     "name": "stdout",
     "output_type": "stream",
     "text": [
      "['th50_max', 'th50_mean']::Cross validation scores:[0.93843594 0.92166667 0.91833333 0.9015025  0.92988314]\n",
      "['th50_max', 'th50_mean']::Cross validation scores:0.9219643165675461\n"
     ]
    },
    {
     "name": "stderr",
     "output_type": "stream",
     "text": [
      "/Users/ryof-mbp/.pyenv/versions/anaconda3-4.4.0/lib/python3.6/site-packages/ipykernel_launcher.py:25: FutureWarning: Method .as_matrix will be removed in a future version. Use .values instead.\n",
      "/Users/ryof-mbp/.pyenv/versions/anaconda3-4.4.0/lib/python3.6/site-packages/ipykernel_launcher.py:27: FutureWarning: Method .as_matrix will be removed in a future version. Use .values instead.\n",
      " 60%|██████    | 27/45 [00:13<00:09,  1.96it/s]"
     ]
    },
    {
     "name": "stdout",
     "output_type": "stream",
     "text": [
      "['th50_max', 'th100_min']::Cross validation scores:[0.96006656 0.94666667 0.915      0.9115192  0.94657763]\n",
      "['th50_max', 'th100_min']::Cross validation scores:0.9359660100907687\n"
     ]
    },
    {
     "name": "stderr",
     "output_type": "stream",
     "text": [
      "/Users/ryof-mbp/.pyenv/versions/anaconda3-4.4.0/lib/python3.6/site-packages/ipykernel_launcher.py:25: FutureWarning: Method .as_matrix will be removed in a future version. Use .values instead.\n",
      "/Users/ryof-mbp/.pyenv/versions/anaconda3-4.4.0/lib/python3.6/site-packages/ipykernel_launcher.py:27: FutureWarning: Method .as_matrix will be removed in a future version. Use .values instead.\n",
      " 62%|██████▏   | 28/45 [00:14<00:08,  1.96it/s]"
     ]
    },
    {
     "name": "stdout",
     "output_type": "stream",
     "text": [
      "['th50_max', 'th50_min']::Cross validation scores:[0.9750416  0.93333333 0.92833333 0.91986644 0.95993322]\n",
      "['th50_max', 'th50_min']::Cross validation scores:0.9433015860229241\n"
     ]
    },
    {
     "name": "stderr",
     "output_type": "stream",
     "text": [
      "/Users/ryof-mbp/.pyenv/versions/anaconda3-4.4.0/lib/python3.6/site-packages/ipykernel_launcher.py:25: FutureWarning: Method .as_matrix will be removed in a future version. Use .values instead.\n",
      "/Users/ryof-mbp/.pyenv/versions/anaconda3-4.4.0/lib/python3.6/site-packages/ipykernel_launcher.py:27: FutureWarning: Method .as_matrix will be removed in a future version. Use .values instead.\n",
      " 64%|██████▍   | 29/45 [00:14<00:08,  1.96it/s]"
     ]
    },
    {
     "name": "stdout",
     "output_type": "stream",
     "text": [
      "['th50_max', 'th100_sum']::Cross validation scores:[0.92512479 0.91166667 0.88666667 0.88480801 0.88647746]\n",
      "['th50_max', 'th100_sum']::Cross validation scores:0.8989487202279266\n"
     ]
    },
    {
     "name": "stderr",
     "output_type": "stream",
     "text": [
      "/Users/ryof-mbp/.pyenv/versions/anaconda3-4.4.0/lib/python3.6/site-packages/ipykernel_launcher.py:25: FutureWarning: Method .as_matrix will be removed in a future version. Use .values instead.\n",
      "/Users/ryof-mbp/.pyenv/versions/anaconda3-4.4.0/lib/python3.6/site-packages/ipykernel_launcher.py:27: FutureWarning: Method .as_matrix will be removed in a future version. Use .values instead.\n",
      " 67%|██████▋   | 30/45 [00:15<00:07,  1.96it/s]"
     ]
    },
    {
     "name": "stdout",
     "output_type": "stream",
     "text": [
      "['th50_max', 'th50_sum']::Cross validation scores:[0.94009983 0.93166667 0.91833333 0.89649416 0.93489149]\n",
      "['th50_max', 'th50_sum']::Cross validation scores:0.924297095269709\n"
     ]
    },
    {
     "name": "stderr",
     "output_type": "stream",
     "text": [
      "/Users/ryof-mbp/.pyenv/versions/anaconda3-4.4.0/lib/python3.6/site-packages/ipykernel_launcher.py:25: FutureWarning: Method .as_matrix will be removed in a future version. Use .values instead.\n",
      "/Users/ryof-mbp/.pyenv/versions/anaconda3-4.4.0/lib/python3.6/site-packages/ipykernel_launcher.py:27: FutureWarning: Method .as_matrix will be removed in a future version. Use .values instead.\n",
      " 69%|██████▉   | 31/45 [00:15<00:07,  1.95it/s]"
     ]
    },
    {
     "name": "stdout",
     "output_type": "stream",
     "text": [
      "['th100_mean', 'th50_mean']::Cross validation scores:[0.94009983 0.935      0.91166667 0.89983306 0.94323873]\n",
      "['th100_mean', 'th50_mean']::Cross validation scores:0.9259676573175666\n"
     ]
    },
    {
     "name": "stderr",
     "output_type": "stream",
     "text": [
      "/Users/ryof-mbp/.pyenv/versions/anaconda3-4.4.0/lib/python3.6/site-packages/ipykernel_launcher.py:25: FutureWarning: Method .as_matrix will be removed in a future version. Use .values instead.\n",
      "/Users/ryof-mbp/.pyenv/versions/anaconda3-4.4.0/lib/python3.6/site-packages/ipykernel_launcher.py:27: FutureWarning: Method .as_matrix will be removed in a future version. Use .values instead.\n",
      " 71%|███████   | 32/45 [00:16<00:06,  1.95it/s]"
     ]
    },
    {
     "name": "stdout",
     "output_type": "stream",
     "text": [
      "['th100_mean', 'th100_min']::Cross validation scores:[0.96006656 0.94166667 0.91833333 0.90984975 0.93489149]\n",
      "['th100_mean', 'th100_min']::Cross validation scores:0.9329615582265506\n"
     ]
    },
    {
     "name": "stderr",
     "output_type": "stream",
     "text": [
      "/Users/ryof-mbp/.pyenv/versions/anaconda3-4.4.0/lib/python3.6/site-packages/ipykernel_launcher.py:25: FutureWarning: Method .as_matrix will be removed in a future version. Use .values instead.\n",
      "/Users/ryof-mbp/.pyenv/versions/anaconda3-4.4.0/lib/python3.6/site-packages/ipykernel_launcher.py:27: FutureWarning: Method .as_matrix will be removed in a future version. Use .values instead.\n",
      " 73%|███████▎  | 33/45 [00:16<00:06,  1.95it/s]"
     ]
    },
    {
     "name": "stdout",
     "output_type": "stream",
     "text": [
      "['th100_mean', 'th50_min']::Cross validation scores:[0.97670549 0.91666667 0.92833333 0.9048414  0.95158598]\n",
      "['th100_mean', 'th50_min']::Cross validation scores:0.9356265739627053\n"
     ]
    },
    {
     "name": "stderr",
     "output_type": "stream",
     "text": [
      "/Users/ryof-mbp/.pyenv/versions/anaconda3-4.4.0/lib/python3.6/site-packages/ipykernel_launcher.py:25: FutureWarning: Method .as_matrix will be removed in a future version. Use .values instead.\n",
      "/Users/ryof-mbp/.pyenv/versions/anaconda3-4.4.0/lib/python3.6/site-packages/ipykernel_launcher.py:27: FutureWarning: Method .as_matrix will be removed in a future version. Use .values instead.\n",
      " 76%|███████▌  | 34/45 [00:17<00:05,  1.95it/s]"
     ]
    },
    {
     "name": "stdout",
     "output_type": "stream",
     "text": [
      "['th100_mean', 'th100_sum']::Cross validation scores:[0.93011647 0.90166667 0.91       0.88313856 0.88313856]\n",
      "['th100_mean', 'th100_sum']::Cross validation scores:0.9016120535520006\n"
     ]
    },
    {
     "name": "stderr",
     "output_type": "stream",
     "text": [
      "/Users/ryof-mbp/.pyenv/versions/anaconda3-4.4.0/lib/python3.6/site-packages/ipykernel_launcher.py:25: FutureWarning: Method .as_matrix will be removed in a future version. Use .values instead.\n",
      "/Users/ryof-mbp/.pyenv/versions/anaconda3-4.4.0/lib/python3.6/site-packages/ipykernel_launcher.py:27: FutureWarning: Method .as_matrix will be removed in a future version. Use .values instead.\n",
      " 78%|███████▊  | 35/45 [00:17<00:05,  1.95it/s]"
     ]
    },
    {
     "name": "stdout",
     "output_type": "stream",
     "text": [
      "['th100_mean', 'th50_sum']::Cross validation scores:[0.94342762 0.925      0.92       0.89816361 0.94824708]\n",
      "['th100_mean', 'th50_sum']::Cross validation scores:0.9269676610212807\n"
     ]
    },
    {
     "name": "stderr",
     "output_type": "stream",
     "text": [
      "/Users/ryof-mbp/.pyenv/versions/anaconda3-4.4.0/lib/python3.6/site-packages/ipykernel_launcher.py:25: FutureWarning: Method .as_matrix will be removed in a future version. Use .values instead.\n",
      "/Users/ryof-mbp/.pyenv/versions/anaconda3-4.4.0/lib/python3.6/site-packages/ipykernel_launcher.py:27: FutureWarning: Method .as_matrix will be removed in a future version. Use .values instead.\n",
      " 80%|████████  | 36/45 [00:18<00:04,  1.95it/s]"
     ]
    },
    {
     "name": "stdout",
     "output_type": "stream",
     "text": [
      "['th50_mean', 'th100_min']::Cross validation scores:[0.95341098 0.93833333 0.92       0.9148581  0.95325543]\n",
      "['th50_mean', 'th100_min']::Cross validation scores:0.9359715675136135\n"
     ]
    },
    {
     "name": "stderr",
     "output_type": "stream",
     "text": [
      "/Users/ryof-mbp/.pyenv/versions/anaconda3-4.4.0/lib/python3.6/site-packages/ipykernel_launcher.py:25: FutureWarning: Method .as_matrix will be removed in a future version. Use .values instead.\n",
      "/Users/ryof-mbp/.pyenv/versions/anaconda3-4.4.0/lib/python3.6/site-packages/ipykernel_launcher.py:27: FutureWarning: Method .as_matrix will be removed in a future version. Use .values instead.\n",
      " 82%|████████▏ | 37/45 [00:18<00:04,  1.95it/s]"
     ]
    },
    {
     "name": "stdout",
     "output_type": "stream",
     "text": [
      "['th50_mean', 'th50_min']::Cross validation scores:[0.97004992 0.93166667 0.93       0.90984975 0.95993322]\n",
      "['th50_mean', 'th50_min']::Cross validation scores:0.9402999110182714\n"
     ]
    },
    {
     "name": "stderr",
     "output_type": "stream",
     "text": [
      "/Users/ryof-mbp/.pyenv/versions/anaconda3-4.4.0/lib/python3.6/site-packages/ipykernel_launcher.py:25: FutureWarning: Method .as_matrix will be removed in a future version. Use .values instead.\n",
      "/Users/ryof-mbp/.pyenv/versions/anaconda3-4.4.0/lib/python3.6/site-packages/ipykernel_launcher.py:27: FutureWarning: Method .as_matrix will be removed in a future version. Use .values instead.\n",
      " 84%|████████▍ | 38/45 [00:19<00:03,  1.95it/s]"
     ]
    },
    {
     "name": "stdout",
     "output_type": "stream",
     "text": [
      "['th50_mean', 'th100_sum']::Cross validation scores:[0.94509151 0.92666667 0.915      0.88647746 0.93989983]\n",
      "['th50_mean', 'th100_sum']::Cross validation scores:0.9226270952604498\n"
     ]
    },
    {
     "name": "stderr",
     "output_type": "stream",
     "text": [
      "/Users/ryof-mbp/.pyenv/versions/anaconda3-4.4.0/lib/python3.6/site-packages/ipykernel_launcher.py:25: FutureWarning: Method .as_matrix will be removed in a future version. Use .values instead.\n",
      "/Users/ryof-mbp/.pyenv/versions/anaconda3-4.4.0/lib/python3.6/site-packages/ipykernel_launcher.py:27: FutureWarning: Method .as_matrix will be removed in a future version. Use .values instead.\n",
      " 87%|████████▋ | 39/45 [00:20<00:03,  1.94it/s]"
     ]
    },
    {
     "name": "stdout",
     "output_type": "stream",
     "text": [
      "['th50_mean', 'th50_sum']::Cross validation scores:[0.93843594 0.915      0.91333333 0.90317195 0.92654424]\n",
      "['th50_mean', 'th50_sum']::Cross validation scores:0.919297093417852\n"
     ]
    },
    {
     "name": "stderr",
     "output_type": "stream",
     "text": [
      "/Users/ryof-mbp/.pyenv/versions/anaconda3-4.4.0/lib/python3.6/site-packages/ipykernel_launcher.py:25: FutureWarning: Method .as_matrix will be removed in a future version. Use .values instead.\n",
      "/Users/ryof-mbp/.pyenv/versions/anaconda3-4.4.0/lib/python3.6/site-packages/ipykernel_launcher.py:27: FutureWarning: Method .as_matrix will be removed in a future version. Use .values instead.\n",
      " 89%|████████▉ | 40/45 [00:20<00:02,  1.95it/s]"
     ]
    },
    {
     "name": "stdout",
     "output_type": "stream",
     "text": [
      "['th100_min', 'th50_min']::Cross validation scores:[0.97836938 0.91333333 0.93833333 0.9048414  0.95325543]\n",
      "['th100_min', 'th50_min']::Cross validation scores:0.9376265758145624\n"
     ]
    },
    {
     "name": "stderr",
     "output_type": "stream",
     "text": [
      "/Users/ryof-mbp/.pyenv/versions/anaconda3-4.4.0/lib/python3.6/site-packages/ipykernel_launcher.py:25: FutureWarning: Method .as_matrix will be removed in a future version. Use .values instead.\n",
      "/Users/ryof-mbp/.pyenv/versions/anaconda3-4.4.0/lib/python3.6/site-packages/ipykernel_launcher.py:27: FutureWarning: Method .as_matrix will be removed in a future version. Use .values instead.\n",
      " 91%|█████████ | 41/45 [00:20<00:02,  1.95it/s]"
     ]
    },
    {
     "name": "stdout",
     "output_type": "stream",
     "text": [
      "['th100_min', 'th100_sum']::Cross validation scores:[0.96006656 0.93666667 0.92       0.90651085 0.93489149]\n",
      "['th100_min', 'th100_sum']::Cross validation scores:0.9316271119271627\n"
     ]
    },
    {
     "name": "stderr",
     "output_type": "stream",
     "text": [
      "/Users/ryof-mbp/.pyenv/versions/anaconda3-4.4.0/lib/python3.6/site-packages/ipykernel_launcher.py:25: FutureWarning: Method .as_matrix will be removed in a future version. Use .values instead.\n",
      "/Users/ryof-mbp/.pyenv/versions/anaconda3-4.4.0/lib/python3.6/site-packages/ipykernel_launcher.py:27: FutureWarning: Method .as_matrix will be removed in a future version. Use .values instead.\n",
      " 93%|█████████▎| 42/45 [00:21<00:01,  1.96it/s]"
     ]
    },
    {
     "name": "stdout",
     "output_type": "stream",
     "text": [
      "['th100_min', 'th50_sum']::Cross validation scores:[0.95507488 0.94166667 0.925      0.91652755 0.95158598]\n",
      "['th100_min', 'th50_sum']::Cross validation scores:0.9379710128824431\n"
     ]
    },
    {
     "name": "stderr",
     "output_type": "stream",
     "text": [
      "/Users/ryof-mbp/.pyenv/versions/anaconda3-4.4.0/lib/python3.6/site-packages/ipykernel_launcher.py:25: FutureWarning: Method .as_matrix will be removed in a future version. Use .values instead.\n",
      "/Users/ryof-mbp/.pyenv/versions/anaconda3-4.4.0/lib/python3.6/site-packages/ipykernel_launcher.py:27: FutureWarning: Method .as_matrix will be removed in a future version. Use .values instead.\n",
      " 96%|█████████▌| 43/45 [00:21<00:01,  1.96it/s]"
     ]
    },
    {
     "name": "stdout",
     "output_type": "stream",
     "text": [
      "['th50_min', 'th100_sum']::Cross validation scores:[0.97670549 0.93333333 0.935      0.90317195 0.95158598]\n",
      "['th50_min', 'th100_sum']::Cross validation scores:0.9399593508130115\n"
     ]
    },
    {
     "name": "stderr",
     "output_type": "stream",
     "text": [
      "/Users/ryof-mbp/.pyenv/versions/anaconda3-4.4.0/lib/python3.6/site-packages/ipykernel_launcher.py:25: FutureWarning: Method .as_matrix will be removed in a future version. Use .values instead.\n",
      "/Users/ryof-mbp/.pyenv/versions/anaconda3-4.4.0/lib/python3.6/site-packages/ipykernel_launcher.py:27: FutureWarning: Method .as_matrix will be removed in a future version. Use .values instead.\n",
      " 98%|█████████▊| 44/45 [00:22<00:00,  1.96it/s]"
     ]
    },
    {
     "name": "stdout",
     "output_type": "stream",
     "text": [
      "['th50_min', 'th50_sum']::Cross validation scores:[0.97004992 0.92666667 0.93       0.9115192  0.95993322]\n",
      "['th50_min', 'th50_sum']::Cross validation scores:0.9396338008346319\n"
     ]
    },
    {
     "name": "stderr",
     "output_type": "stream",
     "text": [
      "/Users/ryof-mbp/.pyenv/versions/anaconda3-4.4.0/lib/python3.6/site-packages/ipykernel_launcher.py:25: FutureWarning: Method .as_matrix will be removed in a future version. Use .values instead.\n",
      "/Users/ryof-mbp/.pyenv/versions/anaconda3-4.4.0/lib/python3.6/site-packages/ipykernel_launcher.py:27: FutureWarning: Method .as_matrix will be removed in a future version. Use .values instead.\n",
      "100%|██████████| 45/45 [00:23<00:00,  1.95it/s]\n",
      "  0%|          | 0/45 [00:00<?, ?it/s]"
     ]
    },
    {
     "name": "stdout",
     "output_type": "stream",
     "text": [
      "['th100_sum', 'th50_sum']::Cross validation scores:[0.94176373 0.92833333 0.91833333 0.88981636 0.94991653]\n",
      "['th100_sum', 'th50_sum']::Cross validation scores:0.9256326563870084\n"
     ]
    },
    {
     "name": "stderr",
     "output_type": "stream",
     "text": [
      "/Users/ryof-mbp/.pyenv/versions/anaconda3-4.4.0/lib/python3.6/site-packages/ipykernel_launcher.py:25: FutureWarning: Method .as_matrix will be removed in a future version. Use .values instead.\n",
      "/Users/ryof-mbp/.pyenv/versions/anaconda3-4.4.0/lib/python3.6/site-packages/ipykernel_launcher.py:27: FutureWarning: Method .as_matrix will be removed in a future version. Use .values instead.\n",
      "  2%|▏         | 1/45 [00:00<00:17,  2.48it/s]"
     ]
    },
    {
     "name": "stdout",
     "output_type": "stream",
     "text": [
      "['th100_median', 'th50_median']::Cross validation scores:[0.96238245 0.95297806 0.91194969 0.94637224 0.95583596]\n",
      "['th100_median', 'th50_median']::Cross validation scores:0.9459036777989468\n"
     ]
    },
    {
     "name": "stderr",
     "output_type": "stream",
     "text": [
      "/Users/ryof-mbp/.pyenv/versions/anaconda3-4.4.0/lib/python3.6/site-packages/ipykernel_launcher.py:25: FutureWarning: Method .as_matrix will be removed in a future version. Use .values instead.\n",
      "/Users/ryof-mbp/.pyenv/versions/anaconda3-4.4.0/lib/python3.6/site-packages/ipykernel_launcher.py:27: FutureWarning: Method .as_matrix will be removed in a future version. Use .values instead.\n",
      "  4%|▍         | 2/45 [00:00<00:17,  2.45it/s]"
     ]
    },
    {
     "name": "stdout",
     "output_type": "stream",
     "text": [
      "['th100_median', 'th100_max']::Cross validation scores:[0.95611285 0.94670846 0.91509434 0.94952681 0.94637224]\n",
      "['th100_median', 'th100_max']::Cross validation scores:0.9427629419729644\n"
     ]
    },
    {
     "name": "stderr",
     "output_type": "stream",
     "text": [
      "/Users/ryof-mbp/.pyenv/versions/anaconda3-4.4.0/lib/python3.6/site-packages/ipykernel_launcher.py:25: FutureWarning: Method .as_matrix will be removed in a future version. Use .values instead.\n",
      "/Users/ryof-mbp/.pyenv/versions/anaconda3-4.4.0/lib/python3.6/site-packages/ipykernel_launcher.py:27: FutureWarning: Method .as_matrix will be removed in a future version. Use .values instead.\n",
      "  7%|▋         | 3/45 [00:01<00:16,  2.48it/s]"
     ]
    },
    {
     "name": "stdout",
     "output_type": "stream",
     "text": [
      "['th100_median', 'th50_max']::Cross validation scores:[0.96238245 0.95297806 0.91509434 0.94637224 0.95268139]\n",
      "['th100_median', 'th50_max']::Cross validation scores:0.9459016937900584\n"
     ]
    },
    {
     "name": "stderr",
     "output_type": "stream",
     "text": [
      "/Users/ryof-mbp/.pyenv/versions/anaconda3-4.4.0/lib/python3.6/site-packages/ipykernel_launcher.py:25: FutureWarning: Method .as_matrix will be removed in a future version. Use .values instead.\n",
      "/Users/ryof-mbp/.pyenv/versions/anaconda3-4.4.0/lib/python3.6/site-packages/ipykernel_launcher.py:27: FutureWarning: Method .as_matrix will be removed in a future version. Use .values instead.\n",
      "  9%|▉         | 4/45 [00:01<00:16,  2.45it/s]"
     ]
    },
    {
     "name": "stdout",
     "output_type": "stream",
     "text": [
      "['th100_median', 'th100_mean']::Cross validation scores:[0.96238245 0.94984326 0.91194969 0.94952681 0.94321767]\n",
      "['th100_median', 'th100_mean']::Cross validation scores:0.9433839740718026\n"
     ]
    },
    {
     "name": "stderr",
     "output_type": "stream",
     "text": [
      "/Users/ryof-mbp/.pyenv/versions/anaconda3-4.4.0/lib/python3.6/site-packages/ipykernel_launcher.py:25: FutureWarning: Method .as_matrix will be removed in a future version. Use .values instead.\n",
      "/Users/ryof-mbp/.pyenv/versions/anaconda3-4.4.0/lib/python3.6/site-packages/ipykernel_launcher.py:27: FutureWarning: Method .as_matrix will be removed in a future version. Use .values instead.\n",
      " 11%|█         | 5/45 [00:02<00:16,  2.47it/s]"
     ]
    },
    {
     "name": "stdout",
     "output_type": "stream",
     "text": [
      "['th100_median', 'th50_mean']::Cross validation scores:[0.96238245 0.95611285 0.91509434 0.94637224 0.95899054]\n",
      "['th100_median', 'th50_mean']::Cross validation scores:0.9477904826907041\n"
     ]
    },
    {
     "name": "stderr",
     "output_type": "stream",
     "text": [
      "/Users/ryof-mbp/.pyenv/versions/anaconda3-4.4.0/lib/python3.6/site-packages/ipykernel_launcher.py:25: FutureWarning: Method .as_matrix will be removed in a future version. Use .values instead.\n",
      "/Users/ryof-mbp/.pyenv/versions/anaconda3-4.4.0/lib/python3.6/site-packages/ipykernel_launcher.py:27: FutureWarning: Method .as_matrix will be removed in a future version. Use .values instead.\n",
      " 13%|█▎        | 6/45 [00:02<00:15,  2.51it/s]"
     ]
    },
    {
     "name": "stdout",
     "output_type": "stream",
     "text": [
      "['th100_median', 'th100_min']::Cross validation scores:[0.96238245 0.94984326 0.91194969 0.94952681 0.94321767]\n",
      "['th100_median', 'th100_min']::Cross validation scores:0.9433839740718026\n"
     ]
    },
    {
     "name": "stderr",
     "output_type": "stream",
     "text": [
      "/Users/ryof-mbp/.pyenv/versions/anaconda3-4.4.0/lib/python3.6/site-packages/ipykernel_launcher.py:25: FutureWarning: Method .as_matrix will be removed in a future version. Use .values instead.\n",
      "/Users/ryof-mbp/.pyenv/versions/anaconda3-4.4.0/lib/python3.6/site-packages/ipykernel_launcher.py:27: FutureWarning: Method .as_matrix will be removed in a future version. Use .values instead.\n",
      " 16%|█▌        | 7/45 [00:02<00:15,  2.53it/s]"
     ]
    },
    {
     "name": "stdout",
     "output_type": "stream",
     "text": [
      "['th100_median', 'th50_min']::Cross validation scores:[0.97178683 0.96238245 0.91194969 0.94006309 0.95268139]\n",
      "['th100_median', 'th50_min']::Cross validation scores:0.9477726888053448\n"
     ]
    },
    {
     "name": "stderr",
     "output_type": "stream",
     "text": [
      "/Users/ryof-mbp/.pyenv/versions/anaconda3-4.4.0/lib/python3.6/site-packages/ipykernel_launcher.py:25: FutureWarning: Method .as_matrix will be removed in a future version. Use .values instead.\n",
      "/Users/ryof-mbp/.pyenv/versions/anaconda3-4.4.0/lib/python3.6/site-packages/ipykernel_launcher.py:27: FutureWarning: Method .as_matrix will be removed in a future version. Use .values instead.\n",
      " 18%|█▊        | 8/45 [00:03<00:14,  2.53it/s]"
     ]
    },
    {
     "name": "stdout",
     "output_type": "stream",
     "text": [
      "['th100_median', 'th100_sum']::Cross validation scores:[0.96238245 0.95611285 0.90880503 0.94952681 0.95583596]\n",
      "['th100_median', 'th100_sum']::Cross validation scores:0.9465326210554841\n"
     ]
    },
    {
     "name": "stderr",
     "output_type": "stream",
     "text": [
      "/Users/ryof-mbp/.pyenv/versions/anaconda3-4.4.0/lib/python3.6/site-packages/ipykernel_launcher.py:25: FutureWarning: Method .as_matrix will be removed in a future version. Use .values instead.\n",
      "/Users/ryof-mbp/.pyenv/versions/anaconda3-4.4.0/lib/python3.6/site-packages/ipykernel_launcher.py:27: FutureWarning: Method .as_matrix will be removed in a future version. Use .values instead.\n",
      " 20%|██        | 9/45 [00:03<00:14,  2.53it/s]"
     ]
    },
    {
     "name": "stdout",
     "output_type": "stream",
     "text": [
      "['th100_median', 'th50_sum']::Cross validation scores:[0.96238245 0.95297806 0.91194969 0.94637224 0.95899054]\n",
      "['th100_median', 'th50_sum']::Cross validation scores:0.9465345926254451\n"
     ]
    },
    {
     "name": "stderr",
     "output_type": "stream",
     "text": [
      "/Users/ryof-mbp/.pyenv/versions/anaconda3-4.4.0/lib/python3.6/site-packages/ipykernel_launcher.py:25: FutureWarning: Method .as_matrix will be removed in a future version. Use .values instead.\n",
      "/Users/ryof-mbp/.pyenv/versions/anaconda3-4.4.0/lib/python3.6/site-packages/ipykernel_launcher.py:27: FutureWarning: Method .as_matrix will be removed in a future version. Use .values instead.\n",
      " 22%|██▏       | 10/45 [00:03<00:13,  2.52it/s]"
     ]
    },
    {
     "name": "stdout",
     "output_type": "stream",
     "text": [
      "['th50_median', 'th100_max']::Cross validation scores:[0.94670846 0.93730408 0.9245283  0.93059937 0.94952681]\n",
      "['th50_median', 'th100_max']::Cross validation scores:0.937733404807409\n"
     ]
    },
    {
     "name": "stderr",
     "output_type": "stream",
     "text": [
      "/Users/ryof-mbp/.pyenv/versions/anaconda3-4.4.0/lib/python3.6/site-packages/ipykernel_launcher.py:25: FutureWarning: Method .as_matrix will be removed in a future version. Use .values instead.\n",
      "/Users/ryof-mbp/.pyenv/versions/anaconda3-4.4.0/lib/python3.6/site-packages/ipykernel_launcher.py:27: FutureWarning: Method .as_matrix will be removed in a future version. Use .values instead.\n",
      " 24%|██▍       | 11/45 [00:04<00:13,  2.51it/s]"
     ]
    },
    {
     "name": "stdout",
     "output_type": "stream",
     "text": [
      "['th50_median', 'th50_max']::Cross validation scores:[0.93103448 0.94043887 0.92138365 0.92429022 0.93690852]\n",
      "['th50_median', 'th50_max']::Cross validation scores:0.9308111480402129\n"
     ]
    },
    {
     "name": "stderr",
     "output_type": "stream",
     "text": [
      "/Users/ryof-mbp/.pyenv/versions/anaconda3-4.4.0/lib/python3.6/site-packages/ipykernel_launcher.py:25: FutureWarning: Method .as_matrix will be removed in a future version. Use .values instead.\n",
      "/Users/ryof-mbp/.pyenv/versions/anaconda3-4.4.0/lib/python3.6/site-packages/ipykernel_launcher.py:27: FutureWarning: Method .as_matrix will be removed in a future version. Use .values instead.\n",
      " 27%|██▋       | 12/45 [00:04<00:13,  2.51it/s]"
     ]
    },
    {
     "name": "stdout",
     "output_type": "stream",
     "text": [
      "['th50_median', 'th100_mean']::Cross validation scores:[0.93730408 0.93730408 0.91194969 0.92429022 0.94321767]\n",
      "['th50_median', 'th100_mean']::Cross validation scores:0.9308131444880283\n"
     ]
    },
    {
     "name": "stderr",
     "output_type": "stream",
     "text": [
      "/Users/ryof-mbp/.pyenv/versions/anaconda3-4.4.0/lib/python3.6/site-packages/ipykernel_launcher.py:25: FutureWarning: Method .as_matrix will be removed in a future version. Use .values instead.\n",
      "/Users/ryof-mbp/.pyenv/versions/anaconda3-4.4.0/lib/python3.6/site-packages/ipykernel_launcher.py:27: FutureWarning: Method .as_matrix will be removed in a future version. Use .values instead.\n",
      " 29%|██▉       | 13/45 [00:05<00:12,  2.50it/s]"
     ]
    },
    {
     "name": "stdout",
     "output_type": "stream",
     "text": [
      "['th50_median', 'th50_mean']::Cross validation scores:[0.94043887 0.93416928 0.92138365 0.93059937 0.94006309]\n",
      "['th50_median', 'th50_mean']::Cross validation scores:0.9333308517673571\n"
     ]
    },
    {
     "name": "stderr",
     "output_type": "stream",
     "text": [
      "/Users/ryof-mbp/.pyenv/versions/anaconda3-4.4.0/lib/python3.6/site-packages/ipykernel_launcher.py:25: FutureWarning: Method .as_matrix will be removed in a future version. Use .values instead.\n",
      "/Users/ryof-mbp/.pyenv/versions/anaconda3-4.4.0/lib/python3.6/site-packages/ipykernel_launcher.py:27: FutureWarning: Method .as_matrix will be removed in a future version. Use .values instead.\n",
      " 31%|███       | 14/45 [00:05<00:12,  2.51it/s]"
     ]
    },
    {
     "name": "stdout",
     "output_type": "stream",
     "text": [
      "['th50_median', 'th100_min']::Cross validation scores:[0.94043887 0.94357367 0.91509434 0.93690852 0.94006309]\n",
      "['th50_median', 'th100_min']::Cross validation scores:0.9352156975280804\n"
     ]
    },
    {
     "name": "stderr",
     "output_type": "stream",
     "text": [
      "/Users/ryof-mbp/.pyenv/versions/anaconda3-4.4.0/lib/python3.6/site-packages/ipykernel_launcher.py:25: FutureWarning: Method .as_matrix will be removed in a future version. Use .values instead.\n",
      "/Users/ryof-mbp/.pyenv/versions/anaconda3-4.4.0/lib/python3.6/site-packages/ipykernel_launcher.py:27: FutureWarning: Method .as_matrix will be removed in a future version. Use .values instead.\n",
      " 33%|███▎      | 15/45 [00:05<00:11,  2.51it/s]"
     ]
    },
    {
     "name": "stdout",
     "output_type": "stream",
     "text": [
      "['th50_median', 'th50_min']::Cross validation scores:[0.97492163 0.95924765 0.89622642 0.94321767 0.95583596]\n",
      "['th50_median', 'th50_min']::Cross validation scores:0.9458898643702914\n"
     ]
    },
    {
     "name": "stderr",
     "output_type": "stream",
     "text": [
      "/Users/ryof-mbp/.pyenv/versions/anaconda3-4.4.0/lib/python3.6/site-packages/ipykernel_launcher.py:25: FutureWarning: Method .as_matrix will be removed in a future version. Use .values instead.\n",
      "/Users/ryof-mbp/.pyenv/versions/anaconda3-4.4.0/lib/python3.6/site-packages/ipykernel_launcher.py:27: FutureWarning: Method .as_matrix will be removed in a future version. Use .values instead.\n",
      " 36%|███▌      | 16/45 [00:06<00:11,  2.51it/s]"
     ]
    },
    {
     "name": "stdout",
     "output_type": "stream",
     "text": [
      "['th50_median', 'th100_sum']::Cross validation scores:[0.94357367 0.93103448 0.90880503 0.93690852 0.93690852]\n",
      "['th50_median', 'th100_sum']::Cross validation scores:0.9314460433234151\n"
     ]
    },
    {
     "name": "stderr",
     "output_type": "stream",
     "text": [
      "/Users/ryof-mbp/.pyenv/versions/anaconda3-4.4.0/lib/python3.6/site-packages/ipykernel_launcher.py:25: FutureWarning: Method .as_matrix will be removed in a future version. Use .values instead.\n",
      "/Users/ryof-mbp/.pyenv/versions/anaconda3-4.4.0/lib/python3.6/site-packages/ipykernel_launcher.py:27: FutureWarning: Method .as_matrix will be removed in a future version. Use .values instead.\n",
      " 38%|███▊      | 17/45 [00:06<00:11,  2.50it/s]"
     ]
    },
    {
     "name": "stdout",
     "output_type": "stream",
     "text": [
      "['th50_median', 'th50_sum']::Cross validation scores:[0.94670846 0.93416928 0.91823899 0.92429022 0.94006309]\n",
      "['th50_median', 'th50_sum']::Cross validation scores:0.932694009792048\n"
     ]
    },
    {
     "name": "stderr",
     "output_type": "stream",
     "text": [
      "/Users/ryof-mbp/.pyenv/versions/anaconda3-4.4.0/lib/python3.6/site-packages/ipykernel_launcher.py:25: FutureWarning: Method .as_matrix will be removed in a future version. Use .values instead.\n",
      "/Users/ryof-mbp/.pyenv/versions/anaconda3-4.4.0/lib/python3.6/site-packages/ipykernel_launcher.py:27: FutureWarning: Method .as_matrix will be removed in a future version. Use .values instead.\n",
      " 40%|████      | 18/45 [00:07<00:10,  2.50it/s]"
     ]
    },
    {
     "name": "stdout",
     "output_type": "stream",
     "text": [
      "['th100_max', 'th50_max']::Cross validation scores:[0.91222571 0.91222571 0.85220126 0.88958991 0.91798107]\n",
      "['th100_max', 'th50_max']::Cross validation scores:0.8968447292875845\n"
     ]
    },
    {
     "name": "stderr",
     "output_type": "stream",
     "text": [
      "/Users/ryof-mbp/.pyenv/versions/anaconda3-4.4.0/lib/python3.6/site-packages/ipykernel_launcher.py:25: FutureWarning: Method .as_matrix will be removed in a future version. Use .values instead.\n",
      "/Users/ryof-mbp/.pyenv/versions/anaconda3-4.4.0/lib/python3.6/site-packages/ipykernel_launcher.py:27: FutureWarning: Method .as_matrix will be removed in a future version. Use .values instead.\n",
      " 42%|████▏     | 19/45 [00:07<00:10,  2.49it/s]"
     ]
    },
    {
     "name": "stdout",
     "output_type": "stream",
     "text": [
      "['th100_max', 'th100_mean']::Cross validation scores:[0.93416928 0.94984326 0.86163522 0.92113565 0.90536278]\n",
      "['th100_max', 'th100_mean']::Cross validation scores:0.9144292364047345\n"
     ]
    },
    {
     "name": "stderr",
     "output_type": "stream",
     "text": [
      "/Users/ryof-mbp/.pyenv/versions/anaconda3-4.4.0/lib/python3.6/site-packages/ipykernel_launcher.py:25: FutureWarning: Method .as_matrix will be removed in a future version. Use .values instead.\n",
      "/Users/ryof-mbp/.pyenv/versions/anaconda3-4.4.0/lib/python3.6/site-packages/ipykernel_launcher.py:27: FutureWarning: Method .as_matrix will be removed in a future version. Use .values instead.\n",
      " 44%|████▍     | 20/45 [00:08<00:10,  2.48it/s]"
     ]
    },
    {
     "name": "stdout",
     "output_type": "stream",
     "text": [
      "['th100_max', 'th50_mean']::Cross validation scores:[0.92789969 0.92476489 0.88679245 0.90851735 0.94321767]\n",
      "['th100_max', 'th50_mean']::Cross validation scores:0.9182384090811135\n"
     ]
    },
    {
     "name": "stderr",
     "output_type": "stream",
     "text": [
      "/Users/ryof-mbp/.pyenv/versions/anaconda3-4.4.0/lib/python3.6/site-packages/ipykernel_launcher.py:25: FutureWarning: Method .as_matrix will be removed in a future version. Use .values instead.\n",
      "/Users/ryof-mbp/.pyenv/versions/anaconda3-4.4.0/lib/python3.6/site-packages/ipykernel_launcher.py:27: FutureWarning: Method .as_matrix will be removed in a future version. Use .values instead.\n",
      " 47%|████▋     | 21/45 [00:08<00:09,  2.49it/s]"
     ]
    },
    {
     "name": "stdout",
     "output_type": "stream",
     "text": [
      "['th100_max', 'th100_min']::Cross validation scores:[0.97178683 0.93103448 0.90251572 0.93059937 0.91167192]\n",
      "['th100_max', 'th100_min']::Cross validation scores:0.9295216666520508\n"
     ]
    },
    {
     "name": "stderr",
     "output_type": "stream",
     "text": [
      "/Users/ryof-mbp/.pyenv/versions/anaconda3-4.4.0/lib/python3.6/site-packages/ipykernel_launcher.py:25: FutureWarning: Method .as_matrix will be removed in a future version. Use .values instead.\n",
      "/Users/ryof-mbp/.pyenv/versions/anaconda3-4.4.0/lib/python3.6/site-packages/ipykernel_launcher.py:27: FutureWarning: Method .as_matrix will be removed in a future version. Use .values instead.\n",
      " 49%|████▉     | 22/45 [00:08<00:09,  2.49it/s]"
     ]
    },
    {
     "name": "stdout",
     "output_type": "stream",
     "text": [
      "['th100_max', 'th50_min']::Cross validation scores:[0.96551724 0.96551724 0.88050314 0.93375394 0.95268139]\n",
      "['th100_max', 'th50_min']::Cross validation scores:0.9395945917285985\n"
     ]
    },
    {
     "name": "stderr",
     "output_type": "stream",
     "text": [
      "/Users/ryof-mbp/.pyenv/versions/anaconda3-4.4.0/lib/python3.6/site-packages/ipykernel_launcher.py:25: FutureWarning: Method .as_matrix will be removed in a future version. Use .values instead.\n",
      "/Users/ryof-mbp/.pyenv/versions/anaconda3-4.4.0/lib/python3.6/site-packages/ipykernel_launcher.py:27: FutureWarning: Method .as_matrix will be removed in a future version. Use .values instead.\n",
      " 51%|█████     | 23/45 [00:09<00:08,  2.49it/s]"
     ]
    },
    {
     "name": "stdout",
     "output_type": "stream",
     "text": [
      "['th100_max', 'th100_sum']::Cross validation scores:[0.93416928 0.94670846 0.86792453 0.92113565 0.9022082 ]\n",
      "['th100_max', 'th100_sum']::Cross validation scores:0.9144292239658075\n"
     ]
    },
    {
     "name": "stderr",
     "output_type": "stream",
     "text": [
      "/Users/ryof-mbp/.pyenv/versions/anaconda3-4.4.0/lib/python3.6/site-packages/ipykernel_launcher.py:25: FutureWarning: Method .as_matrix will be removed in a future version. Use .values instead.\n",
      "/Users/ryof-mbp/.pyenv/versions/anaconda3-4.4.0/lib/python3.6/site-packages/ipykernel_launcher.py:27: FutureWarning: Method .as_matrix will be removed in a future version. Use .values instead.\n",
      " 53%|█████▎    | 24/45 [00:09<00:08,  2.48it/s]"
     ]
    },
    {
     "name": "stdout",
     "output_type": "stream",
     "text": [
      "['th100_max', 'th50_sum']::Cross validation scores:[0.9184953  0.92163009 0.90880503 0.90851735 0.94006309]\n",
      "['th100_max', 'th50_sum']::Cross validation scores:0.9195021729872899\n"
     ]
    },
    {
     "name": "stderr",
     "output_type": "stream",
     "text": [
      "/Users/ryof-mbp/.pyenv/versions/anaconda3-4.4.0/lib/python3.6/site-packages/ipykernel_launcher.py:25: FutureWarning: Method .as_matrix will be removed in a future version. Use .values instead.\n",
      "/Users/ryof-mbp/.pyenv/versions/anaconda3-4.4.0/lib/python3.6/site-packages/ipykernel_launcher.py:27: FutureWarning: Method .as_matrix will be removed in a future version. Use .values instead.\n",
      " 56%|█████▌    | 25/45 [00:10<00:08,  2.48it/s]"
     ]
    },
    {
     "name": "stdout",
     "output_type": "stream",
     "text": [
      "['th50_max', 'th100_mean']::Cross validation scores:[0.93103448 0.92163009 0.84591195 0.89589905 0.88643533]\n",
      "['th50_max', 'th100_mean']::Cross validation scores:0.8961821822692173\n"
     ]
    },
    {
     "name": "stderr",
     "output_type": "stream",
     "text": [
      "/Users/ryof-mbp/.pyenv/versions/anaconda3-4.4.0/lib/python3.6/site-packages/ipykernel_launcher.py:25: FutureWarning: Method .as_matrix will be removed in a future version. Use .values instead.\n",
      "/Users/ryof-mbp/.pyenv/versions/anaconda3-4.4.0/lib/python3.6/site-packages/ipykernel_launcher.py:27: FutureWarning: Method .as_matrix will be removed in a future version. Use .values instead.\n",
      " 58%|█████▊    | 26/45 [00:10<00:07,  2.48it/s]"
     ]
    },
    {
     "name": "stdout",
     "output_type": "stream",
     "text": [
      "['th50_max', 'th50_mean']::Cross validation scores:[0.95297806 0.92163009 0.90251572 0.91167192 0.94006309]\n",
      "['th50_max', 'th50_mean']::Cross validation scores:0.9257717779027061\n"
     ]
    },
    {
     "name": "stderr",
     "output_type": "stream",
     "text": [
      "/Users/ryof-mbp/.pyenv/versions/anaconda3-4.4.0/lib/python3.6/site-packages/ipykernel_launcher.py:25: FutureWarning: Method .as_matrix will be removed in a future version. Use .values instead.\n",
      "/Users/ryof-mbp/.pyenv/versions/anaconda3-4.4.0/lib/python3.6/site-packages/ipykernel_launcher.py:27: FutureWarning: Method .as_matrix will be removed in a future version. Use .values instead.\n",
      " 60%|██████    | 27/45 [00:10<00:07,  2.48it/s]"
     ]
    },
    {
     "name": "stdout",
     "output_type": "stream",
     "text": [
      "['th50_max', 'th100_min']::Cross validation scores:[0.95924765 0.93416928 0.91194969 0.92744479 0.92113565]\n",
      "['th50_max', 'th100_min']::Cross validation scores:0.9307894110149313\n"
     ]
    },
    {
     "name": "stderr",
     "output_type": "stream",
     "text": [
      "/Users/ryof-mbp/.pyenv/versions/anaconda3-4.4.0/lib/python3.6/site-packages/ipykernel_launcher.py:25: FutureWarning: Method .as_matrix will be removed in a future version. Use .values instead.\n",
      "/Users/ryof-mbp/.pyenv/versions/anaconda3-4.4.0/lib/python3.6/site-packages/ipykernel_launcher.py:27: FutureWarning: Method .as_matrix will be removed in a future version. Use .values instead.\n",
      " 62%|██████▏   | 28/45 [00:11<00:06,  2.48it/s]"
     ]
    },
    {
     "name": "stdout",
     "output_type": "stream",
     "text": [
      "['th50_max', 'th50_min']::Cross validation scores:[0.95924765 0.95924765 0.90251572 0.94006309 0.95268139]\n",
      "['th50_max', 'th50_min']::Cross validation scores:0.9427511001142703\n"
     ]
    },
    {
     "name": "stderr",
     "output_type": "stream",
     "text": [
      "/Users/ryof-mbp/.pyenv/versions/anaconda3-4.4.0/lib/python3.6/site-packages/ipykernel_launcher.py:25: FutureWarning: Method .as_matrix will be removed in a future version. Use .values instead.\n",
      "/Users/ryof-mbp/.pyenv/versions/anaconda3-4.4.0/lib/python3.6/site-packages/ipykernel_launcher.py:27: FutureWarning: Method .as_matrix will be removed in a future version. Use .values instead.\n",
      " 64%|██████▍   | 29/45 [00:11<00:06,  2.47it/s]"
     ]
    },
    {
     "name": "stdout",
     "output_type": "stream",
     "text": [
      "['th50_max', 'th100_sum']::Cross validation scores:[0.94043887 0.92163009 0.85849057 0.89274448 0.88012618]\n",
      "['th50_max', 'th100_sum']::Cross validation scores:0.898686038803109\n"
     ]
    },
    {
     "name": "stderr",
     "output_type": "stream",
     "text": [
      "/Users/ryof-mbp/.pyenv/versions/anaconda3-4.4.0/lib/python3.6/site-packages/ipykernel_launcher.py:25: FutureWarning: Method .as_matrix will be removed in a future version. Use .values instead.\n",
      "/Users/ryof-mbp/.pyenv/versions/anaconda3-4.4.0/lib/python3.6/site-packages/ipykernel_launcher.py:27: FutureWarning: Method .as_matrix will be removed in a future version. Use .values instead.\n",
      " 67%|██████▋   | 30/45 [00:12<00:06,  2.47it/s]"
     ]
    },
    {
     "name": "stdout",
     "output_type": "stream",
     "text": [
      "['th50_max', 'th50_sum']::Cross validation scores:[0.94670846 0.92789969 0.90566038 0.9148265  0.93690852]\n",
      "['th50_max', 'th50_sum']::Cross validation scores:0.9264007087203161\n"
     ]
    },
    {
     "name": "stderr",
     "output_type": "stream",
     "text": [
      "/Users/ryof-mbp/.pyenv/versions/anaconda3-4.4.0/lib/python3.6/site-packages/ipykernel_launcher.py:25: FutureWarning: Method .as_matrix will be removed in a future version. Use .values instead.\n",
      "/Users/ryof-mbp/.pyenv/versions/anaconda3-4.4.0/lib/python3.6/site-packages/ipykernel_launcher.py:27: FutureWarning: Method .as_matrix will be removed in a future version. Use .values instead.\n",
      " 69%|██████▉   | 31/45 [00:12<00:05,  2.47it/s]"
     ]
    },
    {
     "name": "stdout",
     "output_type": "stream",
     "text": [
      "['th100_mean', 'th50_mean']::Cross validation scores:[0.94984326 0.92476489 0.89937107 0.9022082  0.93375394]\n",
      "['th100_mean', 'th50_mean']::Cross validation scores:0.921988272952604\n"
     ]
    },
    {
     "name": "stderr",
     "output_type": "stream",
     "text": [
      "/Users/ryof-mbp/.pyenv/versions/anaconda3-4.4.0/lib/python3.6/site-packages/ipykernel_launcher.py:25: FutureWarning: Method .as_matrix will be removed in a future version. Use .values instead.\n",
      "/Users/ryof-mbp/.pyenv/versions/anaconda3-4.4.0/lib/python3.6/site-packages/ipykernel_launcher.py:27: FutureWarning: Method .as_matrix will be removed in a future version. Use .values instead.\n",
      " 71%|███████   | 32/45 [00:12<00:05,  2.47it/s]"
     ]
    },
    {
     "name": "stdout",
     "output_type": "stream",
     "text": [
      "['th100_mean', 'th100_min']::Cross validation scores:[0.96238245 0.93103448 0.91823899 0.92744479 0.9148265 ]\n",
      "['th100_mean', 'th100_min']::Cross validation scores:0.9307854429971545\n"
     ]
    },
    {
     "name": "stderr",
     "output_type": "stream",
     "text": [
      "/Users/ryof-mbp/.pyenv/versions/anaconda3-4.4.0/lib/python3.6/site-packages/ipykernel_launcher.py:25: FutureWarning: Method .as_matrix will be removed in a future version. Use .values instead.\n",
      "/Users/ryof-mbp/.pyenv/versions/anaconda3-4.4.0/lib/python3.6/site-packages/ipykernel_launcher.py:27: FutureWarning: Method .as_matrix will be removed in a future version. Use .values instead.\n",
      " 73%|███████▎  | 33/45 [00:13<00:04,  2.47it/s]"
     ]
    },
    {
     "name": "stdout",
     "output_type": "stream",
     "text": [
      "['th100_mean', 'th50_min']::Cross validation scores:[0.97178683 0.96865204 0.8836478  0.94006309 0.94952681]\n",
      "['th100_mean', 'th50_min']::Cross validation scores:0.9427353151156538\n"
     ]
    },
    {
     "name": "stderr",
     "output_type": "stream",
     "text": [
      "/Users/ryof-mbp/.pyenv/versions/anaconda3-4.4.0/lib/python3.6/site-packages/ipykernel_launcher.py:25: FutureWarning: Method .as_matrix will be removed in a future version. Use .values instead.\n",
      "/Users/ryof-mbp/.pyenv/versions/anaconda3-4.4.0/lib/python3.6/site-packages/ipykernel_launcher.py:27: FutureWarning: Method .as_matrix will be removed in a future version. Use .values instead.\n",
      " 76%|███████▌  | 34/45 [00:13<00:04,  2.47it/s]"
     ]
    },
    {
     "name": "stdout",
     "output_type": "stream",
     "text": [
      "['th100_mean', 'th100_sum']::Cross validation scores:[0.92789969 0.92789969 0.83647799 0.89589905 0.91167192]\n",
      "['th100_mean', 'th100_sum']::Cross validation scores:0.8999696676760234\n"
     ]
    },
    {
     "name": "stderr",
     "output_type": "stream",
     "text": [
      "/Users/ryof-mbp/.pyenv/versions/anaconda3-4.4.0/lib/python3.6/site-packages/ipykernel_launcher.py:25: FutureWarning: Method .as_matrix will be removed in a future version. Use .values instead.\n",
      "/Users/ryof-mbp/.pyenv/versions/anaconda3-4.4.0/lib/python3.6/site-packages/ipykernel_launcher.py:27: FutureWarning: Method .as_matrix will be removed in a future version. Use .values instead.\n",
      " 78%|███████▊  | 35/45 [00:14<00:04,  2.46it/s]"
     ]
    },
    {
     "name": "stdout",
     "output_type": "stream",
     "text": [
      "['th100_mean', 'th50_sum']::Cross validation scores:[0.93416928 0.92163009 0.90880503 0.9022082  0.94637224]\n",
      "['th100_mean', 'th50_sum']::Cross validation scores:0.9226369692255345\n"
     ]
    },
    {
     "name": "stderr",
     "output_type": "stream",
     "text": [
      "/Users/ryof-mbp/.pyenv/versions/anaconda3-4.4.0/lib/python3.6/site-packages/ipykernel_launcher.py:25: FutureWarning: Method .as_matrix will be removed in a future version. Use .values instead.\n",
      "/Users/ryof-mbp/.pyenv/versions/anaconda3-4.4.0/lib/python3.6/site-packages/ipykernel_launcher.py:27: FutureWarning: Method .as_matrix will be removed in a future version. Use .values instead.\n",
      " 80%|████████  | 36/45 [00:14<00:03,  2.47it/s]"
     ]
    },
    {
     "name": "stdout",
     "output_type": "stream",
     "text": [
      "['th50_mean', 'th100_min']::Cross validation scores:[0.96551724 0.92789969 0.90880503 0.9148265  0.93690852]\n",
      "['th50_mean', 'th100_min']::Cross validation scores:0.9307913950238197\n"
     ]
    },
    {
     "name": "stderr",
     "output_type": "stream",
     "text": [
      "/Users/ryof-mbp/.pyenv/versions/anaconda3-4.4.0/lib/python3.6/site-packages/ipykernel_launcher.py:25: FutureWarning: Method .as_matrix will be removed in a future version. Use .values instead.\n",
      "/Users/ryof-mbp/.pyenv/versions/anaconda3-4.4.0/lib/python3.6/site-packages/ipykernel_launcher.py:27: FutureWarning: Method .as_matrix will be removed in a future version. Use .values instead.\n",
      " 82%|████████▏ | 37/45 [00:14<00:03,  2.47it/s]"
     ]
    },
    {
     "name": "stdout",
     "output_type": "stream",
     "text": [
      "['th50_mean', 'th50_min']::Cross validation scores:[0.97178683 0.97178683 0.88993711 0.93375394 0.95268139]\n",
      "['th50_mean', 'th50_min']::Cross validation scores:0.9439892211720243\n"
     ]
    },
    {
     "name": "stderr",
     "output_type": "stream",
     "text": [
      "/Users/ryof-mbp/.pyenv/versions/anaconda3-4.4.0/lib/python3.6/site-packages/ipykernel_launcher.py:25: FutureWarning: Method .as_matrix will be removed in a future version. Use .values instead.\n",
      "/Users/ryof-mbp/.pyenv/versions/anaconda3-4.4.0/lib/python3.6/site-packages/ipykernel_launcher.py:27: FutureWarning: Method .as_matrix will be removed in a future version. Use .values instead.\n",
      " 84%|████████▍ | 38/45 [00:15<00:02,  2.47it/s]"
     ]
    },
    {
     "name": "stdout",
     "output_type": "stream",
     "text": [
      "['th50_mean', 'th100_sum']::Cross validation scores:[0.94670846 0.92163009 0.89622642 0.9022082  0.93375394]\n",
      "['th50_mean', 'th100_sum']::Cross validation scores:0.9201054236396959\n"
     ]
    },
    {
     "name": "stderr",
     "output_type": "stream",
     "text": [
      "/Users/ryof-mbp/.pyenv/versions/anaconda3-4.4.0/lib/python3.6/site-packages/ipykernel_launcher.py:25: FutureWarning: Method .as_matrix will be removed in a future version. Use .values instead.\n",
      "/Users/ryof-mbp/.pyenv/versions/anaconda3-4.4.0/lib/python3.6/site-packages/ipykernel_launcher.py:27: FutureWarning: Method .as_matrix will be removed in a future version. Use .values instead.\n",
      " 87%|████████▋ | 39/45 [00:15<00:02,  2.46it/s]"
     ]
    },
    {
     "name": "stdout",
     "output_type": "stream",
     "text": [
      "['th50_mean', 'th50_sum']::Cross validation scores:[0.9184953  0.92163009 0.87106918 0.90851735 0.94321767]\n",
      "['th50_mean', 'th50_sum']::Cross validation scores:0.9125859180024676\n"
     ]
    },
    {
     "name": "stderr",
     "output_type": "stream",
     "text": [
      "/Users/ryof-mbp/.pyenv/versions/anaconda3-4.4.0/lib/python3.6/site-packages/ipykernel_launcher.py:25: FutureWarning: Method .as_matrix will be removed in a future version. Use .values instead.\n",
      "/Users/ryof-mbp/.pyenv/versions/anaconda3-4.4.0/lib/python3.6/site-packages/ipykernel_launcher.py:27: FutureWarning: Method .as_matrix will be removed in a future version. Use .values instead.\n",
      " 89%|████████▉ | 40/45 [00:16<00:02,  2.47it/s]"
     ]
    },
    {
     "name": "stdout",
     "output_type": "stream",
     "text": [
      "['th100_min', 'th50_min']::Cross validation scores:[0.97492163 0.97178683 0.88993711 0.93375394 0.94952681]\n",
      "['th100_min', 'th50_min']::Cross validation scores:0.9439852655931749\n"
     ]
    },
    {
     "name": "stderr",
     "output_type": "stream",
     "text": [
      "/Users/ryof-mbp/.pyenv/versions/anaconda3-4.4.0/lib/python3.6/site-packages/ipykernel_launcher.py:25: FutureWarning: Method .as_matrix will be removed in a future version. Use .values instead.\n",
      "/Users/ryof-mbp/.pyenv/versions/anaconda3-4.4.0/lib/python3.6/site-packages/ipykernel_launcher.py:27: FutureWarning: Method .as_matrix will be removed in a future version. Use .values instead.\n",
      " 91%|█████████ | 41/45 [00:16<00:01,  2.47it/s]"
     ]
    },
    {
     "name": "stdout",
     "output_type": "stream",
     "text": [
      "['th100_min', 'th100_sum']::Cross validation scores:[0.95924765 0.92789969 0.91823899 0.92744479 0.9148265 ]\n",
      "['th100_min', 'th100_sum']::Cross validation scores:0.9295315245018567\n"
     ]
    },
    {
     "name": "stderr",
     "output_type": "stream",
     "text": [
      "/Users/ryof-mbp/.pyenv/versions/anaconda3-4.4.0/lib/python3.6/site-packages/ipykernel_launcher.py:25: FutureWarning: Method .as_matrix will be removed in a future version. Use .values instead.\n",
      "/Users/ryof-mbp/.pyenv/versions/anaconda3-4.4.0/lib/python3.6/site-packages/ipykernel_launcher.py:27: FutureWarning: Method .as_matrix will be removed in a future version. Use .values instead.\n",
      " 93%|█████████▎| 42/45 [00:16<00:01,  2.47it/s]"
     ]
    },
    {
     "name": "stdout",
     "output_type": "stream",
     "text": [
      "['th100_min', 'th50_sum']::Cross validation scores:[0.95924765 0.92476489 0.91823899 0.90851735 0.93690852]\n",
      "['th100_min', 'th50_sum']::Cross validation scores:0.9295354800807063\n"
     ]
    },
    {
     "name": "stderr",
     "output_type": "stream",
     "text": [
      "/Users/ryof-mbp/.pyenv/versions/anaconda3-4.4.0/lib/python3.6/site-packages/ipykernel_launcher.py:25: FutureWarning: Method .as_matrix will be removed in a future version. Use .values instead.\n",
      "/Users/ryof-mbp/.pyenv/versions/anaconda3-4.4.0/lib/python3.6/site-packages/ipykernel_launcher.py:27: FutureWarning: Method .as_matrix will be removed in a future version. Use .values instead.\n",
      " 96%|█████████▌| 43/45 [00:17<00:00,  2.47it/s]"
     ]
    },
    {
     "name": "stdout",
     "output_type": "stream",
     "text": [
      "['th50_min', 'th100_sum']::Cross validation scores:[0.96865204 0.96865204 0.8836478  0.94006309 0.94952681]\n",
      "['th50_min', 'th100_sum']::Cross validation scores:0.9421083558680048\n"
     ]
    },
    {
     "name": "stderr",
     "output_type": "stream",
     "text": [
      "/Users/ryof-mbp/.pyenv/versions/anaconda3-4.4.0/lib/python3.6/site-packages/ipykernel_launcher.py:25: FutureWarning: Method .as_matrix will be removed in a future version. Use .values instead.\n",
      "/Users/ryof-mbp/.pyenv/versions/anaconda3-4.4.0/lib/python3.6/site-packages/ipykernel_launcher.py:27: FutureWarning: Method .as_matrix will be removed in a future version. Use .values instead.\n",
      " 98%|█████████▊| 44/45 [00:17<00:00,  2.47it/s]"
     ]
    },
    {
     "name": "stdout",
     "output_type": "stream",
     "text": [
      "['th50_min', 'th50_sum']::Cross validation scores:[0.96551724 0.96551724 0.89308176 0.93375394 0.95583596]\n",
      "['th50_min', 'th50_sum']::Cross validation scores:0.9427412298255373\n"
     ]
    },
    {
     "name": "stderr",
     "output_type": "stream",
     "text": [
      "/Users/ryof-mbp/.pyenv/versions/anaconda3-4.4.0/lib/python3.6/site-packages/ipykernel_launcher.py:25: FutureWarning: Method .as_matrix will be removed in a future version. Use .values instead.\n",
      "/Users/ryof-mbp/.pyenv/versions/anaconda3-4.4.0/lib/python3.6/site-packages/ipykernel_launcher.py:27: FutureWarning: Method .as_matrix will be removed in a future version. Use .values instead.\n",
      "100%|██████████| 45/45 [00:18<00:00,  2.47it/s]\n",
      "  0%|          | 0/45 [00:00<?, ?it/s]"
     ]
    },
    {
     "name": "stdout",
     "output_type": "stream",
     "text": [
      "['th100_sum', 'th50_sum']::Cross validation scores:[0.94357367 0.92476489 0.91509434 0.91167192 0.93690852]\n",
      "['th100_sum', 'th50_sum']::Cross validation scores:0.9264026678513501\n"
     ]
    },
    {
     "name": "stderr",
     "output_type": "stream",
     "text": [
      "/Users/ryof-mbp/.pyenv/versions/anaconda3-4.4.0/lib/python3.6/site-packages/ipykernel_launcher.py:25: FutureWarning: Method .as_matrix will be removed in a future version. Use .values instead.\n",
      "/Users/ryof-mbp/.pyenv/versions/anaconda3-4.4.0/lib/python3.6/site-packages/ipykernel_launcher.py:27: FutureWarning: Method .as_matrix will be removed in a future version. Use .values instead.\n",
      "  2%|▏         | 1/45 [00:00<00:17,  2.56it/s]"
     ]
    },
    {
     "name": "stdout",
     "output_type": "stream",
     "text": [
      "['th100_median', 'th50_median']::Cross validation scores:[0.47826087 0.765625   0.78125    0.809375   0.59375   ]\n",
      "['th100_median', 'th50_median']::Cross validation scores:0.6856521739130435\n"
     ]
    },
    {
     "name": "stderr",
     "output_type": "stream",
     "text": [
      "/Users/ryof-mbp/.pyenv/versions/anaconda3-4.4.0/lib/python3.6/site-packages/ipykernel_launcher.py:25: FutureWarning: Method .as_matrix will be removed in a future version. Use .values instead.\n",
      "/Users/ryof-mbp/.pyenv/versions/anaconda3-4.4.0/lib/python3.6/site-packages/ipykernel_launcher.py:27: FutureWarning: Method .as_matrix will be removed in a future version. Use .values instead.\n",
      "  4%|▍         | 2/45 [00:00<00:16,  2.56it/s]"
     ]
    },
    {
     "name": "stdout",
     "output_type": "stream",
     "text": [
      "['th100_median', 'th100_max']::Cross validation scores:[0.47515528 0.784375   0.834375   0.771875   0.609375  ]\n",
      "['th100_median', 'th100_max']::Cross validation scores:0.6950310559006211\n"
     ]
    },
    {
     "name": "stderr",
     "output_type": "stream",
     "text": [
      "/Users/ryof-mbp/.pyenv/versions/anaconda3-4.4.0/lib/python3.6/site-packages/ipykernel_launcher.py:25: FutureWarning: Method .as_matrix will be removed in a future version. Use .values instead.\n",
      "/Users/ryof-mbp/.pyenv/versions/anaconda3-4.4.0/lib/python3.6/site-packages/ipykernel_launcher.py:27: FutureWarning: Method .as_matrix will be removed in a future version. Use .values instead.\n",
      "  7%|▋         | 3/45 [00:01<00:16,  2.55it/s]"
     ]
    },
    {
     "name": "stdout",
     "output_type": "stream",
     "text": [
      "['th100_median', 'th50_max']::Cross validation scores:[0.49068323 0.790625   0.76875    0.784375   0.565625  ]\n",
      "['th100_median', 'th50_max']::Cross validation scores:0.6800116459627329\n"
     ]
    },
    {
     "name": "stderr",
     "output_type": "stream",
     "text": [
      "/Users/ryof-mbp/.pyenv/versions/anaconda3-4.4.0/lib/python3.6/site-packages/ipykernel_launcher.py:25: FutureWarning: Method .as_matrix will be removed in a future version. Use .values instead.\n",
      "/Users/ryof-mbp/.pyenv/versions/anaconda3-4.4.0/lib/python3.6/site-packages/ipykernel_launcher.py:27: FutureWarning: Method .as_matrix will be removed in a future version. Use .values instead.\n",
      "  9%|▉         | 4/45 [00:01<00:16,  2.56it/s]"
     ]
    },
    {
     "name": "stdout",
     "output_type": "stream",
     "text": [
      "['th100_median', 'th100_mean']::Cross validation scores:[0.47515528 0.803125   0.834375   0.75625    0.5875    ]\n",
      "['th100_median', 'th100_mean']::Cross validation scores:0.6912810559006212\n"
     ]
    },
    {
     "name": "stderr",
     "output_type": "stream",
     "text": [
      "/Users/ryof-mbp/.pyenv/versions/anaconda3-4.4.0/lib/python3.6/site-packages/ipykernel_launcher.py:25: FutureWarning: Method .as_matrix will be removed in a future version. Use .values instead.\n",
      "/Users/ryof-mbp/.pyenv/versions/anaconda3-4.4.0/lib/python3.6/site-packages/ipykernel_launcher.py:27: FutureWarning: Method .as_matrix will be removed in a future version. Use .values instead.\n",
      " 11%|█         | 5/45 [00:01<00:15,  2.55it/s]"
     ]
    },
    {
     "name": "stdout",
     "output_type": "stream",
     "text": [
      "['th100_median', 'th50_mean']::Cross validation scores:[0.47515528 0.821875   0.778125   0.78125    0.596875  ]\n",
      "['th100_median', 'th50_mean']::Cross validation scores:0.6906560559006211\n"
     ]
    },
    {
     "name": "stderr",
     "output_type": "stream",
     "text": [
      "/Users/ryof-mbp/.pyenv/versions/anaconda3-4.4.0/lib/python3.6/site-packages/ipykernel_launcher.py:25: FutureWarning: Method .as_matrix will be removed in a future version. Use .values instead.\n",
      "/Users/ryof-mbp/.pyenv/versions/anaconda3-4.4.0/lib/python3.6/site-packages/ipykernel_launcher.py:27: FutureWarning: Method .as_matrix will be removed in a future version. Use .values instead.\n",
      " 13%|█▎        | 6/45 [00:02<00:15,  2.57it/s]"
     ]
    },
    {
     "name": "stdout",
     "output_type": "stream",
     "text": [
      "['th100_median', 'th100_min']::Cross validation scores:[0.46583851 0.7875     0.85       0.759375   0.58125   ]\n",
      "['th100_median', 'th100_min']::Cross validation scores:0.6887927018633541\n"
     ]
    },
    {
     "name": "stderr",
     "output_type": "stream",
     "text": [
      "/Users/ryof-mbp/.pyenv/versions/anaconda3-4.4.0/lib/python3.6/site-packages/ipykernel_launcher.py:25: FutureWarning: Method .as_matrix will be removed in a future version. Use .values instead.\n",
      "/Users/ryof-mbp/.pyenv/versions/anaconda3-4.4.0/lib/python3.6/site-packages/ipykernel_launcher.py:27: FutureWarning: Method .as_matrix will be removed in a future version. Use .values instead.\n",
      " 16%|█▌        | 7/45 [00:02<00:14,  2.57it/s]"
     ]
    },
    {
     "name": "stdout",
     "output_type": "stream",
     "text": [
      "['th100_median', 'th50_min']::Cross validation scores:[0.47515528 0.865625   0.85625    0.759375   0.61875   ]\n",
      "['th100_median', 'th50_min']::Cross validation scores:0.7150310559006211\n"
     ]
    },
    {
     "name": "stderr",
     "output_type": "stream",
     "text": [
      "/Users/ryof-mbp/.pyenv/versions/anaconda3-4.4.0/lib/python3.6/site-packages/ipykernel_launcher.py:25: FutureWarning: Method .as_matrix will be removed in a future version. Use .values instead.\n",
      "/Users/ryof-mbp/.pyenv/versions/anaconda3-4.4.0/lib/python3.6/site-packages/ipykernel_launcher.py:27: FutureWarning: Method .as_matrix will be removed in a future version. Use .values instead.\n",
      " 18%|█▊        | 8/45 [00:03<00:14,  2.57it/s]"
     ]
    },
    {
     "name": "stdout",
     "output_type": "stream",
     "text": [
      "['th100_median', 'th100_sum']::Cross validation scores:[0.47204969 0.803125   0.83125    0.7625     0.5875    ]\n",
      "['th100_median', 'th100_sum']::Cross validation scores:0.6912849378881988\n"
     ]
    },
    {
     "name": "stderr",
     "output_type": "stream",
     "text": [
      "/Users/ryof-mbp/.pyenv/versions/anaconda3-4.4.0/lib/python3.6/site-packages/ipykernel_launcher.py:25: FutureWarning: Method .as_matrix will be removed in a future version. Use .values instead.\n",
      "/Users/ryof-mbp/.pyenv/versions/anaconda3-4.4.0/lib/python3.6/site-packages/ipykernel_launcher.py:27: FutureWarning: Method .as_matrix will be removed in a future version. Use .values instead.\n",
      " 20%|██        | 9/45 [00:03<00:14,  2.56it/s]"
     ]
    },
    {
     "name": "stdout",
     "output_type": "stream",
     "text": [
      "['th100_median', 'th50_sum']::Cross validation scores:[0.47515528 0.825      0.796875   0.76875    0.590625  ]\n",
      "['th100_median', 'th50_sum']::Cross validation scores:0.691281055900621\n"
     ]
    },
    {
     "name": "stderr",
     "output_type": "stream",
     "text": [
      "/Users/ryof-mbp/.pyenv/versions/anaconda3-4.4.0/lib/python3.6/site-packages/ipykernel_launcher.py:25: FutureWarning: Method .as_matrix will be removed in a future version. Use .values instead.\n",
      "/Users/ryof-mbp/.pyenv/versions/anaconda3-4.4.0/lib/python3.6/site-packages/ipykernel_launcher.py:27: FutureWarning: Method .as_matrix will be removed in a future version. Use .values instead.\n",
      " 22%|██▏       | 10/45 [00:03<00:13,  2.56it/s]"
     ]
    },
    {
     "name": "stdout",
     "output_type": "stream",
     "text": [
      "['th50_median', 'th100_max']::Cross validation scores:[0.47826087 0.821875   0.8375     0.815625   0.59375   ]\n",
      "['th50_median', 'th100_max']::Cross validation scores:0.7094021739130435\n"
     ]
    },
    {
     "name": "stderr",
     "output_type": "stream",
     "text": [
      "/Users/ryof-mbp/.pyenv/versions/anaconda3-4.4.0/lib/python3.6/site-packages/ipykernel_launcher.py:25: FutureWarning: Method .as_matrix will be removed in a future version. Use .values instead.\n",
      "/Users/ryof-mbp/.pyenv/versions/anaconda3-4.4.0/lib/python3.6/site-packages/ipykernel_launcher.py:27: FutureWarning: Method .as_matrix will be removed in a future version. Use .values instead.\n",
      " 24%|██▍       | 11/45 [00:04<00:13,  2.56it/s]"
     ]
    },
    {
     "name": "stdout",
     "output_type": "stream",
     "text": [
      "['th50_median', 'th50_max']::Cross validation scores:[0.48447205 0.8        0.834375   0.796875   0.6       ]\n",
      "['th50_median', 'th50_max']::Cross validation scores:0.7031444099378883\n"
     ]
    },
    {
     "name": "stderr",
     "output_type": "stream",
     "text": [
      "/Users/ryof-mbp/.pyenv/versions/anaconda3-4.4.0/lib/python3.6/site-packages/ipykernel_launcher.py:25: FutureWarning: Method .as_matrix will be removed in a future version. Use .values instead.\n",
      "/Users/ryof-mbp/.pyenv/versions/anaconda3-4.4.0/lib/python3.6/site-packages/ipykernel_launcher.py:27: FutureWarning: Method .as_matrix will be removed in a future version. Use .values instead.\n",
      " 27%|██▋       | 12/45 [00:04<00:12,  2.56it/s]"
     ]
    },
    {
     "name": "stdout",
     "output_type": "stream",
     "text": [
      "['th50_median', 'th100_mean']::Cross validation scores:[0.48136646 0.828125   0.7875     0.809375   0.6       ]\n",
      "['th50_median', 'th100_mean']::Cross validation scores:0.7012732919254658\n"
     ]
    },
    {
     "name": "stderr",
     "output_type": "stream",
     "text": [
      "/Users/ryof-mbp/.pyenv/versions/anaconda3-4.4.0/lib/python3.6/site-packages/ipykernel_launcher.py:25: FutureWarning: Method .as_matrix will be removed in a future version. Use .values instead.\n",
      "/Users/ryof-mbp/.pyenv/versions/anaconda3-4.4.0/lib/python3.6/site-packages/ipykernel_launcher.py:27: FutureWarning: Method .as_matrix will be removed in a future version. Use .values instead.\n",
      " 29%|██▉       | 13/45 [00:05<00:12,  2.55it/s]"
     ]
    },
    {
     "name": "stdout",
     "output_type": "stream",
     "text": [
      "['th50_median', 'th50_mean']::Cross validation scores:[0.47515528 0.809375   0.834375   0.8125     0.596875  ]\n",
      "['th50_median', 'th50_mean']::Cross validation scores:0.7056560559006211\n"
     ]
    },
    {
     "name": "stderr",
     "output_type": "stream",
     "text": [
      "/Users/ryof-mbp/.pyenv/versions/anaconda3-4.4.0/lib/python3.6/site-packages/ipykernel_launcher.py:25: FutureWarning: Method .as_matrix will be removed in a future version. Use .values instead.\n",
      "/Users/ryof-mbp/.pyenv/versions/anaconda3-4.4.0/lib/python3.6/site-packages/ipykernel_launcher.py:27: FutureWarning: Method .as_matrix will be removed in a future version. Use .values instead.\n",
      " 31%|███       | 14/45 [00:05<00:12,  2.56it/s]"
     ]
    },
    {
     "name": "stdout",
     "output_type": "stream",
     "text": [
      "['th50_median', 'th100_min']::Cross validation scores:[0.47826087 0.75       0.81875    0.803125   0.60625   ]\n",
      "['th50_median', 'th100_min']::Cross validation scores:0.6912771739130434\n"
     ]
    },
    {
     "name": "stderr",
     "output_type": "stream",
     "text": [
      "/Users/ryof-mbp/.pyenv/versions/anaconda3-4.4.0/lib/python3.6/site-packages/ipykernel_launcher.py:25: FutureWarning: Method .as_matrix will be removed in a future version. Use .values instead.\n",
      "/Users/ryof-mbp/.pyenv/versions/anaconda3-4.4.0/lib/python3.6/site-packages/ipykernel_launcher.py:27: FutureWarning: Method .as_matrix will be removed in a future version. Use .values instead.\n",
      " 33%|███▎      | 15/45 [00:05<00:11,  2.56it/s]"
     ]
    },
    {
     "name": "stdout",
     "output_type": "stream",
     "text": [
      "['th50_median', 'th50_min']::Cross validation scores:[0.48136646 0.7875     0.8375     0.80625    0.60625   ]\n",
      "['th50_median', 'th50_min']::Cross validation scores:0.7037732919254658\n"
     ]
    },
    {
     "name": "stderr",
     "output_type": "stream",
     "text": [
      "/Users/ryof-mbp/.pyenv/versions/anaconda3-4.4.0/lib/python3.6/site-packages/ipykernel_launcher.py:25: FutureWarning: Method .as_matrix will be removed in a future version. Use .values instead.\n",
      "/Users/ryof-mbp/.pyenv/versions/anaconda3-4.4.0/lib/python3.6/site-packages/ipykernel_launcher.py:27: FutureWarning: Method .as_matrix will be removed in a future version. Use .values instead.\n",
      " 36%|███▌      | 16/45 [00:06<00:11,  2.56it/s]"
     ]
    },
    {
     "name": "stdout",
     "output_type": "stream",
     "text": [
      "['th50_median', 'th100_sum']::Cross validation scores:[0.48136646 0.83125    0.803125   0.809375   0.6       ]\n",
      "['th50_median', 'th100_sum']::Cross validation scores:0.7050232919254659\n"
     ]
    },
    {
     "name": "stderr",
     "output_type": "stream",
     "text": [
      "/Users/ryof-mbp/.pyenv/versions/anaconda3-4.4.0/lib/python3.6/site-packages/ipykernel_launcher.py:25: FutureWarning: Method .as_matrix will be removed in a future version. Use .values instead.\n",
      "/Users/ryof-mbp/.pyenv/versions/anaconda3-4.4.0/lib/python3.6/site-packages/ipykernel_launcher.py:27: FutureWarning: Method .as_matrix will be removed in a future version. Use .values instead.\n",
      " 38%|███▊      | 17/45 [00:06<00:10,  2.56it/s]"
     ]
    },
    {
     "name": "stdout",
     "output_type": "stream",
     "text": [
      "['th50_median', 'th50_sum']::Cross validation scores:[0.47515528 0.80625    0.8375     0.81875    0.60625   ]\n",
      "['th50_median', 'th50_sum']::Cross validation scores:0.7087810559006211\n"
     ]
    },
    {
     "name": "stderr",
     "output_type": "stream",
     "text": [
      "/Users/ryof-mbp/.pyenv/versions/anaconda3-4.4.0/lib/python3.6/site-packages/ipykernel_launcher.py:25: FutureWarning: Method .as_matrix will be removed in a future version. Use .values instead.\n",
      "/Users/ryof-mbp/.pyenv/versions/anaconda3-4.4.0/lib/python3.6/site-packages/ipykernel_launcher.py:27: FutureWarning: Method .as_matrix will be removed in a future version. Use .values instead.\n",
      " 40%|████      | 18/45 [00:07<00:10,  2.54it/s]"
     ]
    },
    {
     "name": "stdout",
     "output_type": "stream",
     "text": [
      "['th100_max', 'th50_max']::Cross validation scores:[0.46273292 0.790625   0.7125     0.8625     0.58125   ]\n",
      "['th100_max', 'th50_max']::Cross validation scores:0.6819215838509317\n"
     ]
    },
    {
     "name": "stderr",
     "output_type": "stream",
     "text": [
      "/Users/ryof-mbp/.pyenv/versions/anaconda3-4.4.0/lib/python3.6/site-packages/ipykernel_launcher.py:25: FutureWarning: Method .as_matrix will be removed in a future version. Use .values instead.\n",
      "/Users/ryof-mbp/.pyenv/versions/anaconda3-4.4.0/lib/python3.6/site-packages/ipykernel_launcher.py:27: FutureWarning: Method .as_matrix will be removed in a future version. Use .values instead.\n",
      " 42%|████▏     | 19/45 [00:07<00:10,  2.53it/s]"
     ]
    },
    {
     "name": "stdout",
     "output_type": "stream",
     "text": [
      "['th100_max', 'th100_mean']::Cross validation scores:[0.48757764 0.775      0.809375   0.7875     0.6       ]\n",
      "['th100_max', 'th100_mean']::Cross validation scores:0.6918905279503106\n"
     ]
    },
    {
     "name": "stderr",
     "output_type": "stream",
     "text": [
      "/Users/ryof-mbp/.pyenv/versions/anaconda3-4.4.0/lib/python3.6/site-packages/ipykernel_launcher.py:25: FutureWarning: Method .as_matrix will be removed in a future version. Use .values instead.\n",
      "/Users/ryof-mbp/.pyenv/versions/anaconda3-4.4.0/lib/python3.6/site-packages/ipykernel_launcher.py:27: FutureWarning: Method .as_matrix will be removed in a future version. Use .values instead.\n",
      " 44%|████▍     | 20/45 [00:07<00:09,  2.52it/s]"
     ]
    },
    {
     "name": "stdout",
     "output_type": "stream",
     "text": [
      "['th100_max', 'th50_mean']::Cross validation scores:[0.50310559 0.80625    0.828125   0.80625    0.596875  ]\n",
      "['th100_max', 'th50_mean']::Cross validation scores:0.7081211180124223\n"
     ]
    },
    {
     "name": "stderr",
     "output_type": "stream",
     "text": [
      "/Users/ryof-mbp/.pyenv/versions/anaconda3-4.4.0/lib/python3.6/site-packages/ipykernel_launcher.py:25: FutureWarning: Method .as_matrix will be removed in a future version. Use .values instead.\n",
      "/Users/ryof-mbp/.pyenv/versions/anaconda3-4.4.0/lib/python3.6/site-packages/ipykernel_launcher.py:27: FutureWarning: Method .as_matrix will be removed in a future version. Use .values instead.\n",
      " 47%|████▋     | 21/45 [00:08<00:09,  2.51it/s]"
     ]
    },
    {
     "name": "stdout",
     "output_type": "stream",
     "text": [
      "['th100_max', 'th100_min']::Cross validation scores:[0.4689441 0.715625  0.790625  0.859375  0.596875 ]\n",
      "['th100_max', 'th100_min']::Cross validation scores:0.6862888198757764\n"
     ]
    },
    {
     "name": "stderr",
     "output_type": "stream",
     "text": [
      "/Users/ryof-mbp/.pyenv/versions/anaconda3-4.4.0/lib/python3.6/site-packages/ipykernel_launcher.py:25: FutureWarning: Method .as_matrix will be removed in a future version. Use .values instead.\n",
      "/Users/ryof-mbp/.pyenv/versions/anaconda3-4.4.0/lib/python3.6/site-packages/ipykernel_launcher.py:27: FutureWarning: Method .as_matrix will be removed in a future version. Use .values instead.\n",
      " 49%|████▉     | 22/45 [00:08<00:09,  2.50it/s]"
     ]
    },
    {
     "name": "stdout",
     "output_type": "stream",
     "text": [
      "['th100_max', 'th50_min']::Cross validation scores:[0.47826087 0.796875   0.853125   0.825      0.60625   ]\n",
      "['th100_max', 'th50_min']::Cross validation scores:0.7119021739130436\n"
     ]
    },
    {
     "name": "stderr",
     "output_type": "stream",
     "text": [
      "/Users/ryof-mbp/.pyenv/versions/anaconda3-4.4.0/lib/python3.6/site-packages/ipykernel_launcher.py:25: FutureWarning: Method .as_matrix will be removed in a future version. Use .values instead.\n",
      "/Users/ryof-mbp/.pyenv/versions/anaconda3-4.4.0/lib/python3.6/site-packages/ipykernel_launcher.py:27: FutureWarning: Method .as_matrix will be removed in a future version. Use .values instead.\n",
      " 51%|█████     | 23/45 [00:09<00:08,  2.50it/s]"
     ]
    },
    {
     "name": "stdout",
     "output_type": "stream",
     "text": [
      "['th100_max', 'th100_sum']::Cross validation scores:[0.5     0.7625  0.79375 0.8     0.6    ]\n",
      "['th100_max', 'th100_sum']::Cross validation scores:0.69125\n"
     ]
    },
    {
     "name": "stderr",
     "output_type": "stream",
     "text": [
      "/Users/ryof-mbp/.pyenv/versions/anaconda3-4.4.0/lib/python3.6/site-packages/ipykernel_launcher.py:25: FutureWarning: Method .as_matrix will be removed in a future version. Use .values instead.\n",
      "/Users/ryof-mbp/.pyenv/versions/anaconda3-4.4.0/lib/python3.6/site-packages/ipykernel_launcher.py:27: FutureWarning: Method .as_matrix will be removed in a future version. Use .values instead.\n",
      " 53%|█████▎    | 24/45 [00:09<00:08,  2.49it/s]"
     ]
    },
    {
     "name": "stdout",
     "output_type": "stream",
     "text": [
      "['th100_max', 'th50_sum']::Cross validation scores:[0.50310559 0.796875   0.825      0.80625    0.596875  ]\n",
      "['th100_max', 'th50_sum']::Cross validation scores:0.7056211180124224\n"
     ]
    },
    {
     "name": "stderr",
     "output_type": "stream",
     "text": [
      "/Users/ryof-mbp/.pyenv/versions/anaconda3-4.4.0/lib/python3.6/site-packages/ipykernel_launcher.py:25: FutureWarning: Method .as_matrix will be removed in a future version. Use .values instead.\n",
      "/Users/ryof-mbp/.pyenv/versions/anaconda3-4.4.0/lib/python3.6/site-packages/ipykernel_launcher.py:27: FutureWarning: Method .as_matrix will be removed in a future version. Use .values instead.\n",
      " 56%|█████▌    | 25/45 [00:10<00:08,  2.49it/s]"
     ]
    },
    {
     "name": "stdout",
     "output_type": "stream",
     "text": [
      "['th50_max', 'th100_mean']::Cross validation scores:[0.4689441 0.759375  0.7625    0.803125  0.571875 ]\n",
      "['th50_max', 'th100_mean']::Cross validation scores:0.6731638198757763\n"
     ]
    },
    {
     "name": "stderr",
     "output_type": "stream",
     "text": [
      "/Users/ryof-mbp/.pyenv/versions/anaconda3-4.4.0/lib/python3.6/site-packages/ipykernel_launcher.py:25: FutureWarning: Method .as_matrix will be removed in a future version. Use .values instead.\n",
      "/Users/ryof-mbp/.pyenv/versions/anaconda3-4.4.0/lib/python3.6/site-packages/ipykernel_launcher.py:27: FutureWarning: Method .as_matrix will be removed in a future version. Use .values instead.\n",
      " 58%|█████▊    | 26/45 [00:10<00:07,  2.48it/s]"
     ]
    },
    {
     "name": "stdout",
     "output_type": "stream",
     "text": [
      "['th50_max', 'th50_mean']::Cross validation scores:[0.49378882 0.840625   0.821875   0.8        0.578125  ]\n",
      "['th50_max', 'th50_mean']::Cross validation scores:0.7068827639751551\n"
     ]
    },
    {
     "name": "stderr",
     "output_type": "stream",
     "text": [
      "/Users/ryof-mbp/.pyenv/versions/anaconda3-4.4.0/lib/python3.6/site-packages/ipykernel_launcher.py:25: FutureWarning: Method .as_matrix will be removed in a future version. Use .values instead.\n",
      "/Users/ryof-mbp/.pyenv/versions/anaconda3-4.4.0/lib/python3.6/site-packages/ipykernel_launcher.py:27: FutureWarning: Method .as_matrix will be removed in a future version. Use .values instead.\n",
      " 60%|██████    | 27/45 [00:10<00:07,  2.48it/s]"
     ]
    },
    {
     "name": "stdout",
     "output_type": "stream",
     "text": [
      "['th50_max', 'th100_min']::Cross validation scores:[0.46583851 0.75625    0.765625   0.846875   0.578125  ]\n",
      "['th50_max', 'th100_min']::Cross validation scores:0.6825427018633541\n"
     ]
    },
    {
     "name": "stderr",
     "output_type": "stream",
     "text": [
      "/Users/ryof-mbp/.pyenv/versions/anaconda3-4.4.0/lib/python3.6/site-packages/ipykernel_launcher.py:25: FutureWarning: Method .as_matrix will be removed in a future version. Use .values instead.\n",
      "/Users/ryof-mbp/.pyenv/versions/anaconda3-4.4.0/lib/python3.6/site-packages/ipykernel_launcher.py:27: FutureWarning: Method .as_matrix will be removed in a future version. Use .values instead.\n",
      " 62%|██████▏   | 28/45 [00:11<00:06,  2.48it/s]"
     ]
    },
    {
     "name": "stdout",
     "output_type": "stream",
     "text": [
      "['th50_max', 'th50_min']::Cross validation scores:[0.47826087 0.809375   0.84375    0.825      0.615625  ]\n",
      "['th50_max', 'th50_min']::Cross validation scores:0.7144021739130435\n"
     ]
    },
    {
     "name": "stderr",
     "output_type": "stream",
     "text": [
      "/Users/ryof-mbp/.pyenv/versions/anaconda3-4.4.0/lib/python3.6/site-packages/ipykernel_launcher.py:25: FutureWarning: Method .as_matrix will be removed in a future version. Use .values instead.\n",
      "/Users/ryof-mbp/.pyenv/versions/anaconda3-4.4.0/lib/python3.6/site-packages/ipykernel_launcher.py:27: FutureWarning: Method .as_matrix will be removed in a future version. Use .values instead.\n",
      " 64%|██████▍   | 29/45 [00:11<00:06,  2.48it/s]"
     ]
    },
    {
     "name": "stdout",
     "output_type": "stream",
     "text": [
      "['th50_max', 'th100_sum']::Cross validation scores:[0.4689441 0.771875  0.75      0.7875    0.571875 ]\n",
      "['th50_max', 'th100_sum']::Cross validation scores:0.6700388198757763\n"
     ]
    },
    {
     "name": "stderr",
     "output_type": "stream",
     "text": [
      "/Users/ryof-mbp/.pyenv/versions/anaconda3-4.4.0/lib/python3.6/site-packages/ipykernel_launcher.py:25: FutureWarning: Method .as_matrix will be removed in a future version. Use .values instead.\n",
      "/Users/ryof-mbp/.pyenv/versions/anaconda3-4.4.0/lib/python3.6/site-packages/ipykernel_launcher.py:27: FutureWarning: Method .as_matrix will be removed in a future version. Use .values instead.\n",
      " 67%|██████▋   | 30/45 [00:12<00:06,  2.48it/s]"
     ]
    },
    {
     "name": "stdout",
     "output_type": "stream",
     "text": [
      "['th50_max', 'th50_sum']::Cross validation scores:[0.48447205 0.81875    0.825      0.7875     0.5875    ]\n",
      "['th50_max', 'th50_sum']::Cross validation scores:0.7006444099378882\n"
     ]
    },
    {
     "name": "stderr",
     "output_type": "stream",
     "text": [
      "/Users/ryof-mbp/.pyenv/versions/anaconda3-4.4.0/lib/python3.6/site-packages/ipykernel_launcher.py:25: FutureWarning: Method .as_matrix will be removed in a future version. Use .values instead.\n",
      "/Users/ryof-mbp/.pyenv/versions/anaconda3-4.4.0/lib/python3.6/site-packages/ipykernel_launcher.py:27: FutureWarning: Method .as_matrix will be removed in a future version. Use .values instead.\n",
      " 69%|██████▉   | 31/45 [00:12<00:05,  2.47it/s]"
     ]
    },
    {
     "name": "stdout",
     "output_type": "stream",
     "text": [
      "['th100_mean', 'th50_mean']::Cross validation scores:[0.46273292 0.79375    0.771875   0.796875   0.596875  ]\n",
      "['th100_mean', 'th50_mean']::Cross validation scores:0.6844215838509318\n"
     ]
    },
    {
     "name": "stderr",
     "output_type": "stream",
     "text": [
      "/Users/ryof-mbp/.pyenv/versions/anaconda3-4.4.0/lib/python3.6/site-packages/ipykernel_launcher.py:25: FutureWarning: Method .as_matrix will be removed in a future version. Use .values instead.\n",
      "/Users/ryof-mbp/.pyenv/versions/anaconda3-4.4.0/lib/python3.6/site-packages/ipykernel_launcher.py:27: FutureWarning: Method .as_matrix will be removed in a future version. Use .values instead.\n",
      " 71%|███████   | 32/45 [00:12<00:05,  2.48it/s]"
     ]
    },
    {
     "name": "stdout",
     "output_type": "stream",
     "text": [
      "['th100_mean', 'th100_min']::Cross validation scores:[0.48136646 0.709375   0.79375    0.78125    0.59375   ]\n",
      "['th100_mean', 'th100_min']::Cross validation scores:0.6718982919254659\n"
     ]
    },
    {
     "name": "stderr",
     "output_type": "stream",
     "text": [
      "/Users/ryof-mbp/.pyenv/versions/anaconda3-4.4.0/lib/python3.6/site-packages/ipykernel_launcher.py:25: FutureWarning: Method .as_matrix will be removed in a future version. Use .values instead.\n",
      "/Users/ryof-mbp/.pyenv/versions/anaconda3-4.4.0/lib/python3.6/site-packages/ipykernel_launcher.py:27: FutureWarning: Method .as_matrix will be removed in a future version. Use .values instead.\n",
      " 73%|███████▎  | 33/45 [00:13<00:04,  2.48it/s]"
     ]
    },
    {
     "name": "stdout",
     "output_type": "stream",
     "text": [
      "['th100_mean', 'th50_min']::Cross validation scores:[0.47515528 0.8375     0.853125   0.828125   0.61875   ]\n",
      "['th100_mean', 'th50_min']::Cross validation scores:0.7225310559006212\n"
     ]
    },
    {
     "name": "stderr",
     "output_type": "stream",
     "text": [
      "/Users/ryof-mbp/.pyenv/versions/anaconda3-4.4.0/lib/python3.6/site-packages/ipykernel_launcher.py:25: FutureWarning: Method .as_matrix will be removed in a future version. Use .values instead.\n",
      "/Users/ryof-mbp/.pyenv/versions/anaconda3-4.4.0/lib/python3.6/site-packages/ipykernel_launcher.py:27: FutureWarning: Method .as_matrix will be removed in a future version. Use .values instead.\n",
      " 76%|███████▌  | 34/45 [00:13<00:04,  2.48it/s]"
     ]
    },
    {
     "name": "stdout",
     "output_type": "stream",
     "text": [
      "['th100_mean', 'th100_sum']::Cross validation scores:[0.48447205 0.7875     0.8        0.80625    0.59375   ]\n",
      "['th100_mean', 'th100_sum']::Cross validation scores:0.6943944099378881\n"
     ]
    },
    {
     "name": "stderr",
     "output_type": "stream",
     "text": [
      "/Users/ryof-mbp/.pyenv/versions/anaconda3-4.4.0/lib/python3.6/site-packages/ipykernel_launcher.py:25: FutureWarning: Method .as_matrix will be removed in a future version. Use .values instead.\n",
      "/Users/ryof-mbp/.pyenv/versions/anaconda3-4.4.0/lib/python3.6/site-packages/ipykernel_launcher.py:27: FutureWarning: Method .as_matrix will be removed in a future version. Use .values instead.\n",
      " 78%|███████▊  | 35/45 [00:14<00:04,  2.48it/s]"
     ]
    },
    {
     "name": "stdout",
     "output_type": "stream",
     "text": [
      "['th100_mean', 'th50_sum']::Cross validation scores:[0.45962733 0.80625    0.815625   0.8        0.596875  ]\n",
      "['th100_mean', 'th50_sum']::Cross validation scores:0.6956754658385093\n"
     ]
    },
    {
     "name": "stderr",
     "output_type": "stream",
     "text": [
      "/Users/ryof-mbp/.pyenv/versions/anaconda3-4.4.0/lib/python3.6/site-packages/ipykernel_launcher.py:25: FutureWarning: Method .as_matrix will be removed in a future version. Use .values instead.\n",
      "/Users/ryof-mbp/.pyenv/versions/anaconda3-4.4.0/lib/python3.6/site-packages/ipykernel_launcher.py:27: FutureWarning: Method .as_matrix will be removed in a future version. Use .values instead.\n",
      " 80%|████████  | 36/45 [00:14<00:03,  2.48it/s]"
     ]
    },
    {
     "name": "stdout",
     "output_type": "stream",
     "text": [
      "['th50_mean', 'th100_min']::Cross validation scores:[0.47515528 0.765625   0.8        0.7875     0.590625  ]\n",
      "['th50_mean', 'th100_min']::Cross validation scores:0.6837810559006211\n"
     ]
    },
    {
     "name": "stderr",
     "output_type": "stream",
     "text": [
      "/Users/ryof-mbp/.pyenv/versions/anaconda3-4.4.0/lib/python3.6/site-packages/ipykernel_launcher.py:25: FutureWarning: Method .as_matrix will be removed in a future version. Use .values instead.\n",
      "/Users/ryof-mbp/.pyenv/versions/anaconda3-4.4.0/lib/python3.6/site-packages/ipykernel_launcher.py:27: FutureWarning: Method .as_matrix will be removed in a future version. Use .values instead.\n",
      " 82%|████████▏ | 37/45 [00:14<00:03,  2.47it/s]"
     ]
    },
    {
     "name": "stdout",
     "output_type": "stream",
     "text": [
      "['th50_mean', 'th50_min']::Cross validation scores:[0.47826087 0.828125   0.825      0.853125   0.596875  ]\n",
      "['th50_mean', 'th50_min']::Cross validation scores:0.7162771739130435\n"
     ]
    },
    {
     "name": "stderr",
     "output_type": "stream",
     "text": [
      "/Users/ryof-mbp/.pyenv/versions/anaconda3-4.4.0/lib/python3.6/site-packages/ipykernel_launcher.py:25: FutureWarning: Method .as_matrix will be removed in a future version. Use .values instead.\n",
      "/Users/ryof-mbp/.pyenv/versions/anaconda3-4.4.0/lib/python3.6/site-packages/ipykernel_launcher.py:27: FutureWarning: Method .as_matrix will be removed in a future version. Use .values instead.\n",
      " 84%|████████▍ | 38/45 [00:15<00:02,  2.46it/s]"
     ]
    },
    {
     "name": "stdout",
     "output_type": "stream",
     "text": [
      "['th50_mean', 'th100_sum']::Cross validation scores:[0.4689441 0.79375   0.79375   0.796875  0.590625 ]\n",
      "['th50_mean', 'th100_sum']::Cross validation scores:0.6887888198757764\n"
     ]
    },
    {
     "name": "stderr",
     "output_type": "stream",
     "text": [
      "/Users/ryof-mbp/.pyenv/versions/anaconda3-4.4.0/lib/python3.6/site-packages/ipykernel_launcher.py:25: FutureWarning: Method .as_matrix will be removed in a future version. Use .values instead.\n",
      "/Users/ryof-mbp/.pyenv/versions/anaconda3-4.4.0/lib/python3.6/site-packages/ipykernel_launcher.py:27: FutureWarning: Method .as_matrix will be removed in a future version. Use .values instead.\n",
      " 87%|████████▋ | 39/45 [00:15<00:02,  2.45it/s]"
     ]
    },
    {
     "name": "stdout",
     "output_type": "stream",
     "text": [
      "['th50_mean', 'th50_sum']::Cross validation scores:[0.47515528 0.825      0.825      0.803125   0.590625  ]\n",
      "['th50_mean', 'th50_sum']::Cross validation scores:0.703781055900621\n"
     ]
    },
    {
     "name": "stderr",
     "output_type": "stream",
     "text": [
      "/Users/ryof-mbp/.pyenv/versions/anaconda3-4.4.0/lib/python3.6/site-packages/ipykernel_launcher.py:25: FutureWarning: Method .as_matrix will be removed in a future version. Use .values instead.\n",
      "/Users/ryof-mbp/.pyenv/versions/anaconda3-4.4.0/lib/python3.6/site-packages/ipykernel_launcher.py:27: FutureWarning: Method .as_matrix will be removed in a future version. Use .values instead.\n",
      " 89%|████████▉ | 40/45 [00:16<00:02,  2.44it/s]"
     ]
    },
    {
     "name": "stdout",
     "output_type": "stream",
     "text": [
      "['th100_min', 'th50_min']::Cross validation scores:[0.47515528 0.8375     0.828125   0.828125   0.61875   ]\n",
      "['th100_min', 'th50_min']::Cross validation scores:0.717531055900621\n"
     ]
    },
    {
     "name": "stderr",
     "output_type": "stream",
     "text": [
      "/Users/ryof-mbp/.pyenv/versions/anaconda3-4.4.0/lib/python3.6/site-packages/ipykernel_launcher.py:25: FutureWarning: Method .as_matrix will be removed in a future version. Use .values instead.\n",
      "/Users/ryof-mbp/.pyenv/versions/anaconda3-4.4.0/lib/python3.6/site-packages/ipykernel_launcher.py:27: FutureWarning: Method .as_matrix will be removed in a future version. Use .values instead.\n",
      " 91%|█████████ | 41/45 [00:16<00:01,  2.44it/s]"
     ]
    },
    {
     "name": "stdout",
     "output_type": "stream",
     "text": [
      "['th100_min', 'th100_sum']::Cross validation scores:[0.47826087 0.7375     0.803125   0.78125    0.59375   ]\n",
      "['th100_min', 'th100_sum']::Cross validation scores:0.6787771739130435\n"
     ]
    },
    {
     "name": "stderr",
     "output_type": "stream",
     "text": [
      "/Users/ryof-mbp/.pyenv/versions/anaconda3-4.4.0/lib/python3.6/site-packages/ipykernel_launcher.py:25: FutureWarning: Method .as_matrix will be removed in a future version. Use .values instead.\n",
      "/Users/ryof-mbp/.pyenv/versions/anaconda3-4.4.0/lib/python3.6/site-packages/ipykernel_launcher.py:27: FutureWarning: Method .as_matrix will be removed in a future version. Use .values instead.\n",
      " 93%|█████████▎| 42/45 [00:17<00:01,  2.44it/s]"
     ]
    },
    {
     "name": "stdout",
     "output_type": "stream",
     "text": [
      "['th100_min', 'th50_sum']::Cross validation scores:[0.46583851 0.771875   0.79375    0.79375    0.590625  ]\n",
      "['th100_min', 'th50_sum']::Cross validation scores:0.683167701863354\n"
     ]
    },
    {
     "name": "stderr",
     "output_type": "stream",
     "text": [
      "/Users/ryof-mbp/.pyenv/versions/anaconda3-4.4.0/lib/python3.6/site-packages/ipykernel_launcher.py:25: FutureWarning: Method .as_matrix will be removed in a future version. Use .values instead.\n",
      "/Users/ryof-mbp/.pyenv/versions/anaconda3-4.4.0/lib/python3.6/site-packages/ipykernel_launcher.py:27: FutureWarning: Method .as_matrix will be removed in a future version. Use .values instead.\n",
      " 96%|█████████▌| 43/45 [00:17<00:00,  2.44it/s]"
     ]
    },
    {
     "name": "stdout",
     "output_type": "stream",
     "text": [
      "['th50_min', 'th100_sum']::Cross validation scores:[0.47826087 0.8375     0.846875   0.825      0.61875   ]\n",
      "['th50_min', 'th100_sum']::Cross validation scores:0.7212771739130435\n"
     ]
    },
    {
     "name": "stderr",
     "output_type": "stream",
     "text": [
      "/Users/ryof-mbp/.pyenv/versions/anaconda3-4.4.0/lib/python3.6/site-packages/ipykernel_launcher.py:25: FutureWarning: Method .as_matrix will be removed in a future version. Use .values instead.\n",
      "/Users/ryof-mbp/.pyenv/versions/anaconda3-4.4.0/lib/python3.6/site-packages/ipykernel_launcher.py:27: FutureWarning: Method .as_matrix will be removed in a future version. Use .values instead.\n",
      " 98%|█████████▊| 44/45 [00:18<00:00,  2.44it/s]"
     ]
    },
    {
     "name": "stdout",
     "output_type": "stream",
     "text": [
      "['th50_min', 'th50_sum']::Cross validation scores:[0.47515528 0.846875   0.846875   0.84375    0.621875  ]\n",
      "['th50_min', 'th50_sum']::Cross validation scores:0.7269060559006212\n"
     ]
    },
    {
     "name": "stderr",
     "output_type": "stream",
     "text": [
      "/Users/ryof-mbp/.pyenv/versions/anaconda3-4.4.0/lib/python3.6/site-packages/ipykernel_launcher.py:25: FutureWarning: Method .as_matrix will be removed in a future version. Use .values instead.\n",
      "/Users/ryof-mbp/.pyenv/versions/anaconda3-4.4.0/lib/python3.6/site-packages/ipykernel_launcher.py:27: FutureWarning: Method .as_matrix will be removed in a future version. Use .values instead.\n",
      "100%|██████████| 45/45 [00:18<00:00,  2.43it/s]"
     ]
    },
    {
     "name": "stdout",
     "output_type": "stream",
     "text": [
      "['th100_sum', 'th50_sum']::Cross validation scores:[0.46583851 0.834375   0.8        0.796875   0.590625  ]\n",
      "['th100_sum', 'th50_sum']::Cross validation scores:0.6975427018633541\n"
     ]
    },
    {
     "name": "stderr",
     "output_type": "stream",
     "text": [
      "\n"
     ]
    }
   ],
   "source": [
    "results, classifier_df = create_classifiers(result_df_list)"
   ]
  },
  {
   "cell_type": "code",
   "execution_count": 304,
   "metadata": {
    "ExecuteTime": {
     "end_time": "2019-01-30T06:42:35.077641Z",
     "start_time": "2019-01-30T06:42:35.027926Z"
    },
    "collapsed": true
   },
   "outputs": [],
   "source": [
    "classifier_df['y_count'] = ['{}: percentage: {}% '.format(Counter(y_list), round(sum(y_list) / len(y_list), 4)) for y_list in classifier_df['y']]"
   ]
  },
  {
   "cell_type": "code",
   "execution_count": 305,
   "metadata": {
    "ExecuteTime": {
     "end_time": "2019-01-30T06:42:36.485018Z",
     "start_time": "2019-01-30T06:42:36.344265Z"
    }
   },
   "outputs": [
    {
     "data": {
      "text/html": [
       "<div>\n",
       "<style scoped>\n",
       "    .dataframe tbody tr th:only-of-type {\n",
       "        vertical-align: middle;\n",
       "    }\n",
       "\n",
       "    .dataframe tbody tr th {\n",
       "        vertical-align: top;\n",
       "    }\n",
       "\n",
       "    .dataframe thead th {\n",
       "        text-align: right;\n",
       "    }\n",
       "</style>\n",
       "<table border=\"1\" class=\"dataframe\">\n",
       "  <thead>\n",
       "    <tr style=\"text-align: right;\">\n",
       "      <th></th>\n",
       "      <th>source</th>\n",
       "      <th>pattern</th>\n",
       "      <th>clf</th>\n",
       "      <th>x</th>\n",
       "      <th>y</th>\n",
       "      <th>y_count</th>\n",
       "    </tr>\n",
       "  </thead>\n",
       "  <tbody>\n",
       "    <tr>\n",
       "      <th>0</th>\n",
       "      <td>0</td>\n",
       "      <td>['th100_median', 'th50_median']</td>\n",
       "      <td>(DecisionTreeClassifier(class_weight=None, cri...</td>\n",
       "      <td>[[592.5, 14802.0], [218.0, 12067.0], [557.0, 1...</td>\n",
       "      <td>[0, 0, 0, 0, 0, 0, 0, 0, 0, 0, 0, 0, 0, 0, 0, ...</td>\n",
       "      <td>Counter({0: 6102, 1: 5065}): percentage: 0.4536%</td>\n",
       "    </tr>\n",
       "    <tr>\n",
       "      <th>45</th>\n",
       "      <td>1</td>\n",
       "      <td>['th100_median', 'th50_median']</td>\n",
       "      <td>(DecisionTreeClassifier(class_weight=None, cri...</td>\n",
       "      <td>[[1683.0, 23497.5], [846.0, 15871.0], [900.5, ...</td>\n",
       "      <td>[0, 0, 0, 0, 0, 0, 0, 0, 0, 0, 0, 0, 0, 0, 0, ...</td>\n",
       "      <td>Counter({1: 2381, 0: 618}): percentage: 0.7939%</td>\n",
       "    </tr>\n",
       "    <tr>\n",
       "      <th>90</th>\n",
       "      <td>2</td>\n",
       "      <td>['th100_median', 'th50_median']</td>\n",
       "      <td>(DecisionTreeClassifier(class_weight=None, cri...</td>\n",
       "      <td>[[0.0, 73.0], [0.0, 17.0], [0.0, 26.5], [7.5, ...</td>\n",
       "      <td>[1, 1, 1, 1, 1, 1, 1, 1, 1, 1, 1, 1, 1, 1, 1, ...</td>\n",
       "      <td>Counter({1: 1283, 0: 307}): percentage: 0.8069%</td>\n",
       "    </tr>\n",
       "    <tr>\n",
       "      <th>135</th>\n",
       "      <td>3</td>\n",
       "      <td>['th100_median', 'th50_median']</td>\n",
       "      <td>(DecisionTreeClassifier(class_weight=None, cri...</td>\n",
       "      <td>[[1287.0, 9268.5], [1458.5, 11633.0], [2741.0,...</td>\n",
       "      <td>[0, 0, 0, 0, 0, 0, 0, 0, 0, 0, 0, 0, 0, 0, 0, ...</td>\n",
       "      <td>Counter({1: 836, 0: 766}): percentage: 0.5218%</td>\n",
       "    </tr>\n",
       "  </tbody>\n",
       "</table>\n",
       "</div>"
      ],
      "text/plain": [
       "    source                          pattern  \\\n",
       "0        0  ['th100_median', 'th50_median']   \n",
       "45       1  ['th100_median', 'th50_median']   \n",
       "90       2  ['th100_median', 'th50_median']   \n",
       "135      3  ['th100_median', 'th50_median']   \n",
       "\n",
       "                                                   clf  \\\n",
       "0    (DecisionTreeClassifier(class_weight=None, cri...   \n",
       "45   (DecisionTreeClassifier(class_weight=None, cri...   \n",
       "90   (DecisionTreeClassifier(class_weight=None, cri...   \n",
       "135  (DecisionTreeClassifier(class_weight=None, cri...   \n",
       "\n",
       "                                                     x  \\\n",
       "0    [[592.5, 14802.0], [218.0, 12067.0], [557.0, 1...   \n",
       "45   [[1683.0, 23497.5], [846.0, 15871.0], [900.5, ...   \n",
       "90   [[0.0, 73.0], [0.0, 17.0], [0.0, 26.5], [7.5, ...   \n",
       "135  [[1287.0, 9268.5], [1458.5, 11633.0], [2741.0,...   \n",
       "\n",
       "                                                     y  \\\n",
       "0    [0, 0, 0, 0, 0, 0, 0, 0, 0, 0, 0, 0, 0, 0, 0, ...   \n",
       "45   [0, 0, 0, 0, 0, 0, 0, 0, 0, 0, 0, 0, 0, 0, 0, ...   \n",
       "90   [1, 1, 1, 1, 1, 1, 1, 1, 1, 1, 1, 1, 1, 1, 1, ...   \n",
       "135  [0, 0, 0, 0, 0, 0, 0, 0, 0, 0, 0, 0, 0, 0, 0, ...   \n",
       "\n",
       "                                               y_count  \n",
       "0    Counter({0: 6102, 1: 5065}): percentage: 0.4536%   \n",
       "45    Counter({1: 2381, 0: 618}): percentage: 0.7939%   \n",
       "90    Counter({1: 1283, 0: 307}): percentage: 0.8069%   \n",
       "135    Counter({1: 836, 0: 766}): percentage: 0.5218%   "
      ]
     },
     "execution_count": 305,
     "metadata": {},
     "output_type": "execute_result"
    }
   ],
   "source": [
    "classifier_df[classifier_df['pattern'].isin([\"['th100_median', 'th50_median']\"])]"
   ]
  },
  {
   "cell_type": "code",
   "execution_count": 276,
   "metadata": {
    "ExecuteTime": {
     "end_time": "2019-01-30T06:27:55.527956Z",
     "start_time": "2019-01-30T06:27:55.505931Z"
    },
    "collapsed": true
   },
   "outputs": [],
   "source": [
    "results = np.array(results)\n",
    "array_all = []\n",
    "array0 = []\n",
    "array1 = []\n",
    "array2 = []\n",
    "array3 = []\n",
    "\n",
    "for result in results:\n",
    "    label = result[0]\n",
    "    array = result[1]\n",
    "    analysis = []\n",
    "    array  = [[round(j, 4) for j in i] for i in array]\n",
    "    analysis =  [min(i) for i in array]\n",
    "    array_all.append([result[0], array[0],array[1],array[2],array[3], analysis])\n"
   ]
  },
  {
   "cell_type": "code",
   "execution_count": null,
   "metadata": {
    "collapsed": true
   },
   "outputs": [],
   "source": [
    "a = pd.DataFrame(array_all, columns=['label', 'result1', 'result2', 'result3', 'result4','min'])\n",
    "a['min_avg'] = a['min'].apply(np.mean)\n",
    "a['min_min'] = a['min'].apply(np.min)\n",
    "a['min_max'] = a['min'].apply(np.max)\n",
    "a.sort_values(['min_max'], ascending=False)"
   ]
  },
  {
   "cell_type": "code",
   "execution_count": 72,
   "metadata": {
    "ExecuteTime": {
     "end_time": "2019-01-29T05:34:24.310524Z",
     "start_time": "2019-01-29T05:34:24.157208Z"
    }
   },
   "outputs": [
    {
     "data": {
      "text/html": [
       "<div>\n",
       "<style scoped>\n",
       "    .dataframe tbody tr th:only-of-type {\n",
       "        vertical-align: middle;\n",
       "    }\n",
       "\n",
       "    .dataframe tbody tr th {\n",
       "        vertical-align: top;\n",
       "    }\n",
       "\n",
       "    .dataframe thead th {\n",
       "        text-align: right;\n",
       "    }\n",
       "</style>\n",
       "<table border=\"1\" class=\"dataframe\">\n",
       "  <thead>\n",
       "    <tr style=\"text-align: right;\">\n",
       "      <th></th>\n",
       "      <th>source</th>\n",
       "      <th>pattern</th>\n",
       "      <th>clf</th>\n",
       "      <th>x</th>\n",
       "      <th>y</th>\n",
       "    </tr>\n",
       "  </thead>\n",
       "  <tbody>\n",
       "    <tr>\n",
       "      <th>0</th>\n",
       "      <td>0</td>\n",
       "      <td>['th100_median', 'th50_median']</td>\n",
       "      <td>(DecisionTreeClassifier(class_weight=None, cri...</td>\n",
       "      <td>[[592.5, 14802.0], [218.0, 12067.0], [557.0, 1...</td>\n",
       "      <td>[0, 0, 0, 0, 0, 0, 0, 0, 0, 0, 0, 0, 0, 0, 0, ...</td>\n",
       "    </tr>\n",
       "    <tr>\n",
       "      <th>1</th>\n",
       "      <td>1</td>\n",
       "      <td>['th100_median', 'th50_median']</td>\n",
       "      <td>(DecisionTreeClassifier(class_weight=None, cri...</td>\n",
       "      <td>[[592.5, 14802.0], [218.0, 12067.0], [557.0, 1...</td>\n",
       "      <td>[0, 0, 0, 0, 0, 0, 0, 0, 0, 0, 0, 0, 0, 0, 0, ...</td>\n",
       "    </tr>\n",
       "    <tr>\n",
       "      <th>2</th>\n",
       "      <td>2</td>\n",
       "      <td>['th100_median', 'th50_median']</td>\n",
       "      <td>(DecisionTreeClassifier(class_weight=None, cri...</td>\n",
       "      <td>[[1683.0, 23497.5], [846.0, 15871.0], [900.5, ...</td>\n",
       "      <td>[0, 0, 0, 0, 0, 0, 0, 0, 0, 0, 0, 0, 0, 0, 0, ...</td>\n",
       "    </tr>\n",
       "    <tr>\n",
       "      <th>3</th>\n",
       "      <td>3</td>\n",
       "      <td>['th100_median', 'th50_median']</td>\n",
       "      <td>(DecisionTreeClassifier(class_weight=None, cri...</td>\n",
       "      <td>[[0.0, 73.0], [0.0, 17.0], [0.0, 26.5], [7.5, ...</td>\n",
       "      <td>[1, 1, 1, 1, 1, 1, 1, 1, 1, 1, 1, 1, 1, 1, 1, ...</td>\n",
       "    </tr>\n",
       "  </tbody>\n",
       "</table>\n",
       "</div>"
      ],
      "text/plain": [
       "  source                          pattern  \\\n",
       "0      0  ['th100_median', 'th50_median']   \n",
       "1      1  ['th100_median', 'th50_median']   \n",
       "2      2  ['th100_median', 'th50_median']   \n",
       "3      3  ['th100_median', 'th50_median']   \n",
       "\n",
       "                                                 clf  \\\n",
       "0  (DecisionTreeClassifier(class_weight=None, cri...   \n",
       "1  (DecisionTreeClassifier(class_weight=None, cri...   \n",
       "2  (DecisionTreeClassifier(class_weight=None, cri...   \n",
       "3  (DecisionTreeClassifier(class_weight=None, cri...   \n",
       "\n",
       "                                                   x  \\\n",
       "0  [[592.5, 14802.0], [218.0, 12067.0], [557.0, 1...   \n",
       "1  [[592.5, 14802.0], [218.0, 12067.0], [557.0, 1...   \n",
       "2  [[1683.0, 23497.5], [846.0, 15871.0], [900.5, ...   \n",
       "3  [[0.0, 73.0], [0.0, 17.0], [0.0, 26.5], [7.5, ...   \n",
       "\n",
       "                                                   y  \n",
       "0  [0, 0, 0, 0, 0, 0, 0, 0, 0, 0, 0, 0, 0, 0, 0, ...  \n",
       "1  [0, 0, 0, 0, 0, 0, 0, 0, 0, 0, 0, 0, 0, 0, 0, ...  \n",
       "2  [0, 0, 0, 0, 0, 0, 0, 0, 0, 0, 0, 0, 0, 0, 0, ...  \n",
       "3  [1, 1, 1, 1, 1, 1, 1, 1, 1, 1, 1, 1, 1, 1, 1, ...  "
      ]
     },
     "execution_count": 72,
     "metadata": {},
     "output_type": "execute_result"
    }
   ],
   "source": [
    "classifier_df[[str(pattern) == k  for k in classifier_df['pattern'].values]]"
   ]
  },
  {
   "cell_type": "code",
   "execution_count": 31,
   "metadata": {
    "ExecuteTime": {
     "end_time": "2019-01-31T10:06:45.175201Z",
     "start_time": "2019-01-31T10:06:45.163309Z"
    }
   },
   "outputs": [
    {
     "ename": "NameError",
     "evalue": "name 'classifier_df' is not defined",
     "output_type": "error",
     "traceback": [
      "\u001b[0;31m---------------------------------------------------------------------------\u001b[0m",
      "\u001b[0;31mNameError\u001b[0m                                 Traceback (most recent call last)",
      "\u001b[0;32m<ipython-input-31-aa573e87d2d0>\u001b[0m in \u001b[0;36m<module>\u001b[0;34m()\u001b[0m\n\u001b[0;32m----> 1\u001b[0;31m \u001b[0muse_rows\u001b[0m \u001b[0;34m=\u001b[0m \u001b[0mclassifier_df\u001b[0m\u001b[0;34m[\u001b[0m\u001b[0;34m[\u001b[0m\u001b[0mstr\u001b[0m\u001b[0;34m(\u001b[0m\u001b[0mpattern\u001b[0m\u001b[0;34m)\u001b[0m \u001b[0;34m==\u001b[0m \u001b[0mk\u001b[0m  \u001b[0;32mfor\u001b[0m \u001b[0mk\u001b[0m \u001b[0;32min\u001b[0m \u001b[0mclassifier_df\u001b[0m\u001b[0;34m[\u001b[0m\u001b[0;34m'pattern'\u001b[0m\u001b[0;34m]\u001b[0m\u001b[0;34m.\u001b[0m\u001b[0mvalues\u001b[0m\u001b[0;34m]\u001b[0m\u001b[0;34m]\u001b[0m\u001b[0;34m.\u001b[0m\u001b[0mvalues\u001b[0m\u001b[0;34m\u001b[0m\u001b[0m\n\u001b[0m\u001b[1;32m      2\u001b[0m \u001b[0;32mfor\u001b[0m \u001b[0mrow\u001b[0m \u001b[0;32min\u001b[0m \u001b[0muse_rows\u001b[0m\u001b[0;34m:\u001b[0m\u001b[0;34m\u001b[0m\u001b[0m\n\u001b[1;32m      3\u001b[0m     \u001b[0mclf\u001b[0m \u001b[0;34m=\u001b[0m \u001b[0mrow\u001b[0m\u001b[0;34m[\u001b[0m\u001b[0;36m2\u001b[0m\u001b[0;34m]\u001b[0m\u001b[0;34m\u001b[0m\u001b[0m\n\u001b[1;32m      4\u001b[0m     \u001b[0mprint\u001b[0m\u001b[0;34m(\u001b[0m\u001b[0mclf\u001b[0m\u001b[0;34m)\u001b[0m\u001b[0;34m\u001b[0m\u001b[0m\n",
      "\u001b[0;31mNameError\u001b[0m: name 'classifier_df' is not defined"
     ]
    }
   ],
   "source": [
    "use_rows = classifier_df[[str(pattern) == k  for k in classifier_df['pattern'].values]].values\n",
    "for row in use_rows:\n",
    "    clf = row[2]\n",
    "    print(clf)"
   ]
  },
  {
   "cell_type": "code",
   "execution_count": 30,
   "metadata": {
    "ExecuteTime": {
     "end_time": "2019-01-31T10:06:43.431609Z",
     "start_time": "2019-01-31T10:06:43.338543Z"
    }
   },
   "outputs": [
    {
     "ename": "NameError",
     "evalue": "name 'classifier_array' is not defined",
     "output_type": "error",
     "traceback": [
      "\u001b[0;31m---------------------------------------------------------------------------\u001b[0m",
      "\u001b[0;31mNameError\u001b[0m                                 Traceback (most recent call last)",
      "\u001b[0;32m<ipython-input-30-d576aaa29ec3>\u001b[0m in \u001b[0;36m<module>\u001b[0;34m()\u001b[0m\n\u001b[0;32m----> 1\u001b[0;31m \u001b[0mclassifier_array\u001b[0m\u001b[0;34m.\u001b[0m\u001b[0mappend\u001b[0m\u001b[0;34m(\u001b[0m\u001b[0;34m[\u001b[0m\u001b[0mstr\u001b[0m\u001b[0;34m(\u001b[0m\u001b[0mi\u001b[0m\u001b[0;34m)\u001b[0m\u001b[0;34m,\u001b[0m \u001b[0mstr\u001b[0m\u001b[0;34m(\u001b[0m\u001b[0mpattern\u001b[0m\u001b[0;34m)\u001b[0m\u001b[0;34m,\u001b[0m \u001b[0mclf\u001b[0m\u001b[0;34m,\u001b[0m \u001b[0mdata_x\u001b[0m\u001b[0;34m,\u001b[0m \u001b[0mdata_y\u001b[0m\u001b[0;34m]\u001b[0m\u001b[0;34m)\u001b[0m\u001b[0;34m\u001b[0m\u001b[0m\n\u001b[0m\u001b[1;32m      2\u001b[0m \u001b[0mclassifier_df\u001b[0m \u001b[0;34m=\u001b[0m \u001b[0mpd\u001b[0m\u001b[0;34m.\u001b[0m\u001b[0mDataFrame\u001b[0m\u001b[0;34m(\u001b[0m\u001b[0mdata\u001b[0m\u001b[0;34m=\u001b[0m\u001b[0mclassifier_array\u001b[0m\u001b[0;34m,\u001b[0m \u001b[0mcolumns\u001b[0m\u001b[0;34m=\u001b[0m\u001b[0;34m[\u001b[0m\u001b[0;34m'source'\u001b[0m\u001b[0;34m,\u001b[0m \u001b[0;34m'pattern'\u001b[0m\u001b[0;34m,\u001b[0m \u001b[0;34m'clf'\u001b[0m\u001b[0;34m,\u001b[0m \u001b[0;34m'x'\u001b[0m\u001b[0;34m,\u001b[0m \u001b[0;34m'y'\u001b[0m\u001b[0;34m]\u001b[0m\u001b[0;34m)\u001b[0m\u001b[0;34m\u001b[0m\u001b[0m\n\u001b[1;32m      3\u001b[0m \u001b[0;31m# classifierの性能診断\u001b[0m\u001b[0;34m\u001b[0m\u001b[0;34m\u001b[0m\u001b[0m\n\u001b[1;32m      4\u001b[0m \u001b[0mresults_all\u001b[0m \u001b[0;34m=\u001b[0m \u001b[0;34m[\u001b[0m\u001b[0;34m]\u001b[0m\u001b[0;34m\u001b[0m\u001b[0m\n\u001b[1;32m      5\u001b[0m \u001b[0;32mfor\u001b[0m \u001b[0mpattern\u001b[0m \u001b[0;32min\u001b[0m \u001b[0mpatterns\u001b[0m\u001b[0;34m:\u001b[0m\u001b[0;34m\u001b[0m\u001b[0m\n",
      "\u001b[0;31mNameError\u001b[0m: name 'classifier_array' is not defined"
     ]
    }
   ],
   "source": [
    "classifier_array.append([str(i), str(pattern), clf, data_x, data_y])\n",
    "classifier_df = pd.DataFrame(data=classifier_array, columns=['source', 'pattern', 'clf', 'x', 'y'])\n",
    "# classifierの性能診断\n",
    "results_all = []\n",
    "for pattern in patterns:\n",
    "    use_rows = classifier_df[[str(pattern) == k  for k in classifier_df['pattern'].values]].values\n",
    "    clf_results = []\n",
    "    for row in use_rows:\n",
    "        clf = row[2]\n",
    "        print(clf)\n",
    "        clf_results.append([clf.score(row[3], row[4]) for row in use_rows])\n",
    "#         classifier_keys = [k for k, v in classifier_dict.items() if pattern in k ]\n",
    "    results_all.append([pattern, clf_results])"
   ]
  },
  {
   "cell_type": "code",
   "execution_count": 44,
   "metadata": {
    "ExecuteTime": {
     "end_time": "2019-01-29T05:01:56.380375Z",
     "start_time": "2019-01-29T05:01:53.240455Z"
    }
   },
   "outputs": [
    {
     "name": "stderr",
     "output_type": "stream",
     "text": [
      "/Users/ryof-mbp/.pyenv/versions/anaconda3-4.4.0/lib/python3.6/site-packages/ipykernel_launcher.py:26: FutureWarning: Method .as_matrix will be removed in a future version. Use .values instead.\n",
      "/Users/ryof-mbp/.pyenv/versions/anaconda3-4.4.0/lib/python3.6/site-packages/ipykernel_launcher.py:28: FutureWarning: Method .as_matrix will be removed in a future version. Use .values instead.\n"
     ]
    },
    {
     "name": "stdout",
     "output_type": "stream",
     "text": [
      "['th100_median', 'th50_median']::Cross validation scores:[0.8978389  0.94488189 0.90354331 0.94094488 0.92322835]\n",
      "['th100_median', 'th50_median']::Cross validation scores:0.9220874650000773\n"
     ]
    },
    {
     "name": "stderr",
     "output_type": "stream",
     "text": [
      "/Users/ryof-mbp/.pyenv/versions/anaconda3-4.4.0/lib/python3.6/site-packages/ipykernel_launcher.py:26: FutureWarning: Method .as_matrix will be removed in a future version. Use .values instead.\n",
      "/Users/ryof-mbp/.pyenv/versions/anaconda3-4.4.0/lib/python3.6/site-packages/ipykernel_launcher.py:28: FutureWarning: Method .as_matrix will be removed in a future version. Use .values instead.\n"
     ]
    },
    {
     "name": "stdout",
     "output_type": "stream",
     "text": [
      "['th100_median', 'th50_median']::Cross validation scores:[0.92972247 0.95120859 0.97268249 0.95656068 0.95118674]\n",
      "['th100_median', 'th50_median']::Cross validation scores:0.9522721960532599\n"
     ]
    },
    {
     "name": "stderr",
     "output_type": "stream",
     "text": [
      "/Users/ryof-mbp/.pyenv/versions/anaconda3-4.4.0/lib/python3.6/site-packages/ipykernel_launcher.py:26: FutureWarning: Method .as_matrix will be removed in a future version. Use .values instead.\n",
      "/Users/ryof-mbp/.pyenv/versions/anaconda3-4.4.0/lib/python3.6/site-packages/ipykernel_launcher.py:28: FutureWarning: Method .as_matrix will be removed in a future version. Use .values instead.\n"
     ]
    },
    {
     "name": "stdout",
     "output_type": "stream",
     "text": [
      "['th100_median', 'th50_median']::Cross validation scores:[0.95174709 0.94166667 0.93333333 0.90317195 0.93155259]\n",
      "['th100_median', 'th50_median']::Cross validation scores:0.9322943258175718\n"
     ]
    },
    {
     "name": "stderr",
     "output_type": "stream",
     "text": [
      "/Users/ryof-mbp/.pyenv/versions/anaconda3-4.4.0/lib/python3.6/site-packages/ipykernel_launcher.py:26: FutureWarning: Method .as_matrix will be removed in a future version. Use .values instead.\n",
      "/Users/ryof-mbp/.pyenv/versions/anaconda3-4.4.0/lib/python3.6/site-packages/ipykernel_launcher.py:28: FutureWarning: Method .as_matrix will be removed in a future version. Use .values instead.\n"
     ]
    },
    {
     "name": "stdout",
     "output_type": "stream",
     "text": [
      "['th100_median', 'th50_median']::Cross validation scores:[0.96238245 0.95297806 0.91194969 0.94637224 0.95583596]\n",
      "['th100_median', 'th50_median']::Cross validation scores:0.9459036777989468\n"
     ]
    }
   ],
   "source": [
    "classifier_dict = create_classifiers(result_df_list)"
   ]
  },
  {
   "cell_type": "code",
   "execution_count": null,
   "metadata": {
    "collapsed": true
   },
   "outputs": [],
   "source": [
    "pred_x = clf.predict(data_x)\n",
    "a  =list(zip(pred_x,data_y))\n",
    "Counter(a)"
   ]
  },
  {
   "cell_type": "code",
   "execution_count": 35,
   "metadata": {
    "ExecuteTime": {
     "end_time": "2019-01-29T04:29:08.874559Z",
     "start_time": "2019-01-29T04:29:08.866480Z"
    },
    "collapsed": true
   },
   "outputs": [],
   "source": [
    "def check_params(x, label='mean'):\n",
    "    X = scipy.stats.zscore(x)\n",
    "    data_x = pd.DataFrame(X)\n",
    "    clf = AdaBoostClassifier()\n",
    "    clf.fit(data_x, data_y)\n",
    "    # cv　で分割数を決定する。デフォルトは3。\n",
    "    scores = cross_val_score(clf, data_x, data_y,cv=5)\n",
    "\n",
    "    print(\"{}::Cross validation scores:{}\".format(label, scores))\n",
    "    print(\"{}::Cross validation scores:{}\".format(label, scores.mean()))\n",
    "    return label, scores.mean()"
   ]
  },
  {
   "cell_type": "code",
   "execution_count": null,
   "metadata": {
    "collapsed": true
   },
   "outputs": [],
   "source": [
    "results['th50_mean'] = results['th50'] - np.mean(results_x[:, 0])\n",
    "results['th100_mean'] = results['th100'] - np.mean(results_x[:, 1])\n",
    "results['th50_std'] = results['th50_mean'] / np.std(results_x[:, 0])\n",
    "results['th100_std'] = results['th100_mean'] / np.std(results_x[:, 1])"
   ]
  },
  {
   "cell_type": "markdown",
   "metadata": {},
   "source": [
    "### 可視化"
   ]
  },
  {
   "cell_type": "code",
   "execution_count": 105,
   "metadata": {
    "ExecuteTime": {
     "end_time": "2019-01-29T06:05:09.644388Z",
     "start_time": "2019-01-29T06:05:09.322321Z"
    }
   },
   "outputs": [
    {
     "data": {
      "text/plain": [
       "array([[-1012.27241049,    -3.74473597],\n",
       "       [-1067.70862662,   -11.67101765],\n",
       "       [-1058.30426852,   -10.32638058],\n",
       "       ...,\n",
       "       [ -709.27890515,    10.78749449],\n",
       "       [ -866.2543922 ,    -7.61621337],\n",
       "       [ -935.05768088,     7.29544207]])"
      ]
     },
     "execution_count": 105,
     "metadata": {},
     "output_type": "execute_result"
    }
   ],
   "source": [
    "ss = StandardScaler()\n",
    "pca = PCA()\n",
    "pca.fit_transform(x)"
   ]
  },
  {
   "cell_type": "code",
   "execution_count": 114,
   "metadata": {
    "ExecuteTime": {
     "end_time": "2019-01-29T06:11:51.779695Z",
     "start_time": "2019-01-29T06:11:51.777395Z"
    },
    "collapsed": true
   },
   "outputs": [],
   "source": [
    "df = grouped_table_list[0]"
   ]
  },
  {
   "cell_type": "code",
   "execution_count": 188,
   "metadata": {
    "ExecuteTime": {
     "end_time": "2019-01-29T06:31:01.830188Z",
     "start_time": "2019-01-29T06:31:01.816247Z"
    },
    "collapsed": true
   },
   "outputs": [],
   "source": [
    "from mpl_toolkits.mplot3d import Axes3D\n",
    "from sklearn.decomposition import PCA\n",
    "\n",
    "def byplot(X, df):\n",
    "    ss = StandardScaler()\n",
    "#     X = ss.fit_transform(df[['full']].values)\n",
    "#     X = df['full'].values\n",
    "    print(X.shape)\n",
    "    pca = PCA(n_components=3)\n",
    "    X = pca.fit_transform(X)\n",
    "    \n",
    "    fig = plt.figure(figsize=(10,8))\n",
    "    ax = fig.add_subplot(111, projection='3d')\n",
    "    wake_index = df[df[\"flag\"]==0].index\n",
    "    sleep_index = df[df[\"flag\"]==2].index\n",
    "#     wake_index = df[df[\"flag\"]==0].index\n",
    "#     sleep_index = df[df[\"flag\"]==2].index\n",
    "    \n",
    "        ax.scatter(X[wake_index, 0], X[wake_index, 1], X[wake_index, 2], color='red', alpha=0.2, label='malignant')\n",
    "    ax.scatter(X[sleep_index, 0], X[sleep_index, 1], X[sleep_index, 2], color='blue',alpha=0.2, label='benign',)\n",
    "    \n",
    "#     ax.set_xlim(-10, 10)\n",
    "#     ax.set_ylim(-10, 10)    \n",
    "#     ax.set_zlim(-5, 5)    \n",
    "#     ax.view_init(30,45)\n",
    "    plt.legend(loc='upper left')\n",
    "    \n",
    "    print('寄与率: {}'.format(pca.explained_variance_ratio_))"
   ]
  },
  {
   "cell_type": "code",
   "execution_count": 189,
   "metadata": {
    "ExecuteTime": {
     "end_time": "2019-01-29T06:31:06.729046Z",
     "start_time": "2019-01-29T06:31:02.598922Z"
    }
   },
   "outputs": [
    {
     "name": "stdout",
     "output_type": "stream",
     "text": [
      "(500, 272000)\n",
      "寄与率: [0.12613977 0.10063922 0.02852805]\n"
     ]
    },
    {
     "name": "stderr",
     "output_type": "stream",
     "text": [
      "/Users/ryof-mbp/.pyenv/versions/anaconda3-4.4.0/lib/python3.6/site-packages/matplotlib/font_manager.py:1297: UserWarning: findfont: Font family ['IPAexGothic'] not found. Falling back to DejaVu Sans\n",
      "  (prop.get_family(), self.defaultFamily[fontext]))\n"
     ]
    },
    {
     "data": {
      "image/png": "[encoded data removed]",
      "text/plain": [
       "<matplotlib.figure.Figure at 0x12723c278>"
      ]
     },
     "metadata": {},
     "output_type": "display_data"
    }
   ],
   "source": [
    "byplot(XX,df_full)"
   ]
  },
  {
   "cell_type": "code",
   "execution_count": 185,
   "metadata": {
    "ExecuteTime": {
     "end_time": "2019-01-29T06:30:17.719161Z",
     "start_time": "2019-01-29T06:30:17.714252Z"
    }
   },
   "outputs": [
    {
     "data": {
      "text/plain": [
       "250"
      ]
     },
     "execution_count": 185,
     "metadata": {},
     "output_type": "execute_result"
    }
   ],
   "source": [
    "len(df_full[df_full['flag'] == 0])"
   ]
  },
  {
   "cell_type": "code",
   "execution_count": 165,
   "metadata": {
    "ExecuteTime": {
     "end_time": "2019-01-29T06:26:11.629838Z",
     "start_time": "2019-01-29T06:26:07.467809Z"
    },
    "collapsed": true
   },
   "outputs": [],
   "source": [
    "\n",
    "pca = PCA(n_components=3)\n",
    "X = pca.fit_transform(XX)\n"
   ]
  },
  {
   "cell_type": "code",
   "execution_count": 128,
   "metadata": {
    "ExecuteTime": {
     "end_time": "2019-01-29T06:17:58.464624Z",
     "start_time": "2019-01-29T06:17:58.451070Z"
    },
    "collapsed": true
   },
   "outputs": [],
   "source": [
    "def create_df_from_pickle(pickle_file):\n",
    "    with open(BASEFILE +pickle_file, 'rb') as f:\n",
    "        results_ = pickle.load(f)\n",
    "    results = pd.DataFrame(columns=['movie', 'count', 'full'], data=results_)\n",
    "    start_time = datetime.datetime.strptime(pickle_file , 'video_Record-%Y-%m-%d_%H-%M-%S.avi_full.pickle')\n",
    "    time_per_frame =  datetime.timedelta(seconds= 1/ video_fps)\n",
    "    results['datetime'] = [start_time + time_per_frame * (i+1)  for i in results['count']]\n",
    "    frame_flag_dates = []\n",
    "    flags = []\n",
    "    for frame_date in tqdm(results['datetime'].values):\n",
    "        frame_flag_date = pd.to_datetime(frame_date) - (pd.to_datetime(frame_date)  - datetime.datetime(2018, 2,15, 8) ) % datetime.timedelta(seconds=8)\n",
    "        flag = df[df['datetime'].isin([frame_flag_date])]['flag'].values\n",
    "        if list(flag) == []:\n",
    "            flags.append(None)\n",
    "        else:\n",
    "            flags.append(flag[0])\n",
    "        frame_flag_dates.append(frame_flag_date)\n",
    "    results['flag_datetime'] = frame_flag_dates\n",
    "    results['flag'] = flags\n",
    "    return results"
   ]
  },
  {
   "cell_type": "code",
   "execution_count": 130,
   "metadata": {
    "ExecuteTime": {
     "end_time": "2019-01-29T06:18:06.784915Z",
     "start_time": "2019-01-29T06:18:06.782451Z"
    },
    "collapsed": true
   },
   "outputs": [],
   "source": [
    "import datetime"
   ]
  },
  {
   "cell_type": "code",
   "execution_count": 139,
   "metadata": {
    "ExecuteTime": {
     "end_time": "2019-01-29T06:20:50.975418Z",
     "start_time": "2019-01-29T06:20:50.818963Z"
    },
    "collapsed": true
   },
   "outputs": [],
   "source": [
    "BASEFILE = 'Movie4/'\n",
    "movies = !ls $BASEFILE | grep .avi | grep -v pickle\n",
    "pickles =  !ls $BASEFILE | grep .avi | grep  pickle\n",
    "csv_file = !ls $BASEFILE | grep csv\n",
    "df = pd.read_csv(BASEFILE + csv_file[0], header=7)\n",
    "df['time'] = ['{}:{}:{}'.format(i*8//3600, ( i * 8 //60) % 60, i * 8 %60) for i in df.index]\n",
    "df['flag'] = [0 if flag == 'Wake' else (1 if flag =='REM' else 2) for flag in df[df.columns[0]]]\n",
    "df['datetime'] = [datetime.datetime(2018, 2, 15, 8) +  datetime.timedelta(seconds=i * 8) for i in df.index]"
   ]
  },
  {
   "cell_type": "code",
   "execution_count": 140,
   "metadata": {
    "ExecuteTime": {
     "end_time": "2019-01-29T06:20:52.497041Z",
     "start_time": "2019-01-29T06:20:51.082642Z"
    }
   },
   "outputs": [
    {
     "name": "stderr",
     "output_type": "stream",
     "text": [
      "100%|██████████| 250/250 [00:00<00:00, 677.27it/s]\n",
      "100%|██████████| 250/250 [00:00<00:00, 664.89it/s]\n"
     ]
    }
   ],
   "source": [
    "BASEFILE = 'Movie/'\n",
    "df1 = create_df_from_pickle( 'video_Record-2018-02-15_08-53-59.avi_full.pickle')\n",
    "df2 = create_df_from_pickle('video_Record-2018-02-15_10-06-28.avi_full.pickle')\n",
    "df_full  = pd.concat([df1,df2], axis=0)"
   ]
  },
  {
   "cell_type": "code",
   "execution_count": 142,
   "metadata": {
    "ExecuteTime": {
     "end_time": "2019-01-29T06:21:17.209800Z",
     "start_time": "2019-01-29T06:21:17.207162Z"
    },
    "collapsed": true
   },
   "outputs": [],
   "source": [
    "X = df_full['full'].values\n",
    "y = df_full['flag'].values"
   ]
  },
  {
   "cell_type": "code",
   "execution_count": 143,
   "metadata": {
    "ExecuteTime": {
     "end_time": "2019-01-29T06:21:53.070448Z",
     "start_time": "2019-01-29T06:21:21.643141Z"
    },
    "collapsed": true
   },
   "outputs": [],
   "source": [
    "XX = np.array([list(a) for a in X])"
   ]
  },
  {
   "cell_type": "code",
   "execution_count": 166,
   "metadata": {
    "ExecuteTime": {
     "end_time": "2019-01-29T06:26:40.133021Z",
     "start_time": "2019-01-29T06:26:39.757357Z"
    },
    "collapsed": true
   },
   "outputs": [],
   "source": [
    "df_full['full'] = XX"
   ]
  }
 ],
 "metadata": {
  "kernelspec": {
   "display_name": "Python 3",
   "language": "python",
   "name": "python3"
  },
  "language_info": {
   "codemirror_mode": {
    "name": "ipython",
    "version": 3
   },
   "file_extension": ".py",
   "mimetype": "text/x-python",
   "name": "python",
   "nbconvert_exporter": "python",
   "pygments_lexer": "ipython3",
   "version": "3.6.1"
  },
  "toc": {
   "nav_menu": {},
   "number_sections": true,
   "sideBar": true,
   "skip_h1_title": true,
   "toc_cell": true,
   "toc_position": {},
   "toc_section_display": "block",
   "toc_window_display": false
  }
 },
 "nbformat": 4,
 "nbformat_minor": 2
}
